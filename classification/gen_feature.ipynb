{
 "cells": [
  {
   "cell_type": "markdown",
   "metadata": {},
   "source": [
    "# 导出特征向量"
   ]
  },
  {
   "cell_type": "code",
   "execution_count": 1,
   "metadata": {},
   "outputs": [
    {
     "name": "stderr",
     "output_type": "stream",
     "text": [
      "/home/wson/anaconda3/envs/tf/lib/python3.6/site-packages/h5py/__init__.py:36: FutureWarning: Conversion of the second argument of issubdtype from `float` to `np.floating` is deprecated. In future, it will be treated as `np.float64 == np.dtype(float).type`.\n",
      "  from ._conv import register_converters as _register_converters\n",
      "Using TensorFlow backend.\n"
     ]
    }
   ],
   "source": [
    "from keras.models import *\n",
    "from keras.layers import *\n",
    "from keras.applications import *\n",
    "from keras.preprocessing.image import *\n",
    "import h5py\n",
    "import os"
   ]
  },
  {
   "cell_type": "code",
   "execution_count": 2,
   "metadata": {
    "scrolled": true
   },
   "outputs": [
    {
     "name": "stdout",
     "output_type": "stream",
     "text": [
      "channels_last\n"
     ]
    }
   ],
   "source": [
    "print(K.image_data_format())"
   ]
  },
  {
   "cell_type": "code",
   "execution_count": 4,
   "metadata": {},
   "outputs": [],
   "source": [
    "def gen_feature(MODEL, model_name: str, input_size: tuple, pre_process_func, batch_size=64, \n",
    "                pretrain_dir='pretrain', finetune_dir='finetune', val_dir='val', test_dir='test'):\n",
    "    \n",
    "    x = Input((input_size[0], input_size[1], 3))\n",
    "    x = Lambda(pre_process_func)(x)\n",
    "    \n",
    "    base_model = MODEL(input_tensor=x, weights='imagenet', include_top=False)\n",
    "    model = Model(base_model.input, GlobalAveragePooling2D()(base_model.output))\n",
    "    \n",
    "    img_gen = ImageDataGenerator()\n",
    "    pretrain_data_gen = img_gen.flow_from_directory(pretrain_dir, input_size, shuffle=False, batch_size=batch_size, class_mode='binary')\n",
    "    finetune_data_gen = img_gen.flow_from_directory(finetune_dir, input_size, shuffle=False, batch_size=batch_size, class_mode='binary')\n",
    "    val_data_gen = img_gen.flow_from_directory(val_dir, input_size, shuffle=False, batch_size=batch_size, class_mode='binary')\n",
    "    test_data_gen = img_gen.flow_from_directory(test_dir, input_size, shuffle=False, batch_size=batch_size, class_mode=None)\n",
    "    \n",
    "    pretrain_feature = model.predict_generator(pretrain_data_gen, len(pretrain_data_gen), verbose=1)\n",
    "    finetune_feature = model.predict_generator(finetune_data_gen, len(finetune_data_gen), verbose=1)\n",
    "    val_feature = model.predict_generator(val_data_gen, len(val_data_gen), verbose=1)\n",
    "    test_feature = model.predict_generator(test_data_gen, len(test_data_gen), verbose=1)\n",
    "    \n",
    "    \n",
    "    h5_file = \"feature_%s.h5\"%model_name\n",
    "    if os.path.isfile(h5_file):\n",
    "        os.remove(h5_file)\n",
    "    \n",
    "    with h5py.File(h5_file) as h:\n",
    "        h.create_dataset(\"pretrain\", data=pretrain_feature)\n",
    "        h.create_dataset(\"pretrain_label\", data=pretrain_data_gen.classes)\n",
    "        h.create_dataset(\"finetune\", data=finetune_feature)\n",
    "        h.create_dataset(\"finetune_label\", data=finetune_data_gen.classes)\n",
    "        h.create_dataset(\"val\", data=val_feature)\n",
    "        h.create_dataset(\"val_label\", data=val_data_gen.classes)\n",
    "        h.create_dataset(\"test\", data=test_feature)\n",
    "        \n",
    "    "
   ]
  },
  {
   "cell_type": "code",
   "execution_count": null,
   "metadata": {
    "scrolled": true
   },
   "outputs": [],
   "source": [
    "gen_feature(ResNet50, 'ResNet50', (224, 224), pre_process_func=resnet50.preprocess_input)"
   ]
  },
  {
   "cell_type": "code",
   "execution_count": null,
   "metadata": {},
   "outputs": [],
   "source": [
    "gen_feature(InceptionV3, 'InceptionV3', (299, 299), pre_process_func=inception_v3.preprocess_input)"
   ]
  },
  {
   "cell_type": "code",
   "execution_count": 5,
   "metadata": {
    "scrolled": false
   },
   "outputs": [
    {
     "name": "stdout",
     "output_type": "stream",
     "text": [
      "Found 1991 images belonging to 2 classes.\n",
      "Found 17925 images belonging to 2 classes.\n",
      "Found 4979 images belonging to 2 classes.\n",
      "Found 12500 images belonging to 1 classes.\n",
      "16/16 [==============================] - 26s 2s/step\n",
      "141/141 [==============================] - 194s 1s/step\n",
      "39/39 [==============================] - 54s 1s/step\n",
      "98/98 [==============================] - 140s 1s/step\n"
     ]
    }
   ],
   "source": [
    "gen_feature(Xception, 'Xception', (299, 299), pre_process_func=xception.preprocess_input, batch_size=128)"
   ]
  },
  {
   "cell_type": "code",
   "execution_count": null,
   "metadata": {},
   "outputs": [],
   "source": [
    "gen_feature(InceptionResNetV2, 'InceptionResNetV2', (299, 299), pre_process_func=inception_resnet_v2.preprocess_input)"
   ]
  },
  {
   "cell_type": "code",
   "execution_count": null,
   "metadata": {},
   "outputs": [],
   "source": []
  }
 ],
 "metadata": {
  "kernelspec": {
   "display_name": "Python 3",
   "language": "python",
   "name": "python3"
  },
  "language_info": {
   "codemirror_mode": {
    "name": "ipython",
    "version": 3
   },
   "file_extension": ".py",
   "mimetype": "text/x-python",
   "name": "python",
   "nbconvert_exporter": "python",
   "pygments_lexer": "ipython3",
   "version": "3.6.4"
  }
 },
 "nbformat": 4,
 "nbformat_minor": 2
}
