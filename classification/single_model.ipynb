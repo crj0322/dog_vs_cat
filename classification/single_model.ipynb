{
 "cells": [
  {
   "cell_type": "code",
   "execution_count": 1,
   "metadata": {},
   "outputs": [
    {
     "name": "stderr",
     "output_type": "stream",
     "text": [
      "D:\\ProgramData\\Anaconda3\\envs\\tf36\\lib\\site-packages\\h5py\\__init__.py:36: FutureWarning: Conversion of the second argument of issubdtype from `float` to `np.floating` is deprecated. In future, it will be treated as `np.float64 == np.dtype(float).type`.\n",
      "  from ._conv import register_converters as _register_converters\n",
      "Using TensorFlow backend.\n"
     ]
    }
   ],
   "source": [
    "import h5py\n",
    "import numpy as np\n",
    "import pandas as pd\n",
    "from sklearn.utils import shuffle\n",
    "from keras.models import *\n",
    "from keras.layers import *\n",
    "from keras.preprocessing.image import *\n",
    "from keras.callbacks import *\n",
    "from IPython.display import SVG\n",
    "from keras.utils.vis_utils import model_to_dot, plot_model\n",
    "import matplotlib.pyplot as plt\n",
    "\n",
    "import os\n",
    "np.random.seed(2018)\n"
   ]
  },
  {
   "cell_type": "markdown",
   "metadata": {},
   "source": [
    "### Read feature："
   ]
  },
  {
   "cell_type": "code",
   "execution_count": 5,
   "metadata": {},
   "outputs": [],
   "source": [
    "h5_file = \"feature_Xception.h5\"\n",
    "\n",
    "with h5py.File(h5_file, 'r') as h:\n",
    "    X_train = np.array(h['train'])\n",
    "    X_test = np.array(h['test'])\n",
    "    y_train = np.array(h['label'])\n",
    "\n",
    "X_train, y_train = shuffle(X_train, y_train)\n"
   ]
  },
  {
   "cell_type": "code",
   "execution_count": 3,
   "metadata": {},
   "outputs": [
    {
     "name": "stdout",
     "output_type": "stream",
     "text": [
      "(24929, 2048)\n"
     ]
    }
   ],
   "source": [
    "print(X_train.shape)"
   ]
  },
  {
   "cell_type": "code",
   "execution_count": 3,
   "metadata": {},
   "outputs": [
    {
     "name": "stdout",
     "output_type": "stream",
     "text": [
      "24929/24929 [==============================] - 1s 49us/step\n",
      "[0.008222366773257656, 0.9982349873617231]\n"
     ]
    }
   ],
   "source": [
    "if os.path.exists('Xception_top_layers.h5'):\n",
    "    input_tensor = Input(X_train.shape[1:])\n",
    "    top_model = load_model('Xception_top_layers.h5')\n",
    "    x = top_model(input_tensor)\n",
    "\n",
    "    model = Model(input_tensor, x)\n",
    "    model.compile(optimizer='adam', loss='binary_crossentropy', metrics=['accuracy'])\n",
    "\n",
    "    total_acc = model.evaluate(X_train, y_train, batch_size=256, verbose=1)\n",
    "    print(total_acc)"
   ]
  },
  {
   "cell_type": "markdown",
   "metadata": {},
   "source": [
    "### Model adjustment:"
   ]
  },
  {
   "cell_type": "code",
   "execution_count": 6,
   "metadata": {},
   "outputs": [],
   "source": [
    "model = Sequential()\n",
    "model.add(BatchNormalization(axis=1, name='top_bn_1', input_shape=(2048,)))\n",
    "model.add(Dropout(0.7))\n",
    "model.add(Dense(1024, activation=None, name='top_fc_1'))\n",
    "model.add(BatchNormalization(axis=1, name='top_bn_2'))\n",
    "model.add(Activation('relu'))\n",
    "model.add(Dropout(0.7))\n",
    "model.add(Dense(1, activation='sigmoid', name='top_sigmoid'))\n",
    "\n",
    "model.compile(optimizer='adam', loss='binary_crossentropy', metrics=['accuracy'])\n"
   ]
  },
  {
   "cell_type": "code",
   "execution_count": 10,
   "metadata": {},
   "outputs": [],
   "source": [
    "input_tensor = Input(X_train.shape[1:])\n",
    "x = input_tensor\n",
    "x = BatchNormalization(axis=1, name='top_bn_1')(x)\n",
    "x = Dropout(0.7)(x)\n",
    "x = Dense(1024, activation=None, name='top_fc_1')(x)\n",
    "x = BatchNormalization(axis=1, name='top_bn_2')(x)\n",
    "x = Activation('relu')(x)\n",
    "x = Dropout(0.7)(x)\n",
    "x = Dense(1, activation='sigmoid', name='top_sigmoid')(x)\n",
    "\n",
    "model = Model(input_tensor, x)\n",
    "model.compile(optimizer='adam', loss='binary_crossentropy', metrics=['accuracy'])\n"
   ]
  },
  {
   "cell_type": "code",
   "execution_count": 7,
   "metadata": {
    "scrolled": true
   },
   "outputs": [
    {
     "name": "stdout",
     "output_type": "stream",
     "text": [
      "Train on 19943 samples, validate on 4986 samples\n",
      "Epoch 1/20\n",
      "19943/19943 [==============================] - 2s 107us/step - loss: 0.0705 - acc: 0.9776 - val_loss: 0.0299 - val_acc: 0.9916\n",
      "Epoch 2/20\n",
      "19943/19943 [==============================] - 1s 51us/step - loss: 0.0432 - acc: 0.9864 - val_loss: 0.0255 - val_acc: 0.9924\n",
      "Epoch 3/20\n",
      "19943/19943 [==============================] - 1s 48us/step - loss: 0.0361 - acc: 0.9880 - val_loss: 0.0249 - val_acc: 0.9918\n",
      "Epoch 4/20\n",
      "19943/19943 [==============================] - 1s 45us/step - loss: 0.0315 - acc: 0.9884 - val_loss: 0.0241 - val_acc: 0.9938\n",
      "Epoch 5/20\n",
      "19943/19943 [==============================] - 1s 46us/step - loss: 0.0316 - acc: 0.9886 - val_loss: 0.0236 - val_acc: 0.9928\n",
      "Epoch 6/20\n",
      "19943/19943 [==============================] - 1s 52us/step - loss: 0.0287 - acc: 0.9892 - val_loss: 0.0231 - val_acc: 0.9928\n",
      "Epoch 7/20\n",
      "19943/19943 [==============================] - 1s 50us/step - loss: 0.0293 - acc: 0.9896 - val_loss: 0.0223 - val_acc: 0.9916\n",
      "Epoch 8/20\n",
      "19943/19943 [==============================] - 1s 42us/step - loss: 0.0266 - acc: 0.9905 - val_loss: 0.0229 - val_acc: 0.9926\n",
      "Epoch 9/20\n",
      "19943/19943 [==============================] - 1s 42us/step - loss: 0.0262 - acc: 0.9905 - val_loss: 0.0229 - val_acc: 0.9924\n",
      "Epoch 10/20\n",
      "19943/19943 [==============================] - 1s 44us/step - loss: 0.0256 - acc: 0.9910 - val_loss: 0.0228 - val_acc: 0.9922\n",
      "Epoch 11/20\n",
      "19943/19943 [==============================] - 1s 49us/step - loss: 0.0245 - acc: 0.9911 - val_loss: 0.0224 - val_acc: 0.9926\n",
      "Epoch 12/20\n",
      "19943/19943 [==============================] - 1s 43us/step - loss: 0.0227 - acc: 0.9918 - val_loss: 0.0219 - val_acc: 0.9934\n",
      "Epoch 13/20\n",
      "19943/19943 [==============================] - 1s 47us/step - loss: 0.0222 - acc: 0.9911 - val_loss: 0.0220 - val_acc: 0.9930\n",
      "Epoch 14/20\n",
      "19943/19943 [==============================] - 1s 42us/step - loss: 0.0210 - acc: 0.9917 - val_loss: 0.0229 - val_acc: 0.9930\n",
      "Epoch 15/20\n",
      "19943/19943 [==============================] - 1s 43us/step - loss: 0.0213 - acc: 0.9917 - val_loss: 0.0231 - val_acc: 0.9920\n",
      "Epoch 16/20\n",
      "19943/19943 [==============================] - 1s 43us/step - loss: 0.0189 - acc: 0.9932 - val_loss: 0.0239 - val_acc: 0.9928\n",
      "Epoch 17/20\n",
      "19943/19943 [==============================] - 1s 49us/step - loss: 0.0186 - acc: 0.9932 - val_loss: 0.0234 - val_acc: 0.9924\n"
     ]
    }
   ],
   "source": [
    "callbacks = [EarlyStopping(monitor='val_loss', patience=5, verbose=0, mode='min'), \n",
    "             ModelCheckpoint(filepath='Xception_top_layers.h5', monitor='val_loss', verbose=0, save_best_only=True)]\n",
    "\n",
    "history = model.fit(X_train, y_train, batch_size=256, epochs=20, validation_split=0.2, callbacks=callbacks)"
   ]
  },
  {
   "cell_type": "code",
   "execution_count": 8,
   "metadata": {},
   "outputs": [
    {
     "name": "stdout",
     "output_type": "stream",
     "text": [
      "dict_keys(['val_loss', 'val_acc', 'loss', 'acc'])\n"
     ]
    },
    {
     "data": {
      "image/png": "[encoded data removed]",
      "text/plain": [
       "<matplotlib.figure.Figure at 0x2bb5bb06eb8>"
      ]
     },
     "metadata": {},
     "output_type": "display_data"
    },
    {
     "data": {
      "image/png": "[encoded data removed]",
      "text/plain": [
       "<matplotlib.figure.Figure at 0x2bb5bb08b00>"
      ]
     },
     "metadata": {},
     "output_type": "display_data"
    }
   ],
   "source": [
    "# list all data in history\n",
    "print(history.history.keys())\n",
    "# summarize history for accuracy\n",
    "plt.plot(history.history['acc'])\n",
    "plt.plot(history.history['val_acc'])\n",
    "plt.title('model accuracy')\n",
    "plt.ylabel('accuracy')\n",
    "plt.xlabel('epoch')\n",
    "plt.legend(['train', 'test'], loc='upper left')\n",
    "plt.show()\n",
    "# summarize history for loss\n",
    "plt.plot(history.history['loss'])\n",
    "plt.plot(history.history['val_loss'])\n",
    "plt.title('model loss')\n",
    "plt.ylabel('loss')\n",
    "plt.xlabel('epoch')\n",
    "plt.legend(['train', 'test'], loc='upper left')\n",
    "plt.show()"
   ]
  },
  {
   "cell_type": "markdown",
   "metadata": {},
   "source": [
    "### Train in total training data:"
   ]
  },
  {
   "cell_type": "code",
   "execution_count": 9,
   "metadata": {},
   "outputs": [
    {
     "name": "stdout",
     "output_type": "stream",
     "text": [
      "Epoch 1/10\n",
      "24929/24929 [==============================] - 1s 39us/step - loss: 0.0203 - acc: 0.9925\n",
      "Epoch 2/10\n",
      "24929/24929 [==============================] - 1s 38us/step - loss: 0.0212 - acc: 0.9921\n",
      "Epoch 3/10\n",
      "24929/24929 [==============================] - 1s 38us/step - loss: 0.0205 - acc: 0.9929\n",
      "Epoch 4/10\n",
      "24929/24929 [==============================] - 1s 37us/step - loss: 0.0202 - acc: 0.9927\n",
      "Epoch 5/10\n",
      "24929/24929 [==============================] - 1s 38us/step - loss: 0.0186 - acc: 0.9937\n",
      "Epoch 6/10\n",
      "24929/24929 [==============================] - 1s 38us/step - loss: 0.0182 - acc: 0.9937\n",
      "Epoch 7/10\n",
      "24929/24929 [==============================] - 1s 39us/step - loss: 0.0182 - acc: 0.9931\n",
      "Epoch 8/10\n",
      "24929/24929 [==============================] - 1s 38us/step - loss: 0.0166 - acc: 0.9945\n",
      "Epoch 9/10\n",
      "24929/24929 [==============================] - 1s 38us/step - loss: 0.0170 - acc: 0.9940\n",
      "Epoch 10/10\n",
      "24929/24929 [==============================] - 1s 37us/step - loss: 0.0158 - acc: 0.9939\n"
     ]
    },
    {
     "data": {
      "text/plain": [
       "<keras.callbacks.History at 0x2b9afec4240>"
      ]
     },
     "execution_count": 9,
     "metadata": {},
     "output_type": "execute_result"
    }
   ],
   "source": [
    "model.fit(X_train, y_train, batch_size=256, epochs=10, validation_split=0)"
   ]
  },
  {
   "cell_type": "code",
   "execution_count": 10,
   "metadata": {
    "scrolled": true
   },
   "outputs": [],
   "source": [
    "if os.path.isfile('Xception_top_layers.h5'):\n",
    "    os.remove('Xception_top_layers.h5')\n",
    "\n",
    "model.save('Xception_top_layers.h5')\n",
    "model.save_weights('Xception_top_layers_weights.h5')\n",
    "# SVG(model_to_dot(model, show_shapes=True).create(prog='dot', format='svg'))"
   ]
  },
  {
   "cell_type": "markdown",
   "metadata": {},
   "source": [
    "### Predict:"
   ]
  },
  {
   "cell_type": "code",
   "execution_count": 5,
   "metadata": {},
   "outputs": [
    {
     "name": "stdout",
     "output_type": "stream",
     "text": [
      "12500/12500 [==============================] - 1s 55us/step\n"
     ]
    }
   ],
   "source": [
    "y_pred = model.predict(X_test, verbose=1)\n",
    "y_pred = y_pred.clip(min=0.005, max=0.995)\n"
   ]
  },
  {
   "cell_type": "code",
   "execution_count": 6,
   "metadata": {},
   "outputs": [
    {
     "name": "stdout",
     "output_type": "stream",
     "text": [
      "Found 12500 images belonging to 1 classes.\n"
     ]
    },
    {
     "data": {
      "text/html": [
       "<div>\n",
       "<style scoped>\n",
       "    .dataframe tbody tr th:only-of-type {\n",
       "        vertical-align: middle;\n",
       "    }\n",
       "\n",
       "    .dataframe tbody tr th {\n",
       "        vertical-align: top;\n",
       "    }\n",
       "\n",
       "    .dataframe thead th {\n",
       "        text-align: right;\n",
       "    }\n",
       "</style>\n",
       "<table border=\"1\" class=\"dataframe\">\n",
       "  <thead>\n",
       "    <tr style=\"text-align: right;\">\n",
       "      <th></th>\n",
       "      <th>id</th>\n",
       "      <th>label</th>\n",
       "    </tr>\n",
       "  </thead>\n",
       "  <tbody>\n",
       "    <tr>\n",
       "      <th>0</th>\n",
       "      <td>1</td>\n",
       "      <td>0.98</td>\n",
       "    </tr>\n",
       "    <tr>\n",
       "      <th>1</th>\n",
       "      <td>2</td>\n",
       "      <td>0.98</td>\n",
       "    </tr>\n",
       "    <tr>\n",
       "      <th>2</th>\n",
       "      <td>3</td>\n",
       "      <td>0.98</td>\n",
       "    </tr>\n",
       "    <tr>\n",
       "      <th>3</th>\n",
       "      <td>4</td>\n",
       "      <td>0.98</td>\n",
       "    </tr>\n",
       "    <tr>\n",
       "      <th>4</th>\n",
       "      <td>5</td>\n",
       "      <td>0.02</td>\n",
       "    </tr>\n",
       "    <tr>\n",
       "      <th>5</th>\n",
       "      <td>6</td>\n",
       "      <td>0.02</td>\n",
       "    </tr>\n",
       "    <tr>\n",
       "      <th>6</th>\n",
       "      <td>7</td>\n",
       "      <td>0.02</td>\n",
       "    </tr>\n",
       "    <tr>\n",
       "      <th>7</th>\n",
       "      <td>8</td>\n",
       "      <td>0.02</td>\n",
       "    </tr>\n",
       "    <tr>\n",
       "      <th>8</th>\n",
       "      <td>9</td>\n",
       "      <td>0.02</td>\n",
       "    </tr>\n",
       "    <tr>\n",
       "      <th>9</th>\n",
       "      <td>10</td>\n",
       "      <td>0.02</td>\n",
       "    </tr>\n",
       "  </tbody>\n",
       "</table>\n",
       "</div>"
      ],
      "text/plain": [
       "   id  label\n",
       "0   1   0.98\n",
       "1   2   0.98\n",
       "2   3   0.98\n",
       "3   4   0.98\n",
       "4   5   0.02\n",
       "5   6   0.02\n",
       "6   7   0.02\n",
       "7   8   0.02\n",
       "8   9   0.02\n",
       "9  10   0.02"
      ]
     },
     "execution_count": 6,
     "metadata": {},
     "output_type": "execute_result"
    }
   ],
   "source": [
    "df = pd.read_csv(\"sampleSubmission.csv\")\n",
    "\n",
    "image_size = (229, 229)\n",
    "gen = ImageDataGenerator()\n",
    "test_generator = gen.flow_from_directory(\"test\", image_size, shuffle=False, \n",
    "                                         batch_size=16, class_mode=None)\n",
    "\n",
    "for i, fname in enumerate(test_generator.filenames):\n",
    "    index = int(fname[fname.rfind('\\\\')+1:fname.rfind('.')])\n",
    "    df.loc[index-1, ['label']] = y_pred[i]\n",
    "\n",
    "df.to_csv('pred.csv', index=None)\n",
    "df.head(10)"
   ]
  },
  {
   "cell_type": "code",
   "execution_count": null,
   "metadata": {},
   "outputs": [],
   "source": []
  }
 ],
 "metadata": {
  "kernelspec": {
   "display_name": "Python 3",
   "language": "python",
   "name": "python3"
  },
  "language_info": {
   "codemirror_mode": {
    "name": "ipython",
    "version": 3
   },
   "file_extension": ".py",
   "mimetype": "text/x-python",
   "name": "python",
   "nbconvert_exporter": "python",
   "pygments_lexer": "ipython3",
   "version": "3.6.4"
  }
 },
 "nbformat": 4,
 "nbformat_minor": 2
}
