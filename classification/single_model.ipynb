{
 "cells": [
  {
   "cell_type": "markdown",
   "metadata": {},
   "source": [
    "# 单模型分类器"
   ]
  },
  {
   "cell_type": "code",
   "execution_count": 1,
   "metadata": {},
   "outputs": [
    {
     "name": "stderr",
     "output_type": "stream",
     "text": [
      "/home/wson/anaconda3/envs/tf/lib/python3.6/site-packages/h5py/__init__.py:36: FutureWarning: Conversion of the second argument of issubdtype from `float` to `np.floating` is deprecated. In future, it will be treated as `np.float64 == np.dtype(float).type`.\n",
      "  from ._conv import register_converters as _register_converters\n",
      "Using TensorFlow backend.\n"
     ]
    }
   ],
   "source": [
    "import h5py\n",
    "import numpy as np\n",
    "import pandas as pd\n",
    "from sklearn.utils import shuffle\n",
    "from keras.models import *\n",
    "from keras.layers import *\n",
    "from keras.preprocessing.image import *\n",
    "from keras.callbacks import *\n",
    "import matplotlib.pyplot as plt\n",
    "import os\n",
    "\n",
    "np.random.seed(2018)\n"
   ]
  },
  {
   "cell_type": "code",
   "execution_count": 2,
   "metadata": {},
   "outputs": [],
   "source": [
    "def plot_history(history, model_name):\n",
    "    # list all data in history\n",
    "    # print(history.history.keys())\n",
    "    # summarize history for accuracy\n",
    "    plt.plot(history.history['acc'])\n",
    "    plt.plot(history.history['val_acc'])\n",
    "    plt.title('%s accuracy'%model_name)\n",
    "    plt.ylabel('accuracy')\n",
    "    plt.xlabel('epoch')\n",
    "    plt.legend(['train', 'test'], loc='upper left')\n",
    "    plt.show()\n",
    "    # summarize history for loss\n",
    "    plt.plot(history.history['loss'])\n",
    "    plt.plot(history.history['val_loss'])\n",
    "    plt.title('%s loss'%model_name)\n",
    "    plt.ylabel('loss')\n",
    "    plt.xlabel('epoch')\n",
    "    plt.legend(['train', 'test'], loc='upper left')\n",
    "    plt.show()"
   ]
  },
  {
   "cell_type": "markdown",
   "metadata": {},
   "source": [
    "## 读取特征数据"
   ]
  },
  {
   "cell_type": "markdown",
   "metadata": {},
   "source": [
    "* 使用80%数据作为训练集，20%数据作为验证集"
   ]
  },
  {
   "cell_type": "code",
   "execution_count": 3,
   "metadata": {},
   "outputs": [],
   "source": [
    "def read_feature(model_name: str):\n",
    "    h5_file = \"feature_%s.h5\"%model_name\n",
    "\n",
    "    with h5py.File(h5_file, 'r') as h:\n",
    "        X_pretrain = np.array(h['pretrain'])\n",
    "        y_pretrain = np.array(h['pretrain_label'])\n",
    "        X_finetune = np.array(h['finetune'])\n",
    "        y_finetune = np.array(h['finetune_label'])\n",
    "        X_val = np.array(h['val'])\n",
    "        y_val = np.array(h['val_label'])\n",
    "        X_test = np.array(h['test'])\n",
    "\n",
    "    X_train = np.concatenate((X_pretrain, X_finetune), axis=0)\n",
    "    y_train = np.concatenate((y_pretrain, y_finetune), axis=0)\n",
    "\n",
    "    X_train, y_train = shuffle(X_train, y_train)\n",
    "    \n",
    "    return X_train, y_train, X_val, y_val, X_test\n"
   ]
  },
  {
   "cell_type": "markdown",
   "metadata": {},
   "source": [
    "## 构建分类器"
   ]
  },
  {
   "cell_type": "code",
   "execution_count": 4,
   "metadata": {},
   "outputs": [],
   "source": [
    "def build_model(input_shape, drop_prob: float, lr=1e-2, decay=0):\n",
    "    input_tensor = Input(input_shape)\n",
    "    x = Dropout(drop_prob)(input_tensor)\n",
    "    x = Dense(1, activation='sigmoid', name='top_sigmoid')(x)\n",
    "    model = Model(input_tensor, x)\n",
    "\n",
    "    opt = optimizers.Adam(lr=lr, decay=decay)\n",
    "    model.compile(optimizer=opt, loss='binary_crossentropy', metrics=['accuracy'])\n",
    "    \n",
    "    return model"
   ]
  },
  {
   "cell_type": "markdown",
   "metadata": {},
   "source": [
    "### InceptionV3"
   ]
  },
  {
   "cell_type": "code",
   "execution_count": 5,
   "metadata": {
    "scrolled": true
   },
   "outputs": [
    {
     "name": "stdout",
     "output_type": "stream",
     "text": [
      "(19916, 2048) (4979, 2048)\n"
     ]
    }
   ],
   "source": [
    "model_name = 'InceptionV3'\n",
    "X_train, y_train, X_val, y_val, X_test = read_feature(model_name)\n",
    "print(X_train.shape, X_val.shape)"
   ]
  },
  {
   "cell_type": "markdown",
   "metadata": {},
   "source": [
    "* 调整参数"
   ]
  },
  {
   "cell_type": "code",
   "execution_count": 6,
   "metadata": {},
   "outputs": [],
   "source": [
    "model = build_model(X_train.shape[1:], 0.5, lr=1e-3, decay=1e-6)"
   ]
  },
  {
   "cell_type": "code",
   "execution_count": 7,
   "metadata": {},
   "outputs": [
    {
     "name": "stdout",
     "output_type": "stream",
     "text": [
      "WARNING:tensorflow:Variable *= will be deprecated. Use variable.assign_mul if you want assignment to the variable value or 'x = x * y' if you want a new python Tensor object.\n",
      "Train on 19916 samples, validate on 4979 samples\n",
      "Epoch 1/30\n",
      "19916/19916 [==============================] - 3s 148us/step - loss: 0.1253 - acc: 0.9610 - val_loss: 0.0347 - val_acc: 0.9918\n",
      "Epoch 2/30\n",
      "19916/19916 [==============================] - 1s 33us/step - loss: 0.0338 - acc: 0.9922 - val_loss: 0.0216 - val_acc: 0.9952\n",
      "Epoch 3/30\n",
      "19916/19916 [==============================] - 1s 43us/step - loss: 0.0259 - acc: 0.9931 - val_loss: 0.0189 - val_acc: 0.9948\n",
      "Epoch 4/30\n",
      "19916/19916 [==============================] - 1s 32us/step - loss: 0.0222 - acc: 0.9935 - val_loss: 0.0176 - val_acc: 0.9950\n",
      "Epoch 5/30\n",
      "19916/19916 [==============================] - 1s 30us/step - loss: 0.0210 - acc: 0.9941 - val_loss: 0.0157 - val_acc: 0.9962\n",
      "Epoch 6/30\n",
      "19916/19916 [==============================] - 1s 31us/step - loss: 0.0189 - acc: 0.9943 - val_loss: 0.0145 - val_acc: 0.9964\n",
      "Epoch 7/30\n",
      "19916/19916 [==============================] - 1s 38us/step - loss: 0.0189 - acc: 0.9940 - val_loss: 0.0138 - val_acc: 0.9966\n",
      "Epoch 8/30\n",
      "19916/19916 [==============================] - 1s 43us/step - loss: 0.0175 - acc: 0.9947 - val_loss: 0.0143 - val_acc: 0.9964\n",
      "Epoch 9/30\n",
      "19916/19916 [==============================] - 1s 47us/step - loss: 0.0177 - acc: 0.9945 - val_loss: 0.0134 - val_acc: 0.9964\n",
      "Epoch 10/30\n",
      "19916/19916 [==============================] - 1s 48us/step - loss: 0.0167 - acc: 0.9946 - val_loss: 0.0134 - val_acc: 0.9962\n",
      "Epoch 11/30\n",
      "19916/19916 [==============================] - 1s 46us/step - loss: 0.0153 - acc: 0.9951 - val_loss: 0.0134 - val_acc: 0.9962\n",
      "Epoch 12/30\n",
      "19916/19916 [==============================] - 1s 48us/step - loss: 0.0169 - acc: 0.9949 - val_loss: 0.0146 - val_acc: 0.9962\n",
      "Epoch 13/30\n",
      "19916/19916 [==============================] - 1s 39us/step - loss: 0.0159 - acc: 0.9945 - val_loss: 0.0163 - val_acc: 0.9952\n",
      "Epoch 14/30\n",
      "19916/19916 [==============================] - 1s 42us/step - loss: 0.0169 - acc: 0.9941 - val_loss: 0.0137 - val_acc: 0.9964\n",
      "Epoch 15/30\n",
      "19916/19916 [==============================] - 1s 40us/step - loss: 0.0148 - acc: 0.9955 - val_loss: 0.0162 - val_acc: 0.9956\n"
     ]
    }
   ],
   "source": [
    "callbacks = [EarlyStopping(monitor='val_loss', patience=5, verbose=0, mode='min'),\n",
    "             ModelCheckpoint(filepath='top_model_%s.h5'%model_name, monitor='val_loss', verbose=0, save_best_only=True)]\n",
    "\n",
    "history = model.fit(X_train, y_train, batch_size=128, epochs=30, validation_data=(X_val, y_val), callbacks=callbacks)"
   ]
  },
  {
   "cell_type": "code",
   "execution_count": 8,
   "metadata": {},
   "outputs": [
    {
     "data": {
      "image/png": "[encoded data removed]",
      "text/plain": [
       "<Figure size 432x288 with 1 Axes>"
      ]
     },
     "metadata": {},
     "output_type": "display_data"
    },
    {
     "data": {
      "image/png": "[encoded data removed]",
      "text/plain": [
       "<Figure size 432x288 with 1 Axes>"
      ]
     },
     "metadata": {},
     "output_type": "display_data"
    }
   ],
   "source": [
    "plot_history(history, model_name)"
   ]
  },
  {
   "cell_type": "markdown",
   "metadata": {},
   "source": [
    "### Xception"
   ]
  },
  {
   "cell_type": "code",
   "execution_count": 103,
   "metadata": {
    "scrolled": true
   },
   "outputs": [
    {
     "name": "stdout",
     "output_type": "stream",
     "text": [
      "(19916, 2048) (4979, 2048)\n"
     ]
    }
   ],
   "source": [
    "model_name = 'Xception'\n",
    "X_train, y_train, X_val, y_val, X_test = read_feature(model_name)\n",
    "print(X_train.shape, X_val.shape)"
   ]
  },
  {
   "cell_type": "markdown",
   "metadata": {},
   "source": [
    "* 调整参数"
   ]
  },
  {
   "cell_type": "code",
   "execution_count": 109,
   "metadata": {},
   "outputs": [],
   "source": [
    "model = build_model(X_train.shape[1:], 0.6, lr=1e-3, decay=1e-6)"
   ]
  },
  {
   "cell_type": "code",
   "execution_count": 110,
   "metadata": {},
   "outputs": [
    {
     "name": "stdout",
     "output_type": "stream",
     "text": [
      "Train on 19916 samples, validate on 4979 samples\n",
      "Epoch 1/30\n",
      "19916/19916 [==============================] - 1s 73us/step - loss: 0.1409 - acc: 0.9727 - val_loss: 0.0413 - val_acc: 0.9938\n",
      "Epoch 2/30\n",
      "19916/19916 [==============================] - 1s 44us/step - loss: 0.0395 - acc: 0.9927 - val_loss: 0.0257 - val_acc: 0.9942\n",
      "Epoch 3/30\n",
      "19916/19916 [==============================] - 1s 49us/step - loss: 0.0284 - acc: 0.9939 - val_loss: 0.0203 - val_acc: 0.9948\n",
      "Epoch 4/30\n",
      "19916/19916 [==============================] - 1s 51us/step - loss: 0.0241 - acc: 0.9941 - val_loss: 0.0177 - val_acc: 0.9948\n",
      "Epoch 5/30\n",
      "19916/19916 [==============================] - 1s 52us/step - loss: 0.0215 - acc: 0.9949 - val_loss: 0.0162 - val_acc: 0.9952\n",
      "Epoch 6/30\n",
      "19916/19916 [==============================] - 1s 54us/step - loss: 0.0202 - acc: 0.9948 - val_loss: 0.0153 - val_acc: 0.9958\n",
      "Epoch 7/30\n",
      "19916/19916 [==============================] - 1s 45us/step - loss: 0.0186 - acc: 0.9950 - val_loss: 0.0145 - val_acc: 0.9956\n",
      "Epoch 8/30\n",
      "19916/19916 [==============================] - 1s 51us/step - loss: 0.0181 - acc: 0.9949 - val_loss: 0.0143 - val_acc: 0.9960\n",
      "Epoch 9/30\n",
      "19916/19916 [==============================] - 1s 51us/step - loss: 0.0170 - acc: 0.9953 - val_loss: 0.0140 - val_acc: 0.9958\n",
      "Epoch 10/30\n",
      "19916/19916 [==============================] - 1s 50us/step - loss: 0.0163 - acc: 0.9953 - val_loss: 0.0137 - val_acc: 0.9954\n",
      "Epoch 11/30\n",
      "19916/19916 [==============================] - 1s 52us/step - loss: 0.0162 - acc: 0.9953 - val_loss: 0.0134 - val_acc: 0.9958\n",
      "Epoch 12/30\n",
      "19916/19916 [==============================] - 1s 49us/step - loss: 0.0161 - acc: 0.9954 - val_loss: 0.0132 - val_acc: 0.9960\n",
      "Epoch 13/30\n",
      "19916/19916 [==============================] - 1s 50us/step - loss: 0.0153 - acc: 0.9951 - val_loss: 0.0131 - val_acc: 0.9960\n",
      "Epoch 14/30\n",
      "19916/19916 [==============================] - 1s 44us/step - loss: 0.0150 - acc: 0.9952 - val_loss: 0.0129 - val_acc: 0.9960\n",
      "Epoch 15/30\n",
      "19916/19916 [==============================] - 1s 49us/step - loss: 0.0150 - acc: 0.9955 - val_loss: 0.0130 - val_acc: 0.9960\n",
      "Epoch 16/30\n",
      "19916/19916 [==============================] - 1s 53us/step - loss: 0.0144 - acc: 0.9956 - val_loss: 0.0129 - val_acc: 0.9960\n",
      "Epoch 17/30\n",
      "19916/19916 [==============================] - 1s 48us/step - loss: 0.0144 - acc: 0.9954 - val_loss: 0.0129 - val_acc: 0.9962\n",
      "Epoch 18/30\n",
      "19916/19916 [==============================] - 1s 47us/step - loss: 0.0151 - acc: 0.9951 - val_loss: 0.0129 - val_acc: 0.9962\n",
      "Epoch 19/30\n",
      "19916/19916 [==============================] - 1s 48us/step - loss: 0.0145 - acc: 0.9954 - val_loss: 0.0127 - val_acc: 0.9958\n",
      "Epoch 20/30\n",
      "19916/19916 [==============================] - 1s 50us/step - loss: 0.0138 - acc: 0.9957 - val_loss: 0.0127 - val_acc: 0.9960\n",
      "Epoch 21/30\n",
      "19916/19916 [==============================] - 1s 46us/step - loss: 0.0134 - acc: 0.9959 - val_loss: 0.0127 - val_acc: 0.9958\n",
      "Epoch 22/30\n",
      "19916/19916 [==============================] - 1s 49us/step - loss: 0.0133 - acc: 0.9959 - val_loss: 0.0132 - val_acc: 0.9968\n",
      "Epoch 23/30\n",
      "19916/19916 [==============================] - 1s 44us/step - loss: 0.0127 - acc: 0.9960 - val_loss: 0.0131 - val_acc: 0.9968\n",
      "Epoch 24/30\n",
      "19916/19916 [==============================] - 1s 49us/step - loss: 0.0130 - acc: 0.9962 - val_loss: 0.0129 - val_acc: 0.9966\n"
     ]
    }
   ],
   "source": [
    "callbacks = [EarlyStopping(monitor='val_loss', patience=5, verbose=0, mode='min'),\n",
    "             ModelCheckpoint(filepath='top_model_%s.h5'%model_name, monitor='val_loss', verbose=0, save_best_only=True)]\n",
    "\n",
    "history = model.fit(X_train, y_train, batch_size=128, epochs=30, validation_data=(X_val, y_val), callbacks=callbacks)"
   ]
  },
  {
   "cell_type": "code",
   "execution_count": 111,
   "metadata": {},
   "outputs": [
    {
     "data": {
      "image/png": "[encoded data removed]",
      "text/plain": [
       "<matplotlib.figure.Figure at 0x1a7aac22dd8>"
      ]
     },
     "metadata": {},
     "output_type": "display_data"
    },
    {
     "data": {
      "image/png": "[encoded data removed]",
      "text/plain": [
       "<matplotlib.figure.Figure at 0x1a7ab3436a0>"
      ]
     },
     "metadata": {},
     "output_type": "display_data"
    }
   ],
   "source": [
    "plot_history(history, model_name)"
   ]
  },
  {
   "cell_type": "markdown",
   "metadata": {},
   "source": [
    "### InceptionResNetV2"
   ]
  },
  {
   "cell_type": "code",
   "execution_count": 9,
   "metadata": {
    "scrolled": true
   },
   "outputs": [
    {
     "name": "stdout",
     "output_type": "stream",
     "text": [
      "(19916, 1536) (4979, 1536)\n"
     ]
    }
   ],
   "source": [
    "model_name = 'InceptionResNetV2'\n",
    "X_train, y_train, X_val, y_val, X_test = read_feature(model_name)\n",
    "print(X_train.shape, X_val.shape)"
   ]
  },
  {
   "cell_type": "markdown",
   "metadata": {},
   "source": [
    "* 调整参数"
   ]
  },
  {
   "cell_type": "code",
   "execution_count": 17,
   "metadata": {},
   "outputs": [],
   "source": [
    "model = build_model(X_train.shape[1:], 0.2, lr=1e-3, decay=1e-6)"
   ]
  },
  {
   "cell_type": "code",
   "execution_count": 18,
   "metadata": {},
   "outputs": [
    {
     "name": "stdout",
     "output_type": "stream",
     "text": [
      "Train on 19916 samples, validate on 4979 samples\n",
      "Epoch 1/30\n",
      "19916/19916 [==============================] - 1s 58us/step - loss: 0.0932 - acc: 0.9856 - val_loss: 0.0294 - val_acc: 0.9952\n",
      "Epoch 2/30\n",
      "19916/19916 [==============================] - 1s 48us/step - loss: 0.0261 - acc: 0.9948 - val_loss: 0.0197 - val_acc: 0.9964\n",
      "Epoch 3/30\n",
      "19916/19916 [==============================] - 1s 40us/step - loss: 0.0202 - acc: 0.9952 - val_loss: 0.0163 - val_acc: 0.9970\n",
      "Epoch 4/30\n",
      "19916/19916 [==============================] - 1s 39us/step - loss: 0.0179 - acc: 0.9956 - val_loss: 0.0149 - val_acc: 0.9970\n",
      "Epoch 5/30\n",
      "19916/19916 [==============================] - 1s 39us/step - loss: 0.0162 - acc: 0.9959 - val_loss: 0.0136 - val_acc: 0.9968\n",
      "Epoch 6/30\n",
      "19916/19916 [==============================] - 1s 39us/step - loss: 0.0152 - acc: 0.9962 - val_loss: 0.0129 - val_acc: 0.9974\n",
      "Epoch 7/30\n",
      "19916/19916 [==============================] - 1s 44us/step - loss: 0.0145 - acc: 0.9964 - val_loss: 0.0124 - val_acc: 0.9972\n",
      "Epoch 8/30\n",
      "19916/19916 [==============================] - 1s 43us/step - loss: 0.0142 - acc: 0.9963 - val_loss: 0.0120 - val_acc: 0.9978\n",
      "Epoch 9/30\n",
      "19916/19916 [==============================] - 1s 46us/step - loss: 0.0138 - acc: 0.9964 - val_loss: 0.0115 - val_acc: 0.9972\n",
      "Epoch 10/30\n",
      "19916/19916 [==============================] - 1s 41us/step - loss: 0.0136 - acc: 0.9963 - val_loss: 0.0120 - val_acc: 0.9976\n",
      "Epoch 11/30\n",
      "19916/19916 [==============================] - 1s 39us/step - loss: 0.0135 - acc: 0.9966 - val_loss: 0.0107 - val_acc: 0.9982\n",
      "Epoch 12/30\n",
      "19916/19916 [==============================] - 1s 35us/step - loss: 0.0131 - acc: 0.9967 - val_loss: 0.0105 - val_acc: 0.9976\n",
      "Epoch 13/30\n",
      "19916/19916 [==============================] - 1s 32us/step - loss: 0.0120 - acc: 0.9964 - val_loss: 0.0102 - val_acc: 0.9980\n",
      "Epoch 14/30\n",
      "19916/19916 [==============================] - 1s 34us/step - loss: 0.0115 - acc: 0.9971 - val_loss: 0.0103 - val_acc: 0.9974\n",
      "Epoch 15/30\n",
      "19916/19916 [==============================] - 1s 35us/step - loss: 0.0118 - acc: 0.9966 - val_loss: 0.0100 - val_acc: 0.9976\n",
      "Epoch 16/30\n",
      "19916/19916 [==============================] - 1s 44us/step - loss: 0.0111 - acc: 0.9969 - val_loss: 0.0103 - val_acc: 0.9972\n",
      "Epoch 17/30\n",
      "19916/19916 [==============================] - 1s 45us/step - loss: 0.0109 - acc: 0.9967 - val_loss: 0.0095 - val_acc: 0.9980\n",
      "Epoch 18/30\n",
      "19916/19916 [==============================] - 1s 44us/step - loss: 0.0111 - acc: 0.9969 - val_loss: 0.0094 - val_acc: 0.9980\n",
      "Epoch 19/30\n",
      "19916/19916 [==============================] - 1s 42us/step - loss: 0.0107 - acc: 0.9968 - val_loss: 0.0097 - val_acc: 0.9976\n",
      "Epoch 20/30\n",
      "19916/19916 [==============================] - 1s 42us/step - loss: 0.0105 - acc: 0.9970 - val_loss: 0.0091 - val_acc: 0.9980\n",
      "Epoch 21/30\n",
      "19916/19916 [==============================] - 1s 44us/step - loss: 0.0107 - acc: 0.9968 - val_loss: 0.0094 - val_acc: 0.9976\n",
      "Epoch 22/30\n",
      "19916/19916 [==============================] - 1s 48us/step - loss: 0.0102 - acc: 0.9971 - val_loss: 0.0090 - val_acc: 0.9976\n",
      "Epoch 23/30\n",
      "19916/19916 [==============================] - 1s 44us/step - loss: 0.0100 - acc: 0.9972 - val_loss: 0.0098 - val_acc: 0.9974\n",
      "Epoch 24/30\n",
      "19916/19916 [==============================] - 1s 43us/step - loss: 0.0102 - acc: 0.9971 - val_loss: 0.0091 - val_acc: 0.9978\n",
      "Epoch 25/30\n",
      "19916/19916 [==============================] - 1s 42us/step - loss: 0.0098 - acc: 0.9975 - val_loss: 0.0114 - val_acc: 0.9968\n",
      "Epoch 26/30\n",
      "19916/19916 [==============================] - 1s 38us/step - loss: 0.0103 - acc: 0.9970 - val_loss: 0.0090 - val_acc: 0.9980\n",
      "Epoch 27/30\n",
      "19916/19916 [==============================] - 1s 36us/step - loss: 0.0094 - acc: 0.9973 - val_loss: 0.0088 - val_acc: 0.9976\n",
      "Epoch 28/30\n",
      "19916/19916 [==============================] - 1s 35us/step - loss: 0.0096 - acc: 0.9973 - val_loss: 0.0087 - val_acc: 0.9980\n",
      "Epoch 29/30\n",
      "19916/19916 [==============================] - 1s 41us/step - loss: 0.0089 - acc: 0.9977 - val_loss: 0.0088 - val_acc: 0.9980\n",
      "Epoch 30/30\n",
      "19916/19916 [==============================] - 1s 45us/step - loss: 0.0087 - acc: 0.9977 - val_loss: 0.0087 - val_acc: 0.9982\n"
     ]
    }
   ],
   "source": [
    "callbacks = [EarlyStopping(monitor='val_loss', patience=5, verbose=0, mode='min'),\n",
    "             ModelCheckpoint(filepath='top_model_%s.h5'%model_name, monitor='val_loss', verbose=0, save_best_only=True)]\n",
    "\n",
    "history = model.fit(X_train, y_train, batch_size=128, epochs=30, validation_data=(X_val, y_val), callbacks=callbacks)"
   ]
  },
  {
   "cell_type": "code",
   "execution_count": 19,
   "metadata": {},
   "outputs": [
    {
     "data": {
      "image/png": "[encoded data removed]",
      "text/plain": [
       "<Figure size 432x288 with 1 Axes>"
      ]
     },
     "metadata": {},
     "output_type": "display_data"
    },
    {
     "data": {
      "image/png": "[encoded data removed]",
      "text/plain": [
       "<Figure size 432x288 with 1 Axes>"
      ]
     },
     "metadata": {},
     "output_type": "display_data"
    }
   ],
   "source": [
    "plot_history(history, model_name)"
   ]
  },
  {
   "cell_type": "markdown",
   "metadata": {},
   "source": [
    "## 预测测试集"
   ]
  },
  {
   "cell_type": "code",
   "execution_count": 112,
   "metadata": {},
   "outputs": [],
   "source": [
    "model.load_weights('top_model_%s.h5'%model_name)"
   ]
  },
  {
   "cell_type": "code",
   "execution_count": 113,
   "metadata": {},
   "outputs": [
    {
     "name": "stdout",
     "output_type": "stream",
     "text": [
      "12500/12500 [==============================] - 0s 36us/step\n"
     ]
    }
   ],
   "source": [
    "y_pred = model.predict(X_test, verbose=1)"
   ]
  },
  {
   "cell_type": "code",
   "execution_count": 114,
   "metadata": {},
   "outputs": [],
   "source": [
    "y_pred_clip = y_pred.clip(min=0.005, max=0.995)"
   ]
  },
  {
   "cell_type": "code",
   "execution_count": 115,
   "metadata": {},
   "outputs": [
    {
     "name": "stdout",
     "output_type": "stream",
     "text": [
      "Found 12500 images belonging to 1 classes.\n"
     ]
    },
    {
     "data": {
      "text/html": [
       "<div>\n",
       "<style scoped>\n",
       "    .dataframe tbody tr th:only-of-type {\n",
       "        vertical-align: middle;\n",
       "    }\n",
       "\n",
       "    .dataframe tbody tr th {\n",
       "        vertical-align: top;\n",
       "    }\n",
       "\n",
       "    .dataframe thead th {\n",
       "        text-align: right;\n",
       "    }\n",
       "</style>\n",
       "<table border=\"1\" class=\"dataframe\">\n",
       "  <thead>\n",
       "    <tr style=\"text-align: right;\">\n",
       "      <th></th>\n",
       "      <th>id</th>\n",
       "      <th>label</th>\n",
       "    </tr>\n",
       "  </thead>\n",
       "  <tbody>\n",
       "    <tr>\n",
       "      <th>0</th>\n",
       "      <td>1</td>\n",
       "      <td>0.995</td>\n",
       "    </tr>\n",
       "    <tr>\n",
       "      <th>1</th>\n",
       "      <td>2</td>\n",
       "      <td>0.995</td>\n",
       "    </tr>\n",
       "    <tr>\n",
       "      <th>2</th>\n",
       "      <td>3</td>\n",
       "      <td>0.995</td>\n",
       "    </tr>\n",
       "    <tr>\n",
       "      <th>3</th>\n",
       "      <td>4</td>\n",
       "      <td>0.995</td>\n",
       "    </tr>\n",
       "    <tr>\n",
       "      <th>4</th>\n",
       "      <td>5</td>\n",
       "      <td>0.005</td>\n",
       "    </tr>\n",
       "    <tr>\n",
       "      <th>5</th>\n",
       "      <td>6</td>\n",
       "      <td>0.005</td>\n",
       "    </tr>\n",
       "    <tr>\n",
       "      <th>6</th>\n",
       "      <td>7</td>\n",
       "      <td>0.005</td>\n",
       "    </tr>\n",
       "    <tr>\n",
       "      <th>7</th>\n",
       "      <td>8</td>\n",
       "      <td>0.005</td>\n",
       "    </tr>\n",
       "    <tr>\n",
       "      <th>8</th>\n",
       "      <td>9</td>\n",
       "      <td>0.005</td>\n",
       "    </tr>\n",
       "    <tr>\n",
       "      <th>9</th>\n",
       "      <td>10</td>\n",
       "      <td>0.005</td>\n",
       "    </tr>\n",
       "  </tbody>\n",
       "</table>\n",
       "</div>"
      ],
      "text/plain": [
       "   id  label\n",
       "0   1  0.995\n",
       "1   2  0.995\n",
       "2   3  0.995\n",
       "3   4  0.995\n",
       "4   5  0.005\n",
       "5   6  0.005\n",
       "6   7  0.005\n",
       "7   8  0.005\n",
       "8   9  0.005\n",
       "9  10  0.005"
      ]
     },
     "execution_count": 115,
     "metadata": {},
     "output_type": "execute_result"
    }
   ],
   "source": [
    "df = pd.read_csv(\"sampleSubmission.csv\")\n",
    "\n",
    "image_size = (299, 299)\n",
    "gen = ImageDataGenerator()\n",
    "test_generator = gen.flow_from_directory(\"test\", image_size, shuffle=False, \n",
    "                                         batch_size=64, class_mode=None)\n",
    "\n",
    "for i, fname in enumerate(test_generator.filenames):\n",
    "    index = int(fname[fname.rfind(os.sep)+1:fname.rfind('.')])\n",
    "    df.loc[index-1, ['label']] = y_pred_clip[i]\n",
    "\n",
    "df.to_csv('pred.csv', index=None)\n",
    "df.head(10)"
   ]
  },
  {
   "cell_type": "code",
   "execution_count": null,
   "metadata": {},
   "outputs": [],
   "source": []
  }
 ],
 "metadata": {
  "kernelspec": {
   "display_name": "Python 3",
   "language": "python",
   "name": "python3"
  },
  "language_info": {
   "codemirror_mode": {
    "name": "ipython",
    "version": 3
   },
   "file_extension": ".py",
   "mimetype": "text/x-python",
   "name": "python",
   "nbconvert_exporter": "python",
   "pygments_lexer": "ipython3",
   "version": "3.6.4"
  }
 },
 "nbformat": 4,
 "nbformat_minor": 2
}
