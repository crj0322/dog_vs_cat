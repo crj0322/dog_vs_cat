{
 "cells": [
  {
   "cell_type": "markdown",
   "metadata": {},
   "source": [
    "# 单模型分类器"
   ]
  },
  {
   "cell_type": "code",
   "execution_count": 1,
   "metadata": {},
   "outputs": [
    {
     "name": "stderr",
     "output_type": "stream",
     "text": [
      "/home/wson/anaconda3/envs/tf/lib/python3.6/site-packages/h5py/__init__.py:36: FutureWarning: Conversion of the second argument of issubdtype from `float` to `np.floating` is deprecated. In future, it will be treated as `np.float64 == np.dtype(float).type`.\n",
      "  from ._conv import register_converters as _register_converters\n",
      "Using TensorFlow backend.\n"
     ]
    }
   ],
   "source": [
    "import h5py\n",
    "import numpy as np\n",
    "import pandas as pd\n",
    "from sklearn.utils import shuffle\n",
    "from keras.models import *\n",
    "from keras.layers import *\n",
    "from keras.preprocessing.image import *\n",
    "from keras.callbacks import *\n",
    "from IPython.display import SVG\n",
    "from keras.utils.vis_utils import model_to_dot, plot_model\n",
    "import matplotlib.pyplot as plt\n",
    "import os\n",
    "\n",
    "np.random.seed(2018)\n"
   ]
  },
  {
   "cell_type": "code",
   "execution_count": 2,
   "metadata": {},
   "outputs": [],
   "source": [
    "def plot_history(history):\n",
    "    # list all data in history\n",
    "    # print(history.history.keys())\n",
    "    # summarize history for accuracy\n",
    "    plt.plot(history.history['acc'])\n",
    "    plt.plot(history.history['val_acc'])\n",
    "    plt.title('model accuracy')\n",
    "    plt.ylabel('accuracy')\n",
    "    plt.xlabel('epoch')\n",
    "    plt.legend(['train', 'test'], loc='upper left')\n",
    "    plt.show()\n",
    "    # summarize history for loss\n",
    "    plt.plot(history.history['loss'])\n",
    "    plt.plot(history.history['val_loss'])\n",
    "    plt.title('model loss')\n",
    "    plt.ylabel('loss')\n",
    "    plt.xlabel('epoch')\n",
    "    plt.legend(['train', 'test'], loc='upper left')\n",
    "    plt.show()"
   ]
  },
  {
   "cell_type": "markdown",
   "metadata": {},
   "source": [
    "## 读取特征数据"
   ]
  },
  {
   "cell_type": "code",
   "execution_count": 38,
   "metadata": {},
   "outputs": [],
   "source": [
    "def read_feature():\n",
    "    h5_file = \"feature_Xception.h5\"\n",
    "\n",
    "    with h5py.File(h5_file, 'r') as h:\n",
    "        X_pretrain = np.array(h['pretrain'])\n",
    "        y_pretrain = np.array(h['pretrain_label'])\n",
    "        X_finetune = np.array(h['finetune'])\n",
    "        y_finetune = np.array(h['finetune_label'])\n",
    "        X_val = np.array(h['val'])\n",
    "        y_val = np.array(h['val_label'])\n",
    "        X_test = np.array(h['test'])\n",
    "\n",
    "    X_train = np.concatenate((X_pretrain, X_finetune), axis=0)\n",
    "    y_train = np.concatenate((y_pretrain, y_finetune), axis=0)\n",
    "\n",
    "    X_train, y_train = shuffle(X_train, y_train)\n",
    "    \n",
    "    return X_train, y_train, X_val, y_val, X_test\n"
   ]
  },
  {
   "cell_type": "markdown",
   "metadata": {},
   "source": [
    "* 使用80%数据作为训练集，20%数据作为验证集"
   ]
  },
  {
   "cell_type": "code",
   "execution_count": 39,
   "metadata": {},
   "outputs": [],
   "source": [
    "X_train, y_train, X_val, y_val, X_test = read_feature()"
   ]
  },
  {
   "cell_type": "code",
   "execution_count": 12,
   "metadata": {
    "scrolled": true
   },
   "outputs": [
    {
     "name": "stdout",
     "output_type": "stream",
     "text": [
      "(19916, 2048) (4979, 2048)\n"
     ]
    }
   ],
   "source": [
    "print(X_train.shape, X_val.shape)"
   ]
  },
  {
   "cell_type": "markdown",
   "metadata": {},
   "source": [
    "## 构建分类器"
   ]
  },
  {
   "cell_type": "code",
   "execution_count": 13,
   "metadata": {},
   "outputs": [],
   "source": [
    "def build_model(input_shape, drop_prob: float, lr=1e-2):\n",
    "    input_tensor = Input(input_shape)\n",
    "    x = Dropout(drop_prob)(input_tensor)\n",
    "    x = Dense(1, activation='sigmoid', name='top_sigmoid')(x)\n",
    "    model = Model(input_tensor, x)\n",
    "\n",
    "    opt = optimizers.Adam(lr=lr)\n",
    "    model.compile(optimizer=opt, loss='binary_crossentropy', metrics=['accuracy'])\n",
    "    \n",
    "    return model"
   ]
  },
  {
   "cell_type": "markdown",
   "metadata": {},
   "source": [
    "### 调整参数"
   ]
  },
  {
   "cell_type": "code",
   "execution_count": 32,
   "metadata": {},
   "outputs": [],
   "source": [
    "model = build_model(X_train.shape[1:], 0.5, lr=1e-3)"
   ]
  },
  {
   "cell_type": "code",
   "execution_count": 33,
   "metadata": {},
   "outputs": [
    {
     "name": "stdout",
     "output_type": "stream",
     "text": [
      "Train on 19916 samples, validate on 4979 samples\n",
      "Epoch 1/30\n",
      "19916/19916 [==============================] - 1s 67us/step - loss: 0.1465 - acc: 0.9685 - val_loss: 0.0428 - val_acc: 0.9936\n",
      "Epoch 2/30\n",
      "19916/19916 [==============================] - 1s 45us/step - loss: 0.0375 - acc: 0.9932 - val_loss: 0.0264 - val_acc: 0.9946\n",
      "Epoch 3/30\n",
      "19916/19916 [==============================] - 1s 48us/step - loss: 0.0272 - acc: 0.9939 - val_loss: 0.0205 - val_acc: 0.9958\n",
      "Epoch 4/30\n",
      "19916/19916 [==============================] - 1s 50us/step - loss: 0.0229 - acc: 0.9941 - val_loss: 0.0176 - val_acc: 0.9956\n",
      "Epoch 5/30\n",
      "19916/19916 [==============================] - 1s 46us/step - loss: 0.0209 - acc: 0.9942 - val_loss: 0.0166 - val_acc: 0.9954\n",
      "Epoch 6/30\n",
      "19916/19916 [==============================] - 1s 51us/step - loss: 0.0187 - acc: 0.9947 - val_loss: 0.0149 - val_acc: 0.9958\n",
      "Epoch 7/30\n",
      "19916/19916 [==============================] - 1s 40us/step - loss: 0.0176 - acc: 0.9951 - val_loss: 0.0142 - val_acc: 0.9958\n",
      "Epoch 8/30\n",
      "19916/19916 [==============================] - 1s 37us/step - loss: 0.0167 - acc: 0.9955 - val_loss: 0.0138 - val_acc: 0.9958\n",
      "Epoch 9/30\n",
      "19916/19916 [==============================] - 1s 48us/step - loss: 0.0165 - acc: 0.9955 - val_loss: 0.0130 - val_acc: 0.9960\n",
      "Epoch 10/30\n",
      "19916/19916 [==============================] - 1s 42us/step - loss: 0.0164 - acc: 0.9954 - val_loss: 0.0131 - val_acc: 0.9960\n",
      "Epoch 11/30\n",
      "19916/19916 [==============================] - 1s 37us/step - loss: 0.0152 - acc: 0.9957 - val_loss: 0.0125 - val_acc: 0.9962\n",
      "Epoch 12/30\n",
      "19916/19916 [==============================] - 1s 44us/step - loss: 0.0151 - acc: 0.9957 - val_loss: 0.0123 - val_acc: 0.9962\n",
      "Epoch 13/30\n",
      "19916/19916 [==============================] - 1s 45us/step - loss: 0.0157 - acc: 0.9953 - val_loss: 0.0123 - val_acc: 0.9960\n",
      "Epoch 14/30\n",
      "19916/19916 [==============================] - 1s 42us/step - loss: 0.0138 - acc: 0.9960 - val_loss: 0.0120 - val_acc: 0.9962\n",
      "Epoch 15/30\n",
      "19916/19916 [==============================] - 1s 36us/step - loss: 0.0144 - acc: 0.9960 - val_loss: 0.0119 - val_acc: 0.9962\n",
      "Epoch 16/30\n",
      "19916/19916 [==============================] - 1s 37us/step - loss: 0.0135 - acc: 0.9958 - val_loss: 0.0125 - val_acc: 0.9960\n",
      "Epoch 17/30\n",
      "19916/19916 [==============================] - 1s 43us/step - loss: 0.0131 - acc: 0.9962 - val_loss: 0.0115 - val_acc: 0.9964\n",
      "Epoch 18/30\n",
      "19916/19916 [==============================] - 1s 45us/step - loss: 0.0124 - acc: 0.9963 - val_loss: 0.0114 - val_acc: 0.9962\n",
      "Epoch 19/30\n",
      "19916/19916 [==============================] - 1s 50us/step - loss: 0.0129 - acc: 0.9956 - val_loss: 0.0115 - val_acc: 0.9962\n",
      "Epoch 20/30\n",
      "19916/19916 [==============================] - 1s 39us/step - loss: 0.0112 - acc: 0.9963 - val_loss: 0.0113 - val_acc: 0.9962\n",
      "Epoch 21/30\n",
      "19916/19916 [==============================] - 1s 37us/step - loss: 0.0134 - acc: 0.9958 - val_loss: 0.0120 - val_acc: 0.9962\n",
      "Epoch 22/30\n",
      "19916/19916 [==============================] - 1s 44us/step - loss: 0.0118 - acc: 0.9962 - val_loss: 0.0110 - val_acc: 0.9968\n",
      "Epoch 23/30\n",
      "19916/19916 [==============================] - 1s 40us/step - loss: 0.0120 - acc: 0.9963 - val_loss: 0.0124 - val_acc: 0.9960\n",
      "Epoch 24/30\n",
      "19916/19916 [==============================] - 1s 44us/step - loss: 0.0118 - acc: 0.9966 - val_loss: 0.0111 - val_acc: 0.9964\n",
      "Epoch 25/30\n",
      "19916/19916 [==============================] - 1s 37us/step - loss: 0.0121 - acc: 0.9960 - val_loss: 0.0109 - val_acc: 0.9966\n",
      "Epoch 26/30\n",
      "19916/19916 [==============================] - 1s 38us/step - loss: 0.0114 - acc: 0.9963 - val_loss: 0.0108 - val_acc: 0.9970\n",
      "Epoch 27/30\n",
      "19916/19916 [==============================] - 1s 39us/step - loss: 0.0122 - acc: 0.9964 - val_loss: 0.0112 - val_acc: 0.9968\n",
      "Epoch 28/30\n",
      "19916/19916 [==============================] - 1s 41us/step - loss: 0.0116 - acc: 0.9965 - val_loss: 0.0112 - val_acc: 0.9966\n",
      "Epoch 29/30\n",
      "19916/19916 [==============================] - 1s 39us/step - loss: 0.0107 - acc: 0.9968 - val_loss: 0.0113 - val_acc: 0.9968\n",
      "Epoch 30/30\n",
      "19916/19916 [==============================] - 1s 47us/step - loss: 0.0118 - acc: 0.9962 - val_loss: 0.0109 - val_acc: 0.9968\n"
     ]
    }
   ],
   "source": [
    "callbacks = [EarlyStopping(monitor='val_loss', patience=5, verbose=0, mode='min'),\n",
    "             ModelCheckpoint(filepath='top_model_Xception.h5', monitor='val_loss', verbose=0, save_best_only=True)]\n",
    "\n",
    "history = model.fit(X_train, y_train, batch_size=128, epochs=30, validation_data=(X_val, y_val), callbacks=callbacks)"
   ]
  },
  {
   "cell_type": "code",
   "execution_count": 34,
   "metadata": {},
   "outputs": [
    {
     "data": {
      "image/png": "[encoded data removed]",
      "text/plain": [
       "<Figure size 432x288 with 1 Axes>"
      ]
     },
     "metadata": {},
     "output_type": "display_data"
    },
    {
     "data": {
      "image/png": "[encoded data removed]",
      "text/plain": [
       "<Figure size 432x288 with 1 Axes>"
      ]
     },
     "metadata": {},
     "output_type": "display_data"
    }
   ],
   "source": [
    "plot_history(history)"
   ]
  },
  {
   "cell_type": "code",
   "execution_count": 35,
   "metadata": {},
   "outputs": [
    {
     "data": {
      "image/svg+xml": [
       "<svg height=\"221pt\" viewBox=\"0.00 0.00 278.00 221.00\" width=\"278pt\" xmlns=\"http://www.w3.org/2000/svg\" xmlns:xlink=\"http://www.w3.org/1999/xlink\">\n",
       "<g class=\"graph\" id=\"graph0\" transform=\"scale(1 1) rotate(0) translate(4 217)\">\n",
       "<title>G</title>\n",
       "<polygon fill=\"white\" points=\"-4,4 -4,-217 274,-217 274,4 -4,4\" stroke=\"none\"/>\n",
       "<!-- 139764752537304 -->\n",
       "<g class=\"node\" id=\"node1\"><title>139764752537304</title>\n",
       "<polygon fill=\"none\" points=\"0.5,-166.5 0.5,-212.5 269.5,-212.5 269.5,-166.5 0.5,-166.5\" stroke=\"black\"/>\n",
       "<text font-family=\"Times,serif\" font-size=\"14.00\" text-anchor=\"middle\" x=\"63\" y=\"-185.8\">input_9: InputLayer</text>\n",
       "<polyline fill=\"none\" points=\"125.5,-166.5 125.5,-212.5 \" stroke=\"black\"/>\n",
       "<text font-family=\"Times,serif\" font-size=\"14.00\" text-anchor=\"middle\" x=\"153\" y=\"-197.3\">input:</text>\n",
       "<polyline fill=\"none\" points=\"125.5,-189.5 180.5,-189.5 \" stroke=\"black\"/>\n",
       "<text font-family=\"Times,serif\" font-size=\"14.00\" text-anchor=\"middle\" x=\"153\" y=\"-174.3\">output:</text>\n",
       "<polyline fill=\"none\" points=\"180.5,-166.5 180.5,-212.5 \" stroke=\"black\"/>\n",
       "<text font-family=\"Times,serif\" font-size=\"14.00\" text-anchor=\"middle\" x=\"225\" y=\"-197.3\">(None, 2048)</text>\n",
       "<polyline fill=\"none\" points=\"180.5,-189.5 269.5,-189.5 \" stroke=\"black\"/>\n",
       "<text font-family=\"Times,serif\" font-size=\"14.00\" text-anchor=\"middle\" x=\"225\" y=\"-174.3\">(None, 2048)</text>\n",
       "</g>\n",
       "<!-- 139765753289864 -->\n",
       "<g class=\"node\" id=\"node2\"><title>139765753289864</title>\n",
       "<polygon fill=\"none\" points=\"0.5,-83.5 0.5,-129.5 269.5,-129.5 269.5,-83.5 0.5,-83.5\" stroke=\"black\"/>\n",
       "<text font-family=\"Times,serif\" font-size=\"14.00\" text-anchor=\"middle\" x=\"63\" y=\"-102.8\">dropout_9: Dropout</text>\n",
       "<polyline fill=\"none\" points=\"125.5,-83.5 125.5,-129.5 \" stroke=\"black\"/>\n",
       "<text font-family=\"Times,serif\" font-size=\"14.00\" text-anchor=\"middle\" x=\"153\" y=\"-114.3\">input:</text>\n",
       "<polyline fill=\"none\" points=\"125.5,-106.5 180.5,-106.5 \" stroke=\"black\"/>\n",
       "<text font-family=\"Times,serif\" font-size=\"14.00\" text-anchor=\"middle\" x=\"153\" y=\"-91.3\">output:</text>\n",
       "<polyline fill=\"none\" points=\"180.5,-83.5 180.5,-129.5 \" stroke=\"black\"/>\n",
       "<text font-family=\"Times,serif\" font-size=\"14.00\" text-anchor=\"middle\" x=\"225\" y=\"-114.3\">(None, 2048)</text>\n",
       "<polyline fill=\"none\" points=\"180.5,-106.5 269.5,-106.5 \" stroke=\"black\"/>\n",
       "<text font-family=\"Times,serif\" font-size=\"14.00\" text-anchor=\"middle\" x=\"225\" y=\"-91.3\">(None, 2048)</text>\n",
       "</g>\n",
       "<!-- 139764752537304&#45;&gt;139765753289864 -->\n",
       "<g class=\"edge\" id=\"edge1\"><title>139764752537304-&gt;139765753289864</title>\n",
       "<path d=\"M135,-166.366C135,-158.152 135,-148.658 135,-139.725\" fill=\"none\" stroke=\"black\"/>\n",
       "<polygon fill=\"black\" points=\"138.5,-139.607 135,-129.607 131.5,-139.607 138.5,-139.607\" stroke=\"black\"/>\n",
       "</g>\n",
       "<!-- 139765753287848 -->\n",
       "<g class=\"node\" id=\"node3\"><title>139765753287848</title>\n",
       "<polygon fill=\"none\" points=\"0,-0.5 0,-46.5 270,-46.5 270,-0.5 0,-0.5\" stroke=\"black\"/>\n",
       "<text font-family=\"Times,serif\" font-size=\"14.00\" text-anchor=\"middle\" x=\"63\" y=\"-19.8\">top_sigmoid: Dense</text>\n",
       "<polyline fill=\"none\" points=\"126,-0.5 126,-46.5 \" stroke=\"black\"/>\n",
       "<text font-family=\"Times,serif\" font-size=\"14.00\" text-anchor=\"middle\" x=\"153.5\" y=\"-31.3\">input:</text>\n",
       "<polyline fill=\"none\" points=\"126,-23.5 181,-23.5 \" stroke=\"black\"/>\n",
       "<text font-family=\"Times,serif\" font-size=\"14.00\" text-anchor=\"middle\" x=\"153.5\" y=\"-8.3\">output:</text>\n",
       "<polyline fill=\"none\" points=\"181,-0.5 181,-46.5 \" stroke=\"black\"/>\n",
       "<text font-family=\"Times,serif\" font-size=\"14.00\" text-anchor=\"middle\" x=\"225.5\" y=\"-31.3\">(None, 2048)</text>\n",
       "<polyline fill=\"none\" points=\"181,-23.5 270,-23.5 \" stroke=\"black\"/>\n",
       "<text font-family=\"Times,serif\" font-size=\"14.00\" text-anchor=\"middle\" x=\"225.5\" y=\"-8.3\">(None, 1)</text>\n",
       "</g>\n",
       "<!-- 139765753289864&#45;&gt;139765753287848 -->\n",
       "<g class=\"edge\" id=\"edge2\"><title>139765753289864-&gt;139765753287848</title>\n",
       "<path d=\"M135,-83.3664C135,-75.1516 135,-65.6579 135,-56.7252\" fill=\"none\" stroke=\"black\"/>\n",
       "<polygon fill=\"black\" points=\"138.5,-56.6068 135,-46.6068 131.5,-56.6069 138.5,-56.6068\" stroke=\"black\"/>\n",
       "</g>\n",
       "</g>\n",
       "</svg>"
      ],
      "text/plain": [
       "<IPython.core.display.SVG object>"
      ]
     },
     "execution_count": 35,
     "metadata": {},
     "output_type": "execute_result"
    }
   ],
   "source": [
    "SVG(model_to_dot(model, show_shapes=True).create(prog='dot', format='svg'))"
   ]
  },
  {
   "cell_type": "markdown",
   "metadata": {},
   "source": [
    "## 验证集投入训练"
   ]
  },
  {
   "cell_type": "markdown",
   "metadata": {},
   "source": [
    "* 将验证集训练1代，查看测试集loss，逐步增加代数直到测试集loss不再降低"
   ]
  },
  {
   "cell_type": "code",
   "execution_count": 58,
   "metadata": {},
   "outputs": [],
   "source": [
    "model = build_model(X_train.shape[1:], 0.5, lr=1e-3)\n",
    "model.load_weights('top_model_Xception.h5')\n",
    "X_val, y_val = shuffle(X_val, y_val)"
   ]
  },
  {
   "cell_type": "code",
   "execution_count": 59,
   "metadata": {},
   "outputs": [
    {
     "name": "stdout",
     "output_type": "stream",
     "text": [
      "Epoch 1/2\n",
      "4979/4979 [==============================] - 1s 103us/step - loss: 0.0131 - acc: 0.9960\n",
      "Epoch 2/2\n",
      "4979/4979 [==============================] - 0s 33us/step - loss: 0.0139 - acc: 0.9964\n"
     ]
    },
    {
     "data": {
      "text/plain": [
       "<keras.callbacks.History at 0x7f20b55bc390>"
      ]
     },
     "execution_count": 59,
     "metadata": {},
     "output_type": "execute_result"
    }
   ],
   "source": [
    "model.fit(X_val, y_val, batch_size=128, epochs=2, validation_split=0)"
   ]
  },
  {
   "cell_type": "markdown",
   "metadata": {},
   "source": [
    "## 保存模型"
   ]
  },
  {
   "cell_type": "code",
   "execution_count": 60,
   "metadata": {},
   "outputs": [],
   "source": [
    "model.save('top_model_Xception_final.h5')"
   ]
  },
  {
   "cell_type": "markdown",
   "metadata": {},
   "source": [
    "## 预测测试集"
   ]
  },
  {
   "cell_type": "code",
   "execution_count": 36,
   "metadata": {},
   "outputs": [],
   "source": [
    "# model.load_weights('top_model_Xception.h5')\n",
    "model = load_model('top_model_Xception_final.h5')"
   ]
  },
  {
   "cell_type": "code",
   "execution_count": 55,
   "metadata": {},
   "outputs": [
    {
     "name": "stdout",
     "output_type": "stream",
     "text": [
      "12500/12500 [==============================] - 1s 63us/step\n"
     ]
    }
   ],
   "source": [
    "y_pred = model.predict(X_test, verbose=1)"
   ]
  },
  {
   "cell_type": "code",
   "execution_count": 56,
   "metadata": {},
   "outputs": [],
   "source": [
    "y_pred_clip = y_pred.clip(min=0.005, max=0.995)"
   ]
  },
  {
   "cell_type": "code",
   "execution_count": 57,
   "metadata": {},
   "outputs": [
    {
     "name": "stdout",
     "output_type": "stream",
     "text": [
      "Found 12500 images belonging to 1 classes.\n"
     ]
    },
    {
     "data": {
      "text/html": [
       "<div>\n",
       "<style scoped>\n",
       "    .dataframe tbody tr th:only-of-type {\n",
       "        vertical-align: middle;\n",
       "    }\n",
       "\n",
       "    .dataframe tbody tr th {\n",
       "        vertical-align: top;\n",
       "    }\n",
       "\n",
       "    .dataframe thead th {\n",
       "        text-align: right;\n",
       "    }\n",
       "</style>\n",
       "<table border=\"1\" class=\"dataframe\">\n",
       "  <thead>\n",
       "    <tr style=\"text-align: right;\">\n",
       "      <th></th>\n",
       "      <th>id</th>\n",
       "      <th>label</th>\n",
       "    </tr>\n",
       "  </thead>\n",
       "  <tbody>\n",
       "    <tr>\n",
       "      <th>0</th>\n",
       "      <td>1</td>\n",
       "      <td>0.995</td>\n",
       "    </tr>\n",
       "    <tr>\n",
       "      <th>1</th>\n",
       "      <td>2</td>\n",
       "      <td>0.995</td>\n",
       "    </tr>\n",
       "    <tr>\n",
       "      <th>2</th>\n",
       "      <td>3</td>\n",
       "      <td>0.995</td>\n",
       "    </tr>\n",
       "    <tr>\n",
       "      <th>3</th>\n",
       "      <td>4</td>\n",
       "      <td>0.995</td>\n",
       "    </tr>\n",
       "    <tr>\n",
       "      <th>4</th>\n",
       "      <td>5</td>\n",
       "      <td>0.005</td>\n",
       "    </tr>\n",
       "    <tr>\n",
       "      <th>5</th>\n",
       "      <td>6</td>\n",
       "      <td>0.005</td>\n",
       "    </tr>\n",
       "    <tr>\n",
       "      <th>6</th>\n",
       "      <td>7</td>\n",
       "      <td>0.005</td>\n",
       "    </tr>\n",
       "    <tr>\n",
       "      <th>7</th>\n",
       "      <td>8</td>\n",
       "      <td>0.005</td>\n",
       "    </tr>\n",
       "    <tr>\n",
       "      <th>8</th>\n",
       "      <td>9</td>\n",
       "      <td>0.005</td>\n",
       "    </tr>\n",
       "    <tr>\n",
       "      <th>9</th>\n",
       "      <td>10</td>\n",
       "      <td>0.005</td>\n",
       "    </tr>\n",
       "  </tbody>\n",
       "</table>\n",
       "</div>"
      ],
      "text/plain": [
       "   id  label\n",
       "0   1  0.995\n",
       "1   2  0.995\n",
       "2   3  0.995\n",
       "3   4  0.995\n",
       "4   5  0.005\n",
       "5   6  0.005\n",
       "6   7  0.005\n",
       "7   8  0.005\n",
       "8   9  0.005\n",
       "9  10  0.005"
      ]
     },
     "execution_count": 57,
     "metadata": {},
     "output_type": "execute_result"
    }
   ],
   "source": [
    "df = pd.read_csv(\"sampleSubmission.csv\")\n",
    "\n",
    "image_size = (299, 299)\n",
    "gen = ImageDataGenerator()\n",
    "test_generator = gen.flow_from_directory(\"test\", image_size, shuffle=False, \n",
    "                                         batch_size=64, class_mode=None)\n",
    "\n",
    "for i, fname in enumerate(test_generator.filenames):\n",
    "    index = int(fname[fname.rfind(os.sep)+1:fname.rfind('.')])\n",
    "    df.loc[index-1, ['label']] = y_pred_clip[i]\n",
    "\n",
    "df.to_csv('pred.csv', index=None)\n",
    "df.head(10)"
   ]
  },
  {
   "cell_type": "code",
   "execution_count": null,
   "metadata": {},
   "outputs": [],
   "source": []
  }
 ],
 "metadata": {
  "kernelspec": {
   "display_name": "Python 3",
   "language": "python",
   "name": "python3"
  },
  "language_info": {
   "codemirror_mode": {
    "name": "ipython",
    "version": 3
   },
   "file_extension": ".py",
   "mimetype": "text/x-python",
   "name": "python",
   "nbconvert_exporter": "python",
   "pygments_lexer": "ipython3",
   "version": "3.6.4"
  }
 },
 "nbformat": 4,
 "nbformat_minor": 2
}
