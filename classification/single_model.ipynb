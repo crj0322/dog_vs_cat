{
 "cells": [
  {
   "cell_type": "code",
   "execution_count": 3,
   "metadata": {},
   "outputs": [
    {
     "name": "stderr",
     "output_type": "stream",
     "text": [
      "/home/wson/anaconda3/envs/tf/lib/python3.6/site-packages/h5py/__init__.py:36: FutureWarning: Conversion of the second argument of issubdtype from `float` to `np.floating` is deprecated. In future, it will be treated as `np.float64 == np.dtype(float).type`.\n",
      "  from ._conv import register_converters as _register_converters\n",
      "Using TensorFlow backend.\n"
     ]
    }
   ],
   "source": [
    "import h5py\n",
    "import numpy as np\n",
    "import pandas as pd\n",
    "from sklearn.utils import shuffle\n",
    "from keras.models import *\n",
    "from keras.layers import *\n",
    "from keras.preprocessing.image import *\n",
    "from keras.callbacks import *\n",
    "from IPython.display import SVG\n",
    "from keras.utils.vis_utils import model_to_dot, plot_model\n",
    "import matplotlib.pyplot as plt\n",
    "import os\n",
    "\n",
    "np.random.seed(2018)\n"
   ]
  },
  {
   "cell_type": "code",
   "execution_count": 4,
   "metadata": {},
   "outputs": [],
   "source": [
    "def plot_history(history):\n",
    "    # list all data in history\n",
    "    # print(history.history.keys())\n",
    "    # summarize history for accuracy\n",
    "    plt.plot(history.history['acc'])\n",
    "    plt.plot(history.history['val_acc'])\n",
    "    plt.title('model accuracy')\n",
    "    plt.ylabel('accuracy')\n",
    "    plt.xlabel('epoch')\n",
    "    plt.legend(['train', 'test'], loc='upper left')\n",
    "    plt.show()\n",
    "    # summarize history for loss\n",
    "    plt.plot(history.history['loss'])\n",
    "    plt.plot(history.history['val_loss'])\n",
    "    plt.title('model loss')\n",
    "    plt.ylabel('loss')\n",
    "    plt.xlabel('epoch')\n",
    "    plt.legend(['train', 'test'], loc='upper left')\n",
    "    plt.show()"
   ]
  },
  {
   "cell_type": "markdown",
   "metadata": {},
   "source": [
    "### Read feature："
   ]
  },
  {
   "cell_type": "code",
   "execution_count": 5,
   "metadata": {},
   "outputs": [],
   "source": [
    "def read_feature():\n",
    "    h5_file = \"feature_Xception.h5\"\n",
    "\n",
    "    with h5py.File(h5_file, 'r') as h:\n",
    "        X_pretrain = np.array(h['pretrain'])\n",
    "        y_pretrain = np.array(h['pretrain_label'])\n",
    "        X_finetune = np.array(h['finetune'])\n",
    "        y_finetune = np.array(h['finetune_label'])\n",
    "        X_val = np.array(h['finetune'])\n",
    "        y_val = np.array(h['finetune_label'])\n",
    "        X_test = np.array(h['test'])\n",
    "\n",
    "    X_train = np.concatenate(X_pretrain, X_finetune)\n",
    "    y_train = np.concatenate(y_pretrain, y_finetune)\n",
    "\n",
    "    X_train, y_train = shuffle(X_train, y_train)\n",
    "    \n",
    "    return X_train, y_train, X_val, y_val\n"
   ]
  },
  {
   "cell_type": "code",
   "execution_count": null,
   "metadata": {},
   "outputs": [],
   "source": [
    "X_train, y_train, X_val, y_val = read_feature()"
   ]
  },
  {
   "cell_type": "code",
   "execution_count": 6,
   "metadata": {
    "scrolled": true
   },
   "outputs": [
    {
     "name": "stdout",
     "output_type": "stream",
     "text": [
      "(24895, 2048)\n"
     ]
    }
   ],
   "source": [
    "print(X_train.shape)"
   ]
  },
  {
   "cell_type": "markdown",
   "metadata": {},
   "source": [
    "### Model adjustment:"
   ]
  },
  {
   "cell_type": "code",
   "execution_count": 7,
   "metadata": {},
   "outputs": [],
   "source": [
    "def build_model(input_shape, drop_prob: float, lr=1e-2):\n",
    "    input_tensor = Input(input_shape)\n",
    "    x = Dropout(drop_prob)(input_tensor)\n",
    "    x = Dense(1, activation='sigmoid', name='top_sigmoid')(x)\n",
    "    model = Model(input_tensor, x)\n",
    "\n",
    "    opt = optimizers.Adam(lr=lr)\n",
    "    model.compile(optimizer=opt, loss='binary_crossentropy', metrics=['accuracy'])\n",
    "    \n",
    "    return model"
   ]
  },
  {
   "cell_type": "code",
   "execution_count": 29,
   "metadata": {},
   "outputs": [],
   "source": [
    "model = build_model(X_train.shape[1:], 0.7, lr=1e-3)"
   ]
  },
  {
   "cell_type": "code",
   "execution_count": 30,
   "metadata": {},
   "outputs": [
    {
     "name": "stdout",
     "output_type": "stream",
     "text": [
      "Train on 19916 samples, validate on 4979 samples\n",
      "Epoch 1/20\n",
      "19916/19916 [==============================] - 2s 77us/step - loss: 0.1551 - acc: 0.9645 - val_loss: 0.0464 - val_acc: 0.9928\n",
      "Epoch 2/20\n",
      "19916/19916 [==============================] - 1s 40us/step - loss: 0.0429 - acc: 0.9919 - val_loss: 0.0295 - val_acc: 0.9932\n",
      "Epoch 3/20\n",
      "19916/19916 [==============================] - 1s 42us/step - loss: 0.0308 - acc: 0.9937 - val_loss: 0.0244 - val_acc: 0.9934\n",
      "Epoch 4/20\n",
      "19916/19916 [==============================] - 1s 44us/step - loss: 0.0276 - acc: 0.9936 - val_loss: 0.0216 - val_acc: 0.9938\n",
      "Epoch 5/20\n",
      "19916/19916 [==============================] - 1s 40us/step - loss: 0.0233 - acc: 0.9942 - val_loss: 0.0201 - val_acc: 0.9942\n",
      "Epoch 6/20\n",
      "19916/19916 [==============================] - 1s 39us/step - loss: 0.0219 - acc: 0.9938 - val_loss: 0.0192 - val_acc: 0.9940\n",
      "Epoch 7/20\n",
      "19916/19916 [==============================] - 1s 42us/step - loss: 0.0216 - acc: 0.9938 - val_loss: 0.0184 - val_acc: 0.9952\n",
      "Epoch 8/20\n",
      "19916/19916 [==============================] - 1s 36us/step - loss: 0.0193 - acc: 0.9947 - val_loss: 0.0179 - val_acc: 0.9954\n",
      "Epoch 9/20\n",
      "19916/19916 [==============================] - 1s 36us/step - loss: 0.0200 - acc: 0.9938 - val_loss: 0.0177 - val_acc: 0.9950\n",
      "Epoch 10/20\n",
      "19916/19916 [==============================] - 1s 36us/step - loss: 0.0184 - acc: 0.9948 - val_loss: 0.0176 - val_acc: 0.9948\n",
      "Epoch 11/20\n",
      "19916/19916 [==============================] - 1s 36us/step - loss: 0.0174 - acc: 0.9945 - val_loss: 0.0174 - val_acc: 0.9950\n",
      "Epoch 12/20\n",
      "19916/19916 [==============================] - 1s 43us/step - loss: 0.0173 - acc: 0.9952 - val_loss: 0.0173 - val_acc: 0.9956\n",
      "Epoch 13/20\n",
      "19916/19916 [==============================] - 1s 39us/step - loss: 0.0176 - acc: 0.9943 - val_loss: 0.0172 - val_acc: 0.9958\n",
      "Epoch 14/20\n",
      "19916/19916 [==============================] - 1s 43us/step - loss: 0.0178 - acc: 0.9945 - val_loss: 0.0180 - val_acc: 0.9948\n",
      "Epoch 15/20\n",
      "19916/19916 [==============================] - 1s 46us/step - loss: 0.0169 - acc: 0.9951 - val_loss: 0.0173 - val_acc: 0.9956\n",
      "Epoch 16/20\n",
      "19916/19916 [==============================] - 1s 45us/step - loss: 0.0158 - acc: 0.9945 - val_loss: 0.0167 - val_acc: 0.9958\n",
      "Epoch 17/20\n",
      "19916/19916 [==============================] - 1s 43us/step - loss: 0.0156 - acc: 0.9952 - val_loss: 0.0177 - val_acc: 0.9952\n",
      "Epoch 18/20\n",
      "19916/19916 [==============================] - 1s 44us/step - loss: 0.0154 - acc: 0.9951 - val_loss: 0.0169 - val_acc: 0.9958\n",
      "Epoch 19/20\n",
      "19916/19916 [==============================] - 1s 51us/step - loss: 0.0156 - acc: 0.9953 - val_loss: 0.0166 - val_acc: 0.9960\n",
      "Epoch 20/20\n",
      "19916/19916 [==============================] - 1s 49us/step - loss: 0.0146 - acc: 0.9952 - val_loss: 0.0177 - val_acc: 0.9954\n"
     ]
    }
   ],
   "source": [
    "callbacks = [EarlyStopping(monitor='val_loss', patience=5, verbose=0, mode='min'),\n",
    "             ModelCheckpoint(filepath='top_model_Xception.h5', monitor='val_loss', verbose=0, save_best_only=True)]\n",
    "\n",
    "history = model.fit(X_train, y_train, batch_size=128, epochs=20, validation_data=(X_val, y_val), callbacks=callbacks)"
   ]
  },
  {
   "cell_type": "code",
   "execution_count": 31,
   "metadata": {},
   "outputs": [
    {
     "data": {
      "image/png": "[encoded data removed]",
      "text/plain": [
       "<Figure size 432x288 with 1 Axes>"
      ]
     },
     "metadata": {},
     "output_type": "display_data"
    },
    {
     "data": {
      "image/png": "[encoded data removed]",
      "text/plain": [
       "<Figure size 432x288 with 1 Axes>"
      ]
     },
     "metadata": {},
     "output_type": "display_data"
    }
   ],
   "source": [
    "plot_history(history)"
   ]
  },
  {
   "cell_type": "code",
   "execution_count": 18,
   "metadata": {},
   "outputs": [
    {
     "data": {
      "image/svg+xml": [
       "<svg height=\"221pt\" viewBox=\"0.00 0.00 278.00 221.00\" width=\"278pt\" xmlns=\"http://www.w3.org/2000/svg\" xmlns:xlink=\"http://www.w3.org/1999/xlink\">\n",
       "<g class=\"graph\" id=\"graph0\" transform=\"scale(1 1) rotate(0) translate(4 217)\">\n",
       "<title>G</title>\n",
       "<polygon fill=\"white\" points=\"-4,4 -4,-217 274,-217 274,4 -4,4\" stroke=\"none\"/>\n",
       "<!-- 139783536447328 -->\n",
       "<g class=\"node\" id=\"node1\"><title>139783536447328</title>\n",
       "<polygon fill=\"none\" points=\"0.5,-166.5 0.5,-212.5 269.5,-212.5 269.5,-166.5 0.5,-166.5\" stroke=\"black\"/>\n",
       "<text font-family=\"Times,serif\" font-size=\"14.00\" text-anchor=\"middle\" x=\"63\" y=\"-185.8\">input_6: InputLayer</text>\n",
       "<polyline fill=\"none\" points=\"125.5,-166.5 125.5,-212.5 \" stroke=\"black\"/>\n",
       "<text font-family=\"Times,serif\" font-size=\"14.00\" text-anchor=\"middle\" x=\"153\" y=\"-197.3\">input:</text>\n",
       "<polyline fill=\"none\" points=\"125.5,-189.5 180.5,-189.5 \" stroke=\"black\"/>\n",
       "<text font-family=\"Times,serif\" font-size=\"14.00\" text-anchor=\"middle\" x=\"153\" y=\"-174.3\">output:</text>\n",
       "<polyline fill=\"none\" points=\"180.5,-166.5 180.5,-212.5 \" stroke=\"black\"/>\n",
       "<text font-family=\"Times,serif\" font-size=\"14.00\" text-anchor=\"middle\" x=\"225\" y=\"-197.3\">(None, 2048)</text>\n",
       "<polyline fill=\"none\" points=\"180.5,-189.5 269.5,-189.5 \" stroke=\"black\"/>\n",
       "<text font-family=\"Times,serif\" font-size=\"14.00\" text-anchor=\"middle\" x=\"225\" y=\"-174.3\">(None, 2048)</text>\n",
       "</g>\n",
       "<!-- 139783536445760 -->\n",
       "<g class=\"node\" id=\"node2\"><title>139783536445760</title>\n",
       "<polygon fill=\"none\" points=\"0.5,-83.5 0.5,-129.5 269.5,-129.5 269.5,-83.5 0.5,-83.5\" stroke=\"black\"/>\n",
       "<text font-family=\"Times,serif\" font-size=\"14.00\" text-anchor=\"middle\" x=\"63\" y=\"-102.8\">dropout_6: Dropout</text>\n",
       "<polyline fill=\"none\" points=\"125.5,-83.5 125.5,-129.5 \" stroke=\"black\"/>\n",
       "<text font-family=\"Times,serif\" font-size=\"14.00\" text-anchor=\"middle\" x=\"153\" y=\"-114.3\">input:</text>\n",
       "<polyline fill=\"none\" points=\"125.5,-106.5 180.5,-106.5 \" stroke=\"black\"/>\n",
       "<text font-family=\"Times,serif\" font-size=\"14.00\" text-anchor=\"middle\" x=\"153\" y=\"-91.3\">output:</text>\n",
       "<polyline fill=\"none\" points=\"180.5,-83.5 180.5,-129.5 \" stroke=\"black\"/>\n",
       "<text font-family=\"Times,serif\" font-size=\"14.00\" text-anchor=\"middle\" x=\"225\" y=\"-114.3\">(None, 2048)</text>\n",
       "<polyline fill=\"none\" points=\"180.5,-106.5 269.5,-106.5 \" stroke=\"black\"/>\n",
       "<text font-family=\"Times,serif\" font-size=\"14.00\" text-anchor=\"middle\" x=\"225\" y=\"-91.3\">(None, 2048)</text>\n",
       "</g>\n",
       "<!-- 139783536447328&#45;&gt;139783536445760 -->\n",
       "<g class=\"edge\" id=\"edge1\"><title>139783536447328-&gt;139783536445760</title>\n",
       "<path d=\"M135,-166.366C135,-158.152 135,-148.658 135,-139.725\" fill=\"none\" stroke=\"black\"/>\n",
       "<polygon fill=\"black\" points=\"138.5,-139.607 135,-129.607 131.5,-139.607 138.5,-139.607\" stroke=\"black\"/>\n",
       "</g>\n",
       "<!-- 139783536446936 -->\n",
       "<g class=\"node\" id=\"node3\"><title>139783536446936</title>\n",
       "<polygon fill=\"none\" points=\"0,-0.5 0,-46.5 270,-46.5 270,-0.5 0,-0.5\" stroke=\"black\"/>\n",
       "<text font-family=\"Times,serif\" font-size=\"14.00\" text-anchor=\"middle\" x=\"63\" y=\"-19.8\">top_sigmoid: Dense</text>\n",
       "<polyline fill=\"none\" points=\"126,-0.5 126,-46.5 \" stroke=\"black\"/>\n",
       "<text font-family=\"Times,serif\" font-size=\"14.00\" text-anchor=\"middle\" x=\"153.5\" y=\"-31.3\">input:</text>\n",
       "<polyline fill=\"none\" points=\"126,-23.5 181,-23.5 \" stroke=\"black\"/>\n",
       "<text font-family=\"Times,serif\" font-size=\"14.00\" text-anchor=\"middle\" x=\"153.5\" y=\"-8.3\">output:</text>\n",
       "<polyline fill=\"none\" points=\"181,-0.5 181,-46.5 \" stroke=\"black\"/>\n",
       "<text font-family=\"Times,serif\" font-size=\"14.00\" text-anchor=\"middle\" x=\"225.5\" y=\"-31.3\">(None, 2048)</text>\n",
       "<polyline fill=\"none\" points=\"181,-23.5 270,-23.5 \" stroke=\"black\"/>\n",
       "<text font-family=\"Times,serif\" font-size=\"14.00\" text-anchor=\"middle\" x=\"225.5\" y=\"-8.3\">(None, 1)</text>\n",
       "</g>\n",
       "<!-- 139783536445760&#45;&gt;139783536446936 -->\n",
       "<g class=\"edge\" id=\"edge2\"><title>139783536445760-&gt;139783536446936</title>\n",
       "<path d=\"M135,-83.3664C135,-75.1516 135,-65.6579 135,-56.7252\" fill=\"none\" stroke=\"black\"/>\n",
       "<polygon fill=\"black\" points=\"138.5,-56.6068 135,-46.6068 131.5,-56.6069 138.5,-56.6068\" stroke=\"black\"/>\n",
       "</g>\n",
       "</g>\n",
       "</svg>"
      ],
      "text/plain": [
       "<IPython.core.display.SVG object>"
      ]
     },
     "execution_count": 18,
     "metadata": {},
     "output_type": "execute_result"
    }
   ],
   "source": [
    "SVG(model_to_dot(model, show_shapes=True).create(prog='dot', format='svg'))"
   ]
  },
  {
   "cell_type": "markdown",
   "metadata": {},
   "source": [
    "### Train in total training data:"
   ]
  },
  {
   "cell_type": "code",
   "execution_count": 32,
   "metadata": {},
   "outputs": [],
   "source": [
    "model = build_model(X_train.shape[1:], 0.7, lr=1e-3)"
   ]
  },
  {
   "cell_type": "code",
   "execution_count": 33,
   "metadata": {},
   "outputs": [
    {
     "name": "stdout",
     "output_type": "stream",
     "text": [
      "Epoch 1/19\n",
      "24895/24895 [==============================] - 2s 61us/step - loss: 0.1426 - acc: 0.9674\n",
      "Epoch 2/19\n",
      "24895/24895 [==============================] - 1s 41us/step - loss: 0.0388 - acc: 0.9925\n",
      "Epoch 3/19\n",
      "24895/24895 [==============================] - 1s 33us/step - loss: 0.0294 - acc: 0.9929\n",
      "Epoch 4/19\n",
      "24895/24895 [==============================] - 1s 32us/step - loss: 0.0250 - acc: 0.9939\n",
      "Epoch 5/19\n",
      "24895/24895 [==============================] - 1s 35us/step - loss: 0.0229 - acc: 0.9942\n",
      "Epoch 6/19\n",
      "24895/24895 [==============================] - 1s 40us/step - loss: 0.0211 - acc: 0.9939\n",
      "Epoch 7/19\n",
      "24895/24895 [==============================] - 1s 31us/step - loss: 0.0198 - acc: 0.9947\n",
      "Epoch 8/19\n",
      "24895/24895 [==============================] - 1s 30us/step - loss: 0.0193 - acc: 0.9948\n",
      "Epoch 9/19\n",
      "24895/24895 [==============================] - 1s 31us/step - loss: 0.0187 - acc: 0.9947\n",
      "Epoch 10/19\n",
      "24895/24895 [==============================] - 1s 32us/step - loss: 0.0193 - acc: 0.9942\n",
      "Epoch 11/19\n",
      "24895/24895 [==============================] - 1s 32us/step - loss: 0.0176 - acc: 0.9955\n",
      "Epoch 12/19\n",
      "24895/24895 [==============================] - 1s 35us/step - loss: 0.0169 - acc: 0.9951\n",
      "Epoch 13/19\n",
      "24895/24895 [==============================] - 1s 40us/step - loss: 0.0164 - acc: 0.9955\n",
      "Epoch 14/19\n",
      "24895/24895 [==============================] - 1s 40us/step - loss: 0.0175 - acc: 0.9951\n",
      "Epoch 15/19\n",
      "24895/24895 [==============================] - 1s 39us/step - loss: 0.0162 - acc: 0.9953\n",
      "Epoch 16/19\n",
      "24895/24895 [==============================] - 1s 41us/step - loss: 0.0156 - acc: 0.9950\n",
      "Epoch 17/19\n",
      "24895/24895 [==============================] - 1s 44us/step - loss: 0.0169 - acc: 0.9948\n",
      "Epoch 18/19\n",
      "24895/24895 [==============================] - 1s 37us/step - loss: 0.0166 - acc: 0.9953\n",
      "Epoch 19/19\n",
      "24895/24895 [==============================] - 1s 33us/step - loss: 0.0153 - acc: 0.9951\n"
     ]
    },
    {
     "data": {
      "text/plain": [
       "<keras.callbacks.History at 0x7fdc6c758a20>"
      ]
     },
     "execution_count": 33,
     "metadata": {},
     "output_type": "execute_result"
    }
   ],
   "source": [
    "model.fit(X_train, y_train, batch_size=128, epochs=19, validation_split=0)"
   ]
  },
  {
   "cell_type": "markdown",
   "metadata": {},
   "source": [
    "### Predict:"
   ]
  },
  {
   "cell_type": "code",
   "execution_count": 25,
   "metadata": {},
   "outputs": [
    {
     "name": "stdout",
     "output_type": "stream",
     "text": [
      "12500/12500 [==============================] - 1s 59us/step\n"
     ]
    }
   ],
   "source": [
    "y_pred = model.predict(X_test, verbose=1)\n"
   ]
  },
  {
   "cell_type": "code",
   "execution_count": 28,
   "metadata": {},
   "outputs": [],
   "source": [
    "y_pred_clip = y_pred.clip(min=0.005, max=0.995)"
   ]
  },
  {
   "cell_type": "code",
   "execution_count": 29,
   "metadata": {},
   "outputs": [
    {
     "name": "stdout",
     "output_type": "stream",
     "text": [
      "Found 12500 images belonging to 1 classes.\n"
     ]
    },
    {
     "data": {
      "text/html": [
       "<div>\n",
       "<style scoped>\n",
       "    .dataframe tbody tr th:only-of-type {\n",
       "        vertical-align: middle;\n",
       "    }\n",
       "\n",
       "    .dataframe tbody tr th {\n",
       "        vertical-align: top;\n",
       "    }\n",
       "\n",
       "    .dataframe thead th {\n",
       "        text-align: right;\n",
       "    }\n",
       "</style>\n",
       "<table border=\"1\" class=\"dataframe\">\n",
       "  <thead>\n",
       "    <tr style=\"text-align: right;\">\n",
       "      <th></th>\n",
       "      <th>id</th>\n",
       "      <th>label</th>\n",
       "    </tr>\n",
       "  </thead>\n",
       "  <tbody>\n",
       "    <tr>\n",
       "      <th>0</th>\n",
       "      <td>1</td>\n",
       "      <td>0.9995</td>\n",
       "    </tr>\n",
       "    <tr>\n",
       "      <th>1</th>\n",
       "      <td>2</td>\n",
       "      <td>0.9995</td>\n",
       "    </tr>\n",
       "    <tr>\n",
       "      <th>2</th>\n",
       "      <td>3</td>\n",
       "      <td>0.9995</td>\n",
       "    </tr>\n",
       "    <tr>\n",
       "      <th>3</th>\n",
       "      <td>4</td>\n",
       "      <td>0.9995</td>\n",
       "    </tr>\n",
       "    <tr>\n",
       "      <th>4</th>\n",
       "      <td>5</td>\n",
       "      <td>0.0005</td>\n",
       "    </tr>\n",
       "    <tr>\n",
       "      <th>5</th>\n",
       "      <td>6</td>\n",
       "      <td>0.0005</td>\n",
       "    </tr>\n",
       "    <tr>\n",
       "      <th>6</th>\n",
       "      <td>7</td>\n",
       "      <td>0.0005</td>\n",
       "    </tr>\n",
       "    <tr>\n",
       "      <th>7</th>\n",
       "      <td>8</td>\n",
       "      <td>0.0005</td>\n",
       "    </tr>\n",
       "    <tr>\n",
       "      <th>8</th>\n",
       "      <td>9</td>\n",
       "      <td>0.0005</td>\n",
       "    </tr>\n",
       "    <tr>\n",
       "      <th>9</th>\n",
       "      <td>10</td>\n",
       "      <td>0.0005</td>\n",
       "    </tr>\n",
       "  </tbody>\n",
       "</table>\n",
       "</div>"
      ],
      "text/plain": [
       "   id   label\n",
       "0   1  0.9995\n",
       "1   2  0.9995\n",
       "2   3  0.9995\n",
       "3   4  0.9995\n",
       "4   5  0.0005\n",
       "5   6  0.0005\n",
       "6   7  0.0005\n",
       "7   8  0.0005\n",
       "8   9  0.0005\n",
       "9  10  0.0005"
      ]
     },
     "execution_count": 29,
     "metadata": {},
     "output_type": "execute_result"
    }
   ],
   "source": [
    "df = pd.read_csv(\"sampleSubmission.csv\")\n",
    "\n",
    "image_size = (299, 299)\n",
    "gen = ImageDataGenerator()\n",
    "test_generator = gen.flow_from_directory(\"test\", image_size, shuffle=False, \n",
    "                                         batch_size=64, class_mode=None)\n",
    "\n",
    "for i, fname in enumerate(test_generator.filenames):\n",
    "    index = int(fname[fname.rfind(os.sep)+1:fname.rfind('.')])\n",
    "    df.loc[index-1, ['label']] = y_pred_clip[i]\n",
    "\n",
    "df.to_csv('pred.csv', index=None)\n",
    "df.head(10)"
   ]
  },
  {
   "cell_type": "code",
   "execution_count": null,
   "metadata": {},
   "outputs": [],
   "source": []
  }
 ],
 "metadata": {
  "kernelspec": {
   "display_name": "Python 3",
   "language": "python",
   "name": "python3"
  },
  "language_info": {
   "codemirror_mode": {
    "name": "ipython",
    "version": 3
   },
   "file_extension": ".py",
   "mimetype": "text/x-python",
   "name": "python",
   "nbconvert_exporter": "python",
   "pygments_lexer": "ipython3",
   "version": "3.6.4"
  }
 },
 "nbformat": 4,
 "nbformat_minor": 2
}
