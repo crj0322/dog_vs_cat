{
 "cells": [
  {
   "cell_type": "code",
   "execution_count": 1,
   "metadata": {},
   "outputs": [
    {
     "name": "stderr",
     "output_type": "stream",
     "text": [
      "/home/wson/anaconda3/envs/tf/lib/python3.6/site-packages/h5py/__init__.py:36: FutureWarning: Conversion of the second argument of issubdtype from `float` to `np.floating` is deprecated. In future, it will be treated as `np.float64 == np.dtype(float).type`.\n",
      "  from ._conv import register_converters as _register_converters\n",
      "Using TensorFlow backend.\n"
     ]
    }
   ],
   "source": [
    "import h5py\n",
    "import numpy as np\n",
    "import pandas as pd\n",
    "from sklearn.utils import shuffle\n",
    "from keras.models import *\n",
    "from keras.layers import *\n",
    "from keras.preprocessing.image import *\n",
    "from IPython.display import SVG\n",
    "from keras.utils.vis_utils import model_to_dot, plot_model\n",
    "import matplotlib.pyplot as plt\n",
    "import os\n",
    "\n",
    "np.random.seed(2018)\n"
   ]
  },
  {
   "cell_type": "code",
   "execution_count": 2,
   "metadata": {},
   "outputs": [],
   "source": [
    "def plot_history(history):\n",
    "    # list all data in history\n",
    "    # print(history.history.keys())\n",
    "    # summarize history for accuracy\n",
    "    plt.plot(history.history['acc'])\n",
    "    plt.plot(history.history['val_acc'])\n",
    "    plt.title('model accuracy')\n",
    "    plt.ylabel('accuracy')\n",
    "    plt.xlabel('epoch')\n",
    "    plt.legend(['train', 'test'], loc='upper left')\n",
    "    plt.show()\n",
    "    # summarize history for loss\n",
    "    plt.plot(history.history['loss'])\n",
    "    plt.plot(history.history['val_loss'])\n",
    "    plt.title('model loss')\n",
    "    plt.ylabel('loss')\n",
    "    plt.xlabel('epoch')\n",
    "    plt.legend(['train', 'test'], loc='upper left')\n",
    "    plt.show()"
   ]
  },
  {
   "cell_type": "markdown",
   "metadata": {},
   "source": [
    "### Read feature："
   ]
  },
  {
   "cell_type": "code",
   "execution_count": 3,
   "metadata": {},
   "outputs": [],
   "source": [
    "h5_file = \"feature_Xception.h5\"\n",
    "\n",
    "with h5py.File(h5_file, 'r') as h:\n",
    "    X_train = np.array(h['train'])\n",
    "    X_val = np.array(h['val'])\n",
    "    X_test = np.array(h['test'])\n",
    "    y_train = np.array(h['train_label'])\n",
    "    y_val = np.array(h['val_label'])\n",
    "\n",
    "X_train, y_train = shuffle(X_train, y_train)\n"
   ]
  },
  {
   "cell_type": "code",
   "execution_count": 4,
   "metadata": {
    "scrolled": true
   },
   "outputs": [
    {
     "name": "stdout",
     "output_type": "stream",
     "text": [
      "(19944, 2048)\n"
     ]
    }
   ],
   "source": [
    "print(X_train.shape)"
   ]
  },
  {
   "cell_type": "markdown",
   "metadata": {},
   "source": [
    "### Test model:"
   ]
  },
  {
   "cell_type": "code",
   "execution_count": 4,
   "metadata": {},
   "outputs": [
    {
     "name": "stdout",
     "output_type": "stream",
     "text": [
      "4985/4985 [==============================] - 0s 57us/step\n",
      "[0.030538695734536037, 0.9907723155877775]\n"
     ]
    }
   ],
   "source": [
    "if os.path.exists('Xception_top_layers.h5'):\n",
    "    model = load_model('Xception_top_layers.h5')\n",
    "    loss = model.evaluate(X_val, y_val, batch_size=512, verbose=1)\n",
    "    print(loss)"
   ]
  },
  {
   "cell_type": "markdown",
   "metadata": {},
   "source": [
    "### Model adjustment:"
   ]
  },
  {
   "cell_type": "code",
   "execution_count": 7,
   "metadata": {},
   "outputs": [],
   "source": [
    "input_tensor = Input(X_train.shape[1:])\n",
    "x = Dropout(0.6)(input_tensor)\n",
    "# x = Dense(512, activation=None, name='top_dense')(x)\n",
    "# x = BatchNormalization(name='top_bn')(x)\n",
    "# x = Activation('relu')(x)\n",
    "# x = Dropout(0.8)(x)\n",
    "x = Dense(1, activation='sigmoid', name='top_sigmoid')(x)\n",
    "model = Model(input_tensor, x)\n",
    "\n",
    "opt = optimizers.Adam(lr=1e-3)\n",
    "model.compile(optimizer='adam', loss='binary_crossentropy', metrics=['accuracy'])"
   ]
  },
  {
   "cell_type": "code",
   "execution_count": 8,
   "metadata": {},
   "outputs": [
    {
     "name": "stdout",
     "output_type": "stream",
     "text": [
      "Train on 19944 samples, validate on 4985 samples\n",
      "Epoch 1/10\n",
      "19944/19944 [==============================] - 1s 38us/step - loss: 0.1820 - acc: 0.9378 - val_loss: 0.0593 - val_acc: 0.9864\n",
      "Epoch 2/10\n",
      "19944/19944 [==============================] - 0s 24us/step - loss: 0.0571 - acc: 0.9848 - val_loss: 0.0442 - val_acc: 0.9878\n",
      "Epoch 3/10\n",
      "19944/19944 [==============================] - 0s 18us/step - loss: 0.0459 - acc: 0.9858 - val_loss: 0.0388 - val_acc: 0.9884\n",
      "Epoch 4/10\n",
      "19944/19944 [==============================] - 0s 21us/step - loss: 0.0397 - acc: 0.9880 - val_loss: 0.0365 - val_acc: 0.9884\n",
      "Epoch 5/10\n",
      "19944/19944 [==============================] - 0s 23us/step - loss: 0.0388 - acc: 0.9885 - val_loss: 0.0347 - val_acc: 0.9890\n",
      "Epoch 6/10\n",
      "19944/19944 [==============================] - 0s 24us/step - loss: 0.0357 - acc: 0.9889 - val_loss: 0.0334 - val_acc: 0.9898\n",
      "Epoch 7/10\n",
      "19944/19944 [==============================] - 1s 28us/step - loss: 0.0337 - acc: 0.9886 - val_loss: 0.0331 - val_acc: 0.9886\n",
      "Epoch 8/10\n",
      "19944/19944 [==============================] - 1s 27us/step - loss: 0.0331 - acc: 0.9889 - val_loss: 0.0325 - val_acc: 0.9900\n",
      "Epoch 9/10\n",
      "19944/19944 [==============================] - 1s 27us/step - loss: 0.0328 - acc: 0.9895 - val_loss: 0.0323 - val_acc: 0.9892\n",
      "Epoch 10/10\n",
      "19944/19944 [==============================] - 1s 26us/step - loss: 0.0316 - acc: 0.9889 - val_loss: 0.0321 - val_acc: 0.9896\n"
     ]
    }
   ],
   "source": [
    "history = model.fit(X_train, y_train, batch_size=256, epochs=10, validation_data=(X_val, y_val))"
   ]
  },
  {
   "cell_type": "code",
   "execution_count": 9,
   "metadata": {},
   "outputs": [
    {
     "data": {
      "image/png": "[encoded data removed]",
      "text/plain": [
       "<Figure size 432x288 with 1 Axes>"
      ]
     },
     "metadata": {},
     "output_type": "display_data"
    },
    {
     "data": {
      "image/png": "[encoded data removed]",
      "text/plain": [
       "<Figure size 432x288 with 1 Axes>"
      ]
     },
     "metadata": {},
     "output_type": "display_data"
    }
   ],
   "source": [
    "plot_history(history)"
   ]
  },
  {
   "cell_type": "code",
   "execution_count": 10,
   "metadata": {
    "scrolled": true
   },
   "outputs": [],
   "source": [
    "if os.path.isfile('Xception_top_layers.h5'):\n",
    "    os.remove('Xception_top_layers.h5')\n",
    "\n",
    "model.save('Xception_top_layers.h5')"
   ]
  },
  {
   "cell_type": "code",
   "execution_count": 12,
   "metadata": {},
   "outputs": [
    {
     "data": {
      "image/svg+xml": [
       "<svg height=\"221pt\" viewBox=\"0.00 0.00 278.00 221.00\" width=\"278pt\" xmlns=\"http://www.w3.org/2000/svg\" xmlns:xlink=\"http://www.w3.org/1999/xlink\">\n",
       "<g class=\"graph\" id=\"graph0\" transform=\"scale(1 1) rotate(0) translate(4 217)\">\n",
       "<title>G</title>\n",
       "<polygon fill=\"white\" points=\"-4,4 -4,-217 274,-217 274,4 -4,4\" stroke=\"none\"/>\n",
       "<!-- 140473025860664 -->\n",
       "<g class=\"node\" id=\"node1\"><title>140473025860664</title>\n",
       "<polygon fill=\"none\" points=\"0.5,-166.5 0.5,-212.5 269.5,-212.5 269.5,-166.5 0.5,-166.5\" stroke=\"black\"/>\n",
       "<text font-family=\"Times,serif\" font-size=\"14.00\" text-anchor=\"middle\" x=\"63\" y=\"-185.8\">input_2: InputLayer</text>\n",
       "<polyline fill=\"none\" points=\"125.5,-166.5 125.5,-212.5 \" stroke=\"black\"/>\n",
       "<text font-family=\"Times,serif\" font-size=\"14.00\" text-anchor=\"middle\" x=\"153\" y=\"-197.3\">input:</text>\n",
       "<polyline fill=\"none\" points=\"125.5,-189.5 180.5,-189.5 \" stroke=\"black\"/>\n",
       "<text font-family=\"Times,serif\" font-size=\"14.00\" text-anchor=\"middle\" x=\"153\" y=\"-174.3\">output:</text>\n",
       "<polyline fill=\"none\" points=\"180.5,-166.5 180.5,-212.5 \" stroke=\"black\"/>\n",
       "<text font-family=\"Times,serif\" font-size=\"14.00\" text-anchor=\"middle\" x=\"225\" y=\"-197.3\">(None, 2048)</text>\n",
       "<polyline fill=\"none\" points=\"180.5,-189.5 269.5,-189.5 \" stroke=\"black\"/>\n",
       "<text font-family=\"Times,serif\" font-size=\"14.00\" text-anchor=\"middle\" x=\"225\" y=\"-174.3\">(None, 2048)</text>\n",
       "</g>\n",
       "<!-- 140473025862624 -->\n",
       "<g class=\"node\" id=\"node2\"><title>140473025862624</title>\n",
       "<polygon fill=\"none\" points=\"0.5,-83.5 0.5,-129.5 269.5,-129.5 269.5,-83.5 0.5,-83.5\" stroke=\"black\"/>\n",
       "<text font-family=\"Times,serif\" font-size=\"14.00\" text-anchor=\"middle\" x=\"63\" y=\"-102.8\">dropout_2: Dropout</text>\n",
       "<polyline fill=\"none\" points=\"125.5,-83.5 125.5,-129.5 \" stroke=\"black\"/>\n",
       "<text font-family=\"Times,serif\" font-size=\"14.00\" text-anchor=\"middle\" x=\"153\" y=\"-114.3\">input:</text>\n",
       "<polyline fill=\"none\" points=\"125.5,-106.5 180.5,-106.5 \" stroke=\"black\"/>\n",
       "<text font-family=\"Times,serif\" font-size=\"14.00\" text-anchor=\"middle\" x=\"153\" y=\"-91.3\">output:</text>\n",
       "<polyline fill=\"none\" points=\"180.5,-83.5 180.5,-129.5 \" stroke=\"black\"/>\n",
       "<text font-family=\"Times,serif\" font-size=\"14.00\" text-anchor=\"middle\" x=\"225\" y=\"-114.3\">(None, 2048)</text>\n",
       "<polyline fill=\"none\" points=\"180.5,-106.5 269.5,-106.5 \" stroke=\"black\"/>\n",
       "<text font-family=\"Times,serif\" font-size=\"14.00\" text-anchor=\"middle\" x=\"225\" y=\"-91.3\">(None, 2048)</text>\n",
       "</g>\n",
       "<!-- 140473025860664&#45;&gt;140473025862624 -->\n",
       "<g class=\"edge\" id=\"edge1\"><title>140473025860664-&gt;140473025862624</title>\n",
       "<path d=\"M135,-166.366C135,-158.152 135,-148.658 135,-139.725\" fill=\"none\" stroke=\"black\"/>\n",
       "<polygon fill=\"black\" points=\"138.5,-139.607 135,-129.607 131.5,-139.607 138.5,-139.607\" stroke=\"black\"/>\n",
       "</g>\n",
       "<!-- 140473025861280 -->\n",
       "<g class=\"node\" id=\"node3\"><title>140473025861280</title>\n",
       "<polygon fill=\"none\" points=\"0,-0.5 0,-46.5 270,-46.5 270,-0.5 0,-0.5\" stroke=\"black\"/>\n",
       "<text font-family=\"Times,serif\" font-size=\"14.00\" text-anchor=\"middle\" x=\"63\" y=\"-19.8\">top_sigmoid: Dense</text>\n",
       "<polyline fill=\"none\" points=\"126,-0.5 126,-46.5 \" stroke=\"black\"/>\n",
       "<text font-family=\"Times,serif\" font-size=\"14.00\" text-anchor=\"middle\" x=\"153.5\" y=\"-31.3\">input:</text>\n",
       "<polyline fill=\"none\" points=\"126,-23.5 181,-23.5 \" stroke=\"black\"/>\n",
       "<text font-family=\"Times,serif\" font-size=\"14.00\" text-anchor=\"middle\" x=\"153.5\" y=\"-8.3\">output:</text>\n",
       "<polyline fill=\"none\" points=\"181,-0.5 181,-46.5 \" stroke=\"black\"/>\n",
       "<text font-family=\"Times,serif\" font-size=\"14.00\" text-anchor=\"middle\" x=\"225.5\" y=\"-31.3\">(None, 2048)</text>\n",
       "<polyline fill=\"none\" points=\"181,-23.5 270,-23.5 \" stroke=\"black\"/>\n",
       "<text font-family=\"Times,serif\" font-size=\"14.00\" text-anchor=\"middle\" x=\"225.5\" y=\"-8.3\">(None, 1)</text>\n",
       "</g>\n",
       "<!-- 140473025862624&#45;&gt;140473025861280 -->\n",
       "<g class=\"edge\" id=\"edge2\"><title>140473025862624-&gt;140473025861280</title>\n",
       "<path d=\"M135,-83.3664C135,-75.1516 135,-65.6579 135,-56.7252\" fill=\"none\" stroke=\"black\"/>\n",
       "<polygon fill=\"black\" points=\"138.5,-56.6068 135,-46.6068 131.5,-56.6069 138.5,-56.6068\" stroke=\"black\"/>\n",
       "</g>\n",
       "</g>\n",
       "</svg>"
      ],
      "text/plain": [
       "<IPython.core.display.SVG object>"
      ]
     },
     "execution_count": 12,
     "metadata": {},
     "output_type": "execute_result"
    }
   ],
   "source": [
    "SVG(model_to_dot(model, show_shapes=True).create(prog='dot', format='svg'))"
   ]
  },
  {
   "cell_type": "markdown",
   "metadata": {},
   "source": [
    "### Train in total training data:"
   ]
  },
  {
   "cell_type": "code",
   "execution_count": 57,
   "metadata": {},
   "outputs": [
    {
     "name": "stdout",
     "output_type": "stream",
     "text": [
      "Epoch 1/10\n",
      "24929/24929 [==============================] - 2s 73us/step - loss: 0.0712 - acc: 0.9737\n",
      "Epoch 2/10\n",
      "24929/24929 [==============================] - 1s 27us/step - loss: 0.0414 - acc: 0.9852\n",
      "Epoch 3/10\n",
      "24929/24929 [==============================] - 1s 30us/step - loss: 0.0372 - acc: 0.9868\n",
      "Epoch 4/10\n",
      "24929/24929 [==============================] - 1s 31us/step - loss: 0.0349 - acc: 0.9879\n",
      "Epoch 5/10\n",
      "24929/24929 [==============================] - 1s 33us/step - loss: 0.0352 - acc: 0.9884\n",
      "Epoch 6/10\n",
      "24929/24929 [==============================] - 1s 31us/step - loss: 0.0334 - acc: 0.9882\n",
      "Epoch 7/10\n",
      "24929/24929 [==============================] - 1s 30us/step - loss: 0.0325 - acc: 0.9884\n",
      "Epoch 8/10\n",
      "24929/24929 [==============================] - 1s 27us/step - loss: 0.0314 - acc: 0.9887\n",
      "Epoch 9/10\n",
      "24929/24929 [==============================] - 1s 28us/step - loss: 0.0319 - acc: 0.9885\n",
      "Epoch 10/10\n",
      "24929/24929 [==============================] - 1s 34us/step - loss: 0.0300 - acc: 0.9895\n"
     ]
    },
    {
     "data": {
      "text/plain": [
       "<keras.callbacks.History at 0x7f90b6586e48>"
      ]
     },
     "execution_count": 57,
     "metadata": {},
     "output_type": "execute_result"
    }
   ],
   "source": [
    "model.fit(np.concatenate((X_train, X_val)), np.concatenate((y_train, y_val)), batch_size=256, epochs=10, validation_split=0)"
   ]
  },
  {
   "cell_type": "markdown",
   "metadata": {},
   "source": [
    "### Predict:"
   ]
  },
  {
   "cell_type": "code",
   "execution_count": 58,
   "metadata": {},
   "outputs": [
    {
     "name": "stdout",
     "output_type": "stream",
     "text": [
      "12500/12500 [==============================] - 2s 134us/step\n"
     ]
    }
   ],
   "source": [
    "y_pred = model.predict(X_test, verbose=1)\n",
    "y_pred = y_pred.clip(min=0.005, max=0.995)\n"
   ]
  },
  {
   "cell_type": "code",
   "execution_count": 59,
   "metadata": {},
   "outputs": [
    {
     "name": "stdout",
     "output_type": "stream",
     "text": [
      "Found 12500 images belonging to 1 classes.\n"
     ]
    },
    {
     "data": {
      "text/html": [
       "<div>\n",
       "<style scoped>\n",
       "    .dataframe tbody tr th:only-of-type {\n",
       "        vertical-align: middle;\n",
       "    }\n",
       "\n",
       "    .dataframe tbody tr th {\n",
       "        vertical-align: top;\n",
       "    }\n",
       "\n",
       "    .dataframe thead th {\n",
       "        text-align: right;\n",
       "    }\n",
       "</style>\n",
       "<table border=\"1\" class=\"dataframe\">\n",
       "  <thead>\n",
       "    <tr style=\"text-align: right;\">\n",
       "      <th></th>\n",
       "      <th>id</th>\n",
       "      <th>label</th>\n",
       "    </tr>\n",
       "  </thead>\n",
       "  <tbody>\n",
       "    <tr>\n",
       "      <th>0</th>\n",
       "      <td>1</td>\n",
       "      <td>0.995</td>\n",
       "    </tr>\n",
       "    <tr>\n",
       "      <th>1</th>\n",
       "      <td>2</td>\n",
       "      <td>0.995</td>\n",
       "    </tr>\n",
       "    <tr>\n",
       "      <th>2</th>\n",
       "      <td>3</td>\n",
       "      <td>0.995</td>\n",
       "    </tr>\n",
       "    <tr>\n",
       "      <th>3</th>\n",
       "      <td>4</td>\n",
       "      <td>0.995</td>\n",
       "    </tr>\n",
       "    <tr>\n",
       "      <th>4</th>\n",
       "      <td>5</td>\n",
       "      <td>0.005</td>\n",
       "    </tr>\n",
       "    <tr>\n",
       "      <th>5</th>\n",
       "      <td>6</td>\n",
       "      <td>0.005</td>\n",
       "    </tr>\n",
       "    <tr>\n",
       "      <th>6</th>\n",
       "      <td>7</td>\n",
       "      <td>0.005</td>\n",
       "    </tr>\n",
       "    <tr>\n",
       "      <th>7</th>\n",
       "      <td>8</td>\n",
       "      <td>0.005</td>\n",
       "    </tr>\n",
       "    <tr>\n",
       "      <th>8</th>\n",
       "      <td>9</td>\n",
       "      <td>0.005</td>\n",
       "    </tr>\n",
       "    <tr>\n",
       "      <th>9</th>\n",
       "      <td>10</td>\n",
       "      <td>0.005</td>\n",
       "    </tr>\n",
       "  </tbody>\n",
       "</table>\n",
       "</div>"
      ],
      "text/plain": [
       "   id  label\n",
       "0   1  0.995\n",
       "1   2  0.995\n",
       "2   3  0.995\n",
       "3   4  0.995\n",
       "4   5  0.005\n",
       "5   6  0.005\n",
       "6   7  0.005\n",
       "7   8  0.005\n",
       "8   9  0.005\n",
       "9  10  0.005"
      ]
     },
     "execution_count": 59,
     "metadata": {},
     "output_type": "execute_result"
    }
   ],
   "source": [
    "df = pd.read_csv(\"sampleSubmission.csv\")\n",
    "\n",
    "image_size = (229, 229)\n",
    "gen = ImageDataGenerator()\n",
    "test_generator = gen.flow_from_directory(\"test\", image_size, shuffle=False, \n",
    "                                         batch_size=16, class_mode=None)\n",
    "\n",
    "for i, fname in enumerate(test_generator.filenames):\n",
    "    index = int(fname[fname.rfind('/')+1:fname.rfind('.')])\n",
    "    df.loc[index-1, ['label']] = y_pred[i]\n",
    "\n",
    "df.to_csv('pred.csv', index=None)\n",
    "df.head(10)"
   ]
  },
  {
   "cell_type": "code",
   "execution_count": null,
   "metadata": {},
   "outputs": [],
   "source": []
  }
 ],
 "metadata": {
  "kernelspec": {
   "display_name": "Python 3",
   "language": "python",
   "name": "python3"
  },
  "language_info": {
   "codemirror_mode": {
    "name": "ipython",
    "version": 3
   },
   "file_extension": ".py",
   "mimetype": "text/x-python",
   "name": "python",
   "nbconvert_exporter": "python",
   "pygments_lexer": "ipython3",
   "version": "3.6.4"
  }
 },
 "nbformat": 4,
 "nbformat_minor": 2
}
