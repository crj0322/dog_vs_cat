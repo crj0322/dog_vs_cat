{
 "cells": [
  {
   "cell_type": "markdown",
   "metadata": {},
   "source": [
    "# 多模型融合"
   ]
  },
  {
   "cell_type": "code",
   "execution_count": 3,
   "metadata": {},
   "outputs": [
    {
     "name": "stderr",
     "output_type": "stream",
     "text": [
      "/home/wson/anaconda3/envs/tf/lib/python3.6/site-packages/h5py/__init__.py:36: FutureWarning: Conversion of the second argument of issubdtype from `float` to `np.floating` is deprecated. In future, it will be treated as `np.float64 == np.dtype(float).type`.\n",
      "  from ._conv import register_converters as _register_converters\n",
      "Using TensorFlow backend.\n"
     ]
    }
   ],
   "source": [
    "import h5py\n",
    "import numpy as np\n",
    "import pandas as pd\n",
    "from sklearn.utils import shuffle\n",
    "from keras.models import *\n",
    "from keras.layers import *\n",
    "from keras.preprocessing.image import *\n",
    "from keras.callbacks import *\n",
    "import matplotlib.pyplot as plt\n",
    "np.random.seed(2018)\n"
   ]
  },
  {
   "cell_type": "code",
   "execution_count": 4,
   "metadata": {},
   "outputs": [],
   "source": [
    "def plot_history(history):\n",
    "    # list all data in history\n",
    "    # print(history.history.keys())\n",
    "    # summarize history for accuracy\n",
    "    plt.plot(history.history['acc'])\n",
    "    plt.plot(history.history['val_acc'])\n",
    "    plt.title('model accuracy')\n",
    "    plt.ylabel('accuracy')\n",
    "    plt.xlabel('epoch')\n",
    "    plt.legend(['train', 'test'], loc='upper left')\n",
    "    plt.show()\n",
    "    # summarize history for loss\n",
    "    plt.plot(history.history['loss'])\n",
    "    plt.plot(history.history['val_loss'])\n",
    "    plt.title('model loss')\n",
    "    plt.ylabel('loss')\n",
    "    plt.xlabel('epoch')\n",
    "    plt.legend(['train', 'test'], loc='upper left')\n",
    "    plt.show()"
   ]
  },
  {
   "cell_type": "markdown",
   "metadata": {},
   "source": [
    "## 读取特征数据"
   ]
  },
  {
   "cell_type": "markdown",
   "metadata": {},
   "source": [
    "* 使用80%数据作为训练集，20%数据作为验证集"
   ]
  },
  {
   "cell_type": "code",
   "execution_count": 5,
   "metadata": {},
   "outputs": [],
   "source": [
    "def read_feature():\n",
    "    h5_filelist = [\"feature_Xception.h5\", \"feature_InceptionV3.h5\", \"feature_InceptionResNetV2.h5\"]\n",
    "\n",
    "    X_train = []\n",
    "    X_test = []\n",
    "    X_val = []\n",
    "    X_test = []\n",
    "\n",
    "    for filename in h5_filelist:\n",
    "        with h5py.File(filename, 'r') as h:\n",
    "            X_pretrain = np.array(h['pretrain'])\n",
    "            y_pretrain = np.array(h['pretrain_label'])\n",
    "            X_finetune = np.array(h['finetune'])\n",
    "            y_finetune = np.array(h['finetune_label'])\n",
    "            y_val = np.array(h['val_label'])\n",
    "            X_val.append(np.array(h['val']))\n",
    "            X_test.append(np.array(h['test']))\n",
    "            \n",
    "            X_train.append(np.concatenate((X_pretrain, X_finetune), axis=0))\n",
    "            y_train = np.concatenate((y_pretrain, y_finetune), axis=0)\n",
    "\n",
    "    X_train = np.concatenate(X_train, axis=1)\n",
    "    X_val = np.concatenate(X_val, axis=1)\n",
    "    X_test = np.concatenate(X_test, axis=1)\n",
    "\n",
    "    X_train, y_train = shuffle(X_train, y_train)\n",
    "    \n",
    "    return X_train, y_train, X_val, y_val, X_test\n"
   ]
  },
  {
   "cell_type": "code",
   "execution_count": 6,
   "metadata": {},
   "outputs": [
    {
     "name": "stdout",
     "output_type": "stream",
     "text": [
      "(19916, 5632) (19916,) (4979, 5632) (4979,) (12500, 5632)\n"
     ]
    }
   ],
   "source": [
    "X_train, y_train, X_val, y_val, X_test = read_feature()\n",
    "print(X_train.shape, y_train.shape, X_val.shape, y_val.shape, X_test.shape)"
   ]
  },
  {
   "cell_type": "markdown",
   "metadata": {},
   "source": [
    "## 构建分类器"
   ]
  },
  {
   "cell_type": "code",
   "execution_count": 10,
   "metadata": {},
   "outputs": [],
   "source": [
    "def build_model(input_shape, drop_prob: float, lr=1e-3, decay=1e-6):\n",
    "    input_tensor = Input(input_shape)\n",
    "    x = Dropout(drop_prob)(input_tensor)\n",
    "    x = Dense(1, activation='sigmoid', name='top_sigmoid')(x)\n",
    "    model = Model(input_tensor, x)\n",
    "\n",
    "    opt = optimizers.Adam(lr=lr, decay=decay)\n",
    "    model.compile(optimizer=opt, loss='binary_crossentropy', metrics=['accuracy'])\n",
    "    \n",
    "    return model"
   ]
  },
  {
   "cell_type": "markdown",
   "metadata": {},
   "source": [
    "* 调整参数"
   ]
  },
  {
   "cell_type": "code",
   "execution_count": 6,
   "metadata": {},
   "outputs": [],
   "source": [
    "model = build_model(X_train.shape[1:], 0.5, lr=1e-3, decay=1e-6)"
   ]
  },
  {
   "cell_type": "code",
   "execution_count": 7,
   "metadata": {
    "scrolled": true
   },
   "outputs": [
    {
     "name": "stdout",
     "output_type": "stream",
     "text": [
      "WARNING:tensorflow:Variable *= will be deprecated. Use variable.assign_mul if you want assignment to the variable value or 'x = x * y' if you want a new python Tensor object.\n",
      "Train on 19916 samples, validate on 4979 samples\n",
      "Epoch 1/30\n",
      "19916/19916 [==============================] - 3s 158us/step - loss: 0.0555 - acc: 0.9839 - val_loss: 0.0151 - val_acc: 0.9962\n",
      "Epoch 2/30\n",
      "19916/19916 [==============================] - 1s 56us/step - loss: 0.0141 - acc: 0.9961 - val_loss: 0.0094 - val_acc: 0.9984\n",
      "Epoch 3/30\n",
      "19916/19916 [==============================] - 1s 61us/step - loss: 0.0118 - acc: 0.9967 - val_loss: 0.0088 - val_acc: 0.9982\n",
      "Epoch 4/30\n",
      "19916/19916 [==============================] - 1s 54us/step - loss: 0.0106 - acc: 0.9969 - val_loss: 0.0074 - val_acc: 0.9984\n",
      "Epoch 5/30\n",
      "19916/19916 [==============================] - 1s 51us/step - loss: 0.0099 - acc: 0.9974 - val_loss: 0.0075 - val_acc: 0.9986\n",
      "Epoch 6/30\n",
      "19916/19916 [==============================] - 1s 53us/step - loss: 0.0085 - acc: 0.9975 - val_loss: 0.0067 - val_acc: 0.9986\n",
      "Epoch 7/30\n",
      "19916/19916 [==============================] - 1s 49us/step - loss: 0.0093 - acc: 0.9973 - val_loss: 0.0074 - val_acc: 0.9986\n",
      "Epoch 8/30\n",
      "19916/19916 [==============================] - 1s 49us/step - loss: 0.0076 - acc: 0.9977 - val_loss: 0.0070 - val_acc: 0.9986\n",
      "Epoch 9/30\n",
      "19916/19916 [==============================] - 1s 59us/step - loss: 0.0072 - acc: 0.9978 - val_loss: 0.0063 - val_acc: 0.9988\n",
      "Epoch 10/30\n",
      "19916/19916 [==============================] - 1s 60us/step - loss: 0.0074 - acc: 0.9975 - val_loss: 0.0064 - val_acc: 0.9986\n",
      "Epoch 11/30\n",
      "19916/19916 [==============================] - 1s 53us/step - loss: 0.0064 - acc: 0.9981 - val_loss: 0.0068 - val_acc: 0.9982\n",
      "Epoch 12/30\n",
      "19916/19916 [==============================] - 1s 56us/step - loss: 0.0054 - acc: 0.9984 - val_loss: 0.0097 - val_acc: 0.9974\n",
      "Epoch 13/30\n",
      "19916/19916 [==============================] - 1s 63us/step - loss: 0.0063 - acc: 0.9979 - val_loss: 0.0067 - val_acc: 0.9986\n",
      "Epoch 14/30\n",
      "19916/19916 [==============================] - 1s 59us/step - loss: 0.0056 - acc: 0.9980 - val_loss: 0.0064 - val_acc: 0.9988\n"
     ]
    }
   ],
   "source": [
    "callbacks = [EarlyStopping(monitor='val_loss', patience=5, verbose=0, mode='min'),\n",
    "             ModelCheckpoint(filepath='top_multimodel.h5', monitor='val_loss', verbose=0, save_best_only=True)]\n",
    "\n",
    "history = model.fit(X_train, y_train, batch_size=128, epochs=30, validation_data=(X_val, y_val), callbacks=callbacks)"
   ]
  },
  {
   "cell_type": "code",
   "execution_count": 8,
   "metadata": {},
   "outputs": [
    {
     "data": {
      "image/png": "[encoded data removed]",
      "text/plain": [
       "<Figure size 432x288 with 1 Axes>"
      ]
     },
     "metadata": {},
     "output_type": "display_data"
    },
    {
     "data": {
      "image/png": "[encoded data removed]",
      "text/plain": [
       "<Figure size 432x288 with 1 Axes>"
      ]
     },
     "metadata": {},
     "output_type": "display_data"
    }
   ],
   "source": [
    "plot_history(history)"
   ]
  },
  {
   "cell_type": "markdown",
   "metadata": {},
   "source": [
    "## 改进"
   ]
  },
  {
   "cell_type": "code",
   "execution_count": 2,
   "metadata": {},
   "outputs": [],
   "source": [
    "from sklearn.model_selection import StratifiedKFold"
   ]
  },
  {
   "cell_type": "code",
   "execution_count": 7,
   "metadata": {},
   "outputs": [
    {
     "name": "stdout",
     "output_type": "stream",
     "text": [
      "(24895, 5632) (24895,)\n"
     ]
    }
   ],
   "source": [
    "X = np.concatenate((X_train, X_val), axis=0)\n",
    "y = np.concatenate((y_train, y_val), axis=0)\n",
    "print(X.shape, y.shape)"
   ]
  },
  {
   "cell_type": "code",
   "execution_count": 23,
   "metadata": {},
   "outputs": [
    {
     "name": "stdout",
     "output_type": "stream",
     "text": [
      "fold 1:\n",
      "Train on 19916 samples, validate on 4979 samples\n",
      "Epoch 1/30\n",
      "19916/19916 [==============================] - 2s 88us/step - loss: 0.0612 - acc: 0.9818 - val_loss: 0.0160 - val_acc: 0.9958\n",
      "Epoch 2/30\n",
      "19916/19916 [==============================] - 1s 55us/step - loss: 0.0168 - acc: 0.9955 - val_loss: 0.0150 - val_acc: 0.9964\n",
      "Epoch 3/30\n",
      "19916/19916 [==============================] - 1s 55us/step - loss: 0.0131 - acc: 0.9969 - val_loss: 0.0117 - val_acc: 0.9966\n",
      "Epoch 4/30\n",
      "19916/19916 [==============================] - 1s 54us/step - loss: 0.0110 - acc: 0.9970 - val_loss: 0.0118 - val_acc: 0.9962\n",
      "Epoch 5/30\n",
      "19916/19916 [==============================] - 1s 68us/step - loss: 0.0106 - acc: 0.9973 - val_loss: 0.0117 - val_acc: 0.9964\n",
      "Epoch 6/30\n",
      "19916/19916 [==============================] - 1s 70us/step - loss: 0.0106 - acc: 0.9967 - val_loss: 0.0118 - val_acc: 0.9964\n",
      "Epoch 7/30\n",
      "19916/19916 [==============================] - 1s 56us/step - loss: 0.0096 - acc: 0.9973 - val_loss: 0.0124 - val_acc: 0.9964\n",
      "Epoch 8/30\n",
      "19916/19916 [==============================] - 1s 66us/step - loss: 0.0097 - acc: 0.9972 - val_loss: 0.0119 - val_acc: 0.9964\n",
      "save fold 1, loss 0.0117.\n",
      "fold 2:\n",
      "Train on 19916 samples, validate on 4979 samples\n",
      "Epoch 1/30\n",
      "19916/19916 [==============================] - 2s 105us/step - loss: 0.0687 - acc: 0.9772 - val_loss: 0.0162 - val_acc: 0.9956\n",
      "Epoch 2/30\n",
      "19916/19916 [==============================] - 1s 66us/step - loss: 0.0177 - acc: 0.9958 - val_loss: 0.0110 - val_acc: 0.9972\n",
      "Epoch 3/30\n",
      "19916/19916 [==============================] - 1s 58us/step - loss: 0.0143 - acc: 0.9962 - val_loss: 0.0103 - val_acc: 0.9968\n",
      "Epoch 4/30\n",
      "19916/19916 [==============================] - 1s 68us/step - loss: 0.0117 - acc: 0.9968 - val_loss: 0.0098 - val_acc: 0.9968\n",
      "Epoch 5/30\n",
      "19916/19916 [==============================] - 1s 53us/step - loss: 0.0111 - acc: 0.9973 - val_loss: 0.0095 - val_acc: 0.9968\n",
      "Epoch 6/30\n",
      "19916/19916 [==============================] - 1s 62us/step - loss: 0.0115 - acc: 0.9967 - val_loss: 0.0095 - val_acc: 0.9970\n",
      "Epoch 7/30\n",
      "19916/19916 [==============================] - 1s 67us/step - loss: 0.0103 - acc: 0.9972 - val_loss: 0.0102 - val_acc: 0.9968\n",
      "Epoch 8/30\n",
      "19916/19916 [==============================] - 1s 66us/step - loss: 0.0112 - acc: 0.9971 - val_loss: 0.0090 - val_acc: 0.9972\n",
      "Epoch 9/30\n",
      "19916/19916 [==============================] - 1s 62us/step - loss: 0.0089 - acc: 0.9974 - val_loss: 0.0091 - val_acc: 0.9976\n",
      "Epoch 10/30\n",
      "19916/19916 [==============================] - 1s 60us/step - loss: 0.0091 - acc: 0.9977 - val_loss: 0.0087 - val_acc: 0.9970\n",
      "Epoch 11/30\n",
      "19916/19916 [==============================] - 1s 61us/step - loss: 0.0091 - acc: 0.9976 - val_loss: 0.0087 - val_acc: 0.9974\n",
      "Epoch 12/30\n",
      "19916/19916 [==============================] - 1s 70us/step - loss: 0.0092 - acc: 0.9975 - val_loss: 0.0096 - val_acc: 0.9970\n",
      "Epoch 13/30\n",
      "19916/19916 [==============================] - 1s 60us/step - loss: 0.0087 - acc: 0.9974 - val_loss: 0.0087 - val_acc: 0.9976\n",
      "Epoch 14/30\n",
      "19916/19916 [==============================] - 1s 70us/step - loss: 0.0083 - acc: 0.9972 - val_loss: 0.0092 - val_acc: 0.9974\n",
      "Epoch 15/30\n",
      "19916/19916 [==============================] - 1s 70us/step - loss: 0.0085 - acc: 0.9975 - val_loss: 0.0094 - val_acc: 0.9970\n",
      "Epoch 16/30\n",
      "19916/19916 [==============================] - 1s 64us/step - loss: 0.0088 - acc: 0.9975 - val_loss: 0.0099 - val_acc: 0.9968\n",
      "Epoch 17/30\n",
      "19916/19916 [==============================] - 1s 72us/step - loss: 0.0079 - acc: 0.9977 - val_loss: 0.0092 - val_acc: 0.9974\n",
      "Epoch 18/30\n",
      "19916/19916 [==============================] - 1s 56us/step - loss: 0.0074 - acc: 0.9975 - val_loss: 0.0092 - val_acc: 0.9974\n",
      "save fold 2, loss 0.0087.\n",
      "fold 3:\n",
      "Train on 19916 samples, validate on 4979 samples\n",
      "Epoch 1/30\n",
      "19916/19916 [==============================] - 2s 99us/step - loss: 0.0561 - acc: 0.9830 - val_loss: 0.0153 - val_acc: 0.9974\n",
      "Epoch 2/30\n",
      "19916/19916 [==============================] - 1s 70us/step - loss: 0.0166 - acc: 0.9960 - val_loss: 0.0107 - val_acc: 0.9972\n",
      "Epoch 3/30\n",
      "19916/19916 [==============================] - 1s 74us/step - loss: 0.0141 - acc: 0.9961 - val_loss: 0.0110 - val_acc: 0.9968\n",
      "Epoch 4/30\n",
      "19916/19916 [==============================] - 1s 68us/step - loss: 0.0121 - acc: 0.9969 - val_loss: 0.0095 - val_acc: 0.9972\n",
      "Epoch 5/30\n",
      "19916/19916 [==============================] - 1s 69us/step - loss: 0.0105 - acc: 0.9970 - val_loss: 0.0102 - val_acc: 0.9970\n",
      "Epoch 6/30\n",
      "19916/19916 [==============================] - 1s 65us/step - loss: 0.0101 - acc: 0.9970 - val_loss: 0.0096 - val_acc: 0.9976\n",
      "Epoch 7/30\n",
      "19916/19916 [==============================] - 1s 75us/step - loss: 0.0096 - acc: 0.9972 - val_loss: 0.0092 - val_acc: 0.9974\n",
      "Epoch 8/30\n",
      "19916/19916 [==============================] - 1s 74us/step - loss: 0.0105 - acc: 0.9969 - val_loss: 0.0100 - val_acc: 0.9972\n",
      "Epoch 9/30\n",
      "19916/19916 [==============================] - 1s 63us/step - loss: 0.0104 - acc: 0.9968 - val_loss: 0.0095 - val_acc: 0.9970\n",
      "Epoch 10/30\n",
      "19916/19916 [==============================] - 1s 68us/step - loss: 0.0094 - acc: 0.9972 - val_loss: 0.0096 - val_acc: 0.9974\n",
      "Epoch 11/30\n",
      "19916/19916 [==============================] - 1s 69us/step - loss: 0.0100 - acc: 0.9974 - val_loss: 0.0103 - val_acc: 0.9970\n",
      "Epoch 12/30\n",
      "19916/19916 [==============================] - 1s 57us/step - loss: 0.0088 - acc: 0.9976 - val_loss: 0.0093 - val_acc: 0.9972\n",
      "fold 4:\n",
      "Train on 19916 samples, validate on 4979 samples\n",
      "Epoch 1/30\n",
      "19916/19916 [==============================] - 2s 108us/step - loss: 0.0607 - acc: 0.9810 - val_loss: 0.0158 - val_acc: 0.9962\n",
      "Epoch 2/30\n",
      "19916/19916 [==============================] - 1s 65us/step - loss: 0.0162 - acc: 0.9958 - val_loss: 0.0127 - val_acc: 0.9960\n",
      "Epoch 3/30\n",
      "19916/19916 [==============================] - 1s 67us/step - loss: 0.0131 - acc: 0.9967 - val_loss: 0.0126 - val_acc: 0.9960\n",
      "Epoch 4/30\n",
      "19916/19916 [==============================] - 1s 67us/step - loss: 0.0116 - acc: 0.9970 - val_loss: 0.0149 - val_acc: 0.9960\n",
      "Epoch 5/30\n",
      "19916/19916 [==============================] - 1s 69us/step - loss: 0.0119 - acc: 0.9965 - val_loss: 0.0118 - val_acc: 0.9968\n",
      "Epoch 6/30\n",
      "19916/19916 [==============================] - 2s 79us/step - loss: 0.0103 - acc: 0.9973 - val_loss: 0.0127 - val_acc: 0.9962\n",
      "Epoch 7/30\n",
      "19916/19916 [==============================] - 1s 56us/step - loss: 0.0098 - acc: 0.9970 - val_loss: 0.0121 - val_acc: 0.9966\n",
      "Epoch 8/30\n",
      "19916/19916 [==============================] - 1s 64us/step - loss: 0.0105 - acc: 0.9972 - val_loss: 0.0155 - val_acc: 0.9962\n",
      "Epoch 9/30\n",
      "19916/19916 [==============================] - 1s 62us/step - loss: 0.0095 - acc: 0.9970 - val_loss: 0.0125 - val_acc: 0.9966\n",
      "Epoch 10/30\n",
      "19916/19916 [==============================] - 1s 65us/step - loss: 0.0083 - acc: 0.9976 - val_loss: 0.0123 - val_acc: 0.9966\n",
      "fold 5:\n",
      "Train on 19916 samples, validate on 4979 samples\n",
      "Epoch 1/30\n",
      "19916/19916 [==============================] - 2s 85us/step - loss: 0.0589 - acc: 0.9820 - val_loss: 0.0155 - val_acc: 0.9964\n",
      "Epoch 2/30\n",
      "19916/19916 [==============================] - 1s 57us/step - loss: 0.0163 - acc: 0.9956 - val_loss: 0.0128 - val_acc: 0.9974\n",
      "Epoch 3/30\n",
      "19916/19916 [==============================] - 1s 57us/step - loss: 0.0128 - acc: 0.9963 - val_loss: 0.0115 - val_acc: 0.9974\n",
      "Epoch 4/30\n",
      "19916/19916 [==============================] - 1s 63us/step - loss: 0.0119 - acc: 0.9965 - val_loss: 0.0115 - val_acc: 0.9974\n",
      "Epoch 5/30\n",
      "19916/19916 [==============================] - 1s 51us/step - loss: 0.0122 - acc: 0.9961 - val_loss: 0.0110 - val_acc: 0.9976\n",
      "Epoch 6/30\n",
      "19916/19916 [==============================] - 1s 60us/step - loss: 0.0099 - acc: 0.9971 - val_loss: 0.0111 - val_acc: 0.9974\n",
      "Epoch 7/30\n",
      "19916/19916 [==============================] - 1s 55us/step - loss: 0.0109 - acc: 0.9969 - val_loss: 0.0112 - val_acc: 0.9974\n",
      "Epoch 8/30\n",
      "19916/19916 [==============================] - 1s 51us/step - loss: 0.0094 - acc: 0.9972 - val_loss: 0.0111 - val_acc: 0.9976\n",
      "Epoch 9/30\n",
      "19916/19916 [==============================] - 1s 58us/step - loss: 0.0088 - acc: 0.9974 - val_loss: 0.0110 - val_acc: 0.9974\n",
      "Epoch 10/30\n"
     ]
    },
    {
     "name": "stdout",
     "output_type": "stream",
     "text": [
      "19916/19916 [==============================] - 1s 44us/step - loss: 0.0086 - acc: 0.9971 - val_loss: 0.0118 - val_acc: 0.9974\n"
     ]
    }
   ],
   "source": [
    "skf = StratifiedKFold(n_splits=5, shuffle=True, random_state=2018)\n",
    "\n",
    "loss = 1.0\n",
    "i = 1\n",
    "for train, val in skf.split(X, y):\n",
    "    print(\"fold %d:\"%i)\n",
    "    callbacks = [EarlyStopping(monitor='val_loss', patience=5, verbose=0, mode='min'),\n",
    "                 ModelCheckpoint(filepath='top_multimodel.h5', monitor='val_loss', verbose=0, save_best_only=True)]\n",
    "    model = build_model(X_train.shape[1:], 0.7, lr=1e-3, decay=1e-6)\n",
    "\n",
    "    tmp_history = model.fit(X[train], y[train], batch_size=128, epochs=30, validation_data=(X[val], y[val]), callbacks=callbacks)\n",
    "    \n",
    "    model.load_weights('top_multimodel.h5')\n",
    "    tmp_loss = model.evaluate(X[val], y[val], verbose=0)\n",
    "    if tmp_loss[0] < loss:\n",
    "        loss = tmp_loss[0]\n",
    "        model.save('top_multimodel_final.h5')\n",
    "        history = tmp_history\n",
    "        print(\"save fold %d, loss %.4f.\"%(i, loss))\n",
    "        \n",
    "    i = i + 1"
   ]
  },
  {
   "cell_type": "code",
   "execution_count": 24,
   "metadata": {},
   "outputs": [
    {
     "data": {
      "image/png": "[encoded data removed]",
      "text/plain": [
       "<Figure size 432x288 with 1 Axes>"
      ]
     },
     "metadata": {},
     "output_type": "display_data"
    },
    {
     "data": {
      "image/png": "[encoded data removed]",
      "text/plain": [
       "<Figure size 432x288 with 1 Axes>"
      ]
     },
     "metadata": {},
     "output_type": "display_data"
    }
   ],
   "source": [
    "plot_history(history)"
   ]
  },
  {
   "cell_type": "markdown",
   "metadata": {},
   "source": [
    "## 预测测试集"
   ]
  },
  {
   "cell_type": "code",
   "execution_count": 25,
   "metadata": {},
   "outputs": [],
   "source": [
    "model.load_weights('top_multimodel_final.h5')"
   ]
  },
  {
   "cell_type": "code",
   "execution_count": 26,
   "metadata": {},
   "outputs": [
    {
     "name": "stdout",
     "output_type": "stream",
     "text": [
      "12500/12500 [==============================] - 1s 103us/step\n"
     ]
    }
   ],
   "source": [
    "y_pred = model.predict(X_test, verbose=1)"
   ]
  },
  {
   "cell_type": "code",
   "execution_count": 27,
   "metadata": {},
   "outputs": [],
   "source": [
    "y_pred_clip = y_pred.clip(min=0.005, max=0.995)"
   ]
  },
  {
   "cell_type": "code",
   "execution_count": 28,
   "metadata": {},
   "outputs": [
    {
     "name": "stdout",
     "output_type": "stream",
     "text": [
      "Found 12500 images belonging to 1 classes.\n"
     ]
    },
    {
     "data": {
      "text/html": [
       "<div>\n",
       "<style scoped>\n",
       "    .dataframe tbody tr th:only-of-type {\n",
       "        vertical-align: middle;\n",
       "    }\n",
       "\n",
       "    .dataframe tbody tr th {\n",
       "        vertical-align: top;\n",
       "    }\n",
       "\n",
       "    .dataframe thead th {\n",
       "        text-align: right;\n",
       "    }\n",
       "</style>\n",
       "<table border=\"1\" class=\"dataframe\">\n",
       "  <thead>\n",
       "    <tr style=\"text-align: right;\">\n",
       "      <th></th>\n",
       "      <th>id</th>\n",
       "      <th>label</th>\n",
       "    </tr>\n",
       "  </thead>\n",
       "  <tbody>\n",
       "    <tr>\n",
       "      <th>0</th>\n",
       "      <td>1</td>\n",
       "      <td>0.995</td>\n",
       "    </tr>\n",
       "    <tr>\n",
       "      <th>1</th>\n",
       "      <td>2</td>\n",
       "      <td>0.995</td>\n",
       "    </tr>\n",
       "    <tr>\n",
       "      <th>2</th>\n",
       "      <td>3</td>\n",
       "      <td>0.995</td>\n",
       "    </tr>\n",
       "    <tr>\n",
       "      <th>3</th>\n",
       "      <td>4</td>\n",
       "      <td>0.995</td>\n",
       "    </tr>\n",
       "    <tr>\n",
       "      <th>4</th>\n",
       "      <td>5</td>\n",
       "      <td>0.005</td>\n",
       "    </tr>\n",
       "    <tr>\n",
       "      <th>5</th>\n",
       "      <td>6</td>\n",
       "      <td>0.005</td>\n",
       "    </tr>\n",
       "    <tr>\n",
       "      <th>6</th>\n",
       "      <td>7</td>\n",
       "      <td>0.005</td>\n",
       "    </tr>\n",
       "    <tr>\n",
       "      <th>7</th>\n",
       "      <td>8</td>\n",
       "      <td>0.005</td>\n",
       "    </tr>\n",
       "    <tr>\n",
       "      <th>8</th>\n",
       "      <td>9</td>\n",
       "      <td>0.005</td>\n",
       "    </tr>\n",
       "    <tr>\n",
       "      <th>9</th>\n",
       "      <td>10</td>\n",
       "      <td>0.005</td>\n",
       "    </tr>\n",
       "  </tbody>\n",
       "</table>\n",
       "</div>"
      ],
      "text/plain": [
       "   id  label\n",
       "0   1  0.995\n",
       "1   2  0.995\n",
       "2   3  0.995\n",
       "3   4  0.995\n",
       "4   5  0.005\n",
       "5   6  0.005\n",
       "6   7  0.005\n",
       "7   8  0.005\n",
       "8   9  0.005\n",
       "9  10  0.005"
      ]
     },
     "execution_count": 28,
     "metadata": {},
     "output_type": "execute_result"
    }
   ],
   "source": [
    "df = pd.read_csv(\"sampleSubmission.csv\")\n",
    "\n",
    "gen = ImageDataGenerator()\n",
    "test_generator = gen.flow_from_directory(\"test\", (299, 299), shuffle=False, \n",
    "                                         batch_size=16, class_mode=None)\n",
    "\n",
    "for i, fname in enumerate(test_generator.filenames):\n",
    "    index = int(fname[fname.rfind('/')+1:fname.rfind('.')])\n",
    "    df.loc[index-1, ['label']] = y_pred_clip[i]\n",
    "\n",
    "df.to_csv('pred.csv', index=None)\n",
    "df.head(10)"
   ]
  },
  {
   "cell_type": "code",
   "execution_count": null,
   "metadata": {},
   "outputs": [],
   "source": []
  }
 ],
 "metadata": {
  "kernelspec": {
   "display_name": "Python 3",
   "language": "python",
   "name": "python3"
  },
  "language_info": {
   "codemirror_mode": {
    "name": "ipython",
    "version": 3
   },
   "file_extension": ".py",
   "mimetype": "text/x-python",
   "name": "python",
   "nbconvert_exporter": "python",
   "pygments_lexer": "ipython3",
   "version": "3.6.4"
  }
 },
 "nbformat": 4,
 "nbformat_minor": 2
}
