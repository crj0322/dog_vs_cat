{
 "cells": [
  {
   "cell_type": "markdown",
   "metadata": {},
   "source": [
    "# 单模型fine-tune"
   ]
  },
  {
   "cell_type": "code",
   "execution_count": 1,
   "metadata": {},
   "outputs": [
    {
     "name": "stderr",
     "output_type": "stream",
     "text": [
      "/home/wson/anaconda3/envs/tf/lib/python3.6/site-packages/h5py/__init__.py:36: FutureWarning: Conversion of the second argument of issubdtype from `float` to `np.floating` is deprecated. In future, it will be treated as `np.float64 == np.dtype(float).type`.\n",
      "  from ._conv import register_converters as _register_converters\n",
      "Using TensorFlow backend.\n"
     ]
    }
   ],
   "source": [
    "import h5py\n",
    "import numpy as np\n",
    "import pandas as pd\n",
    "from sklearn.utils import shuffle\n",
    "from keras.models import *\n",
    "from keras.layers import *\n",
    "from keras.applications import *\n",
    "from keras.preprocessing.image import *\n",
    "from keras.callbacks import *\n",
    "import matplotlib.pyplot as plt\n",
    "import os\n",
    "\n",
    "np.random.seed(2018)"
   ]
  },
  {
   "cell_type": "code",
   "execution_count": 2,
   "metadata": {},
   "outputs": [],
   "source": [
    "def plot_history(history):\n",
    "    # list all data in history\n",
    "    # print(history.history.keys())\n",
    "    # summarize history for accuracy\n",
    "    plt.plot(history.history['acc'])\n",
    "    plt.plot(history.history['val_acc'])\n",
    "    plt.title('model accuracy')\n",
    "    plt.ylabel('accuracy')\n",
    "    plt.xlabel('epoch')\n",
    "    plt.legend(['train', 'test'], loc='upper left')\n",
    "    plt.show()\n",
    "    # summarize history for loss\n",
    "    plt.plot(history.history['loss'])\n",
    "    plt.plot(history.history['val_loss'])\n",
    "    plt.title('model loss')\n",
    "    plt.ylabel('loss')\n",
    "    plt.xlabel('epoch')\n",
    "    plt.legend(['train', 'test'], loc='upper left')\n",
    "    plt.show()"
   ]
  },
  {
   "cell_type": "code",
   "execution_count": 3,
   "metadata": {},
   "outputs": [],
   "source": [
    "input_size = (299, 299, 3)\n"
   ]
  },
  {
   "cell_type": "markdown",
   "metadata": {},
   "source": [
    "## 预训练分类器"
   ]
  },
  {
   "cell_type": "markdown",
   "metadata": {},
   "source": [
    "### 读取预训练数据"
   ]
  },
  {
   "cell_type": "code",
   "execution_count": 4,
   "metadata": {},
   "outputs": [],
   "source": [
    "h5_file = \"feature_Xception.h5\"\n",
    "\n",
    "with h5py.File(h5_file, 'r') as h:\n",
    "    X_train = np.array(h['pretrain'])\n",
    "    y_train = np.array(h['pretrain_label'])\n",
    "    X_val = np.array(h['val'])\n",
    "    y_val = np.array(h['val_label'])\n",
    "\n",
    "X_train, y_train = shuffle(X_train, y_train)\n"
   ]
  },
  {
   "cell_type": "code",
   "execution_count": 6,
   "metadata": {},
   "outputs": [
    {
     "name": "stdout",
     "output_type": "stream",
     "text": [
      "(1991, 2048) (4979, 2048)\n"
     ]
    }
   ],
   "source": [
    "print(X_train.shape, X_val.shape)"
   ]
  },
  {
   "cell_type": "markdown",
   "metadata": {},
   "source": [
    "### 构建分类器"
   ]
  },
  {
   "cell_type": "code",
   "execution_count": 7,
   "metadata": {},
   "outputs": [],
   "source": [
    "def build_model(input_shape, drop_prob: float, lr=1e-2):\n",
    "    input_tensor = Input(input_shape)\n",
    "    x = Dropout(drop_prob)(input_tensor)\n",
    "    x = Dense(1, activation='sigmoid', name='top_sigmoid')(x)\n",
    "    model = Model(input_tensor, x)\n",
    "\n",
    "    opt = optimizers.Adam(lr=lr)\n",
    "    model.compile(optimizer=opt, loss='binary_crossentropy', metrics=['accuracy'])\n",
    "    \n",
    "    return model"
   ]
  },
  {
   "cell_type": "code",
   "execution_count": 21,
   "metadata": {},
   "outputs": [],
   "source": [
    "model = build_model(X_train.shape[1:], 0.7, lr=1e-3)"
   ]
  },
  {
   "cell_type": "markdown",
   "metadata": {},
   "source": [
    "### 使用10%的数据训练分类器"
   ]
  },
  {
   "cell_type": "code",
   "execution_count": 22,
   "metadata": {
    "scrolled": true
   },
   "outputs": [
    {
     "name": "stdout",
     "output_type": "stream",
     "text": [
      "Train on 1991 samples, validate on 4979 samples\n",
      "Epoch 1/50\n",
      "1991/1991 [==============================] - 2s 920us/step - loss: 0.5517 - acc: 0.7509 - val_loss: 0.3429 - val_acc: 0.9865\n",
      "Epoch 2/50\n",
      "1991/1991 [==============================] - 0s 89us/step - loss: 0.2774 - acc: 0.9719 - val_loss: 0.1858 - val_acc: 0.9908\n",
      "Epoch 3/50\n",
      "1991/1991 [==============================] - 0s 84us/step - loss: 0.1682 - acc: 0.9864 - val_loss: 0.1238 - val_acc: 0.9916\n",
      "Epoch 4/50\n",
      "1991/1991 [==============================] - 0s 91us/step - loss: 0.1206 - acc: 0.9910 - val_loss: 0.0946 - val_acc: 0.9926\n",
      "Epoch 5/50\n",
      "1991/1991 [==============================] - 0s 114us/step - loss: 0.0970 - acc: 0.9900 - val_loss: 0.0776 - val_acc: 0.9930\n",
      "Epoch 6/50\n",
      "1991/1991 [==============================] - 0s 112us/step - loss: 0.0823 - acc: 0.9874 - val_loss: 0.0664 - val_acc: 0.9938\n",
      "Epoch 7/50\n",
      "1991/1991 [==============================] - 0s 118us/step - loss: 0.0725 - acc: 0.9910 - val_loss: 0.0586 - val_acc: 0.9938\n",
      "Epoch 8/50\n",
      "1991/1991 [==============================] - 0s 115us/step - loss: 0.0658 - acc: 0.9910 - val_loss: 0.0528 - val_acc: 0.9938\n",
      "Epoch 9/50\n",
      "1991/1991 [==============================] - 0s 115us/step - loss: 0.0592 - acc: 0.9900 - val_loss: 0.0481 - val_acc: 0.9940\n",
      "Epoch 10/50\n",
      "1991/1991 [==============================] - 0s 117us/step - loss: 0.0509 - acc: 0.9940 - val_loss: 0.0443 - val_acc: 0.9942\n",
      "Epoch 11/50\n",
      "1991/1991 [==============================] - 0s 116us/step - loss: 0.0476 - acc: 0.9935 - val_loss: 0.0412 - val_acc: 0.9944\n",
      "Epoch 12/50\n",
      "1991/1991 [==============================] - 0s 103us/step - loss: 0.0479 - acc: 0.9920 - val_loss: 0.0387 - val_acc: 0.9944\n",
      "Epoch 13/50\n",
      "1991/1991 [==============================] - 0s 103us/step - loss: 0.0431 - acc: 0.9935 - val_loss: 0.0365 - val_acc: 0.9948\n",
      "Epoch 14/50\n",
      "1991/1991 [==============================] - 0s 85us/step - loss: 0.0407 - acc: 0.9940 - val_loss: 0.0345 - val_acc: 0.9948\n",
      "Epoch 15/50\n",
      "1991/1991 [==============================] - 0s 104us/step - loss: 0.0386 - acc: 0.9940 - val_loss: 0.0329 - val_acc: 0.9948\n",
      "Epoch 16/50\n",
      "1991/1991 [==============================] - 0s 112us/step - loss: 0.0330 - acc: 0.9955 - val_loss: 0.0316 - val_acc: 0.9948\n",
      "Epoch 17/50\n",
      "1991/1991 [==============================] - 0s 105us/step - loss: 0.0343 - acc: 0.9950 - val_loss: 0.0304 - val_acc: 0.9952\n",
      "Epoch 18/50\n",
      "1991/1991 [==============================] - 0s 112us/step - loss: 0.0321 - acc: 0.9940 - val_loss: 0.0294 - val_acc: 0.9948\n",
      "Epoch 19/50\n",
      "1991/1991 [==============================] - 0s 111us/step - loss: 0.0345 - acc: 0.9935 - val_loss: 0.0284 - val_acc: 0.9952\n",
      "Epoch 20/50\n",
      "1991/1991 [==============================] - 0s 122us/step - loss: 0.0324 - acc: 0.9930 - val_loss: 0.0274 - val_acc: 0.9952\n",
      "Epoch 21/50\n",
      "1991/1991 [==============================] - 0s 114us/step - loss: 0.0316 - acc: 0.9935 - val_loss: 0.0267 - val_acc: 0.9952\n",
      "Epoch 22/50\n",
      "1991/1991 [==============================] - 0s 137us/step - loss: 0.0299 - acc: 0.9935 - val_loss: 0.0259 - val_acc: 0.9952\n",
      "Epoch 23/50\n",
      "1991/1991 [==============================] - 0s 122us/step - loss: 0.0266 - acc: 0.9945 - val_loss: 0.0253 - val_acc: 0.9952\n",
      "Epoch 24/50\n",
      "1991/1991 [==============================] - 0s 116us/step - loss: 0.0237 - acc: 0.9955 - val_loss: 0.0248 - val_acc: 0.9952\n",
      "Epoch 25/50\n",
      "1991/1991 [==============================] - 0s 110us/step - loss: 0.0278 - acc: 0.9935 - val_loss: 0.0243 - val_acc: 0.9952\n",
      "Epoch 26/50\n",
      "1991/1991 [==============================] - 0s 108us/step - loss: 0.0271 - acc: 0.9930 - val_loss: 0.0237 - val_acc: 0.9952\n",
      "Epoch 27/50\n",
      "1991/1991 [==============================] - 0s 119us/step - loss: 0.0238 - acc: 0.9945 - val_loss: 0.0232 - val_acc: 0.9952\n",
      "Epoch 28/50\n",
      "1991/1991 [==============================] - 0s 116us/step - loss: 0.0247 - acc: 0.9945 - val_loss: 0.0228 - val_acc: 0.9952\n",
      "Epoch 29/50\n",
      "1991/1991 [==============================] - 0s 118us/step - loss: 0.0228 - acc: 0.9940 - val_loss: 0.0223 - val_acc: 0.9952\n",
      "Epoch 30/50\n",
      "1991/1991 [==============================] - 0s 110us/step - loss: 0.0211 - acc: 0.9975 - val_loss: 0.0221 - val_acc: 0.9952\n",
      "Epoch 31/50\n",
      "1991/1991 [==============================] - 0s 117us/step - loss: 0.0231 - acc: 0.9940 - val_loss: 0.0218 - val_acc: 0.9952\n",
      "Epoch 32/50\n",
      "1991/1991 [==============================] - 0s 105us/step - loss: 0.0214 - acc: 0.9945 - val_loss: 0.0213 - val_acc: 0.9952\n",
      "Epoch 33/50\n",
      "1991/1991 [==============================] - 0s 121us/step - loss: 0.0223 - acc: 0.9950 - val_loss: 0.0210 - val_acc: 0.9952\n",
      "Epoch 34/50\n",
      "1991/1991 [==============================] - 0s 104us/step - loss: 0.0208 - acc: 0.9960 - val_loss: 0.0209 - val_acc: 0.9952\n",
      "Epoch 35/50\n",
      "1991/1991 [==============================] - 0s 118us/step - loss: 0.0184 - acc: 0.9970 - val_loss: 0.0206 - val_acc: 0.9952\n",
      "Epoch 36/50\n",
      "1991/1991 [==============================] - 0s 122us/step - loss: 0.0189 - acc: 0.9960 - val_loss: 0.0204 - val_acc: 0.9952\n",
      "Epoch 37/50\n",
      "1991/1991 [==============================] - 0s 122us/step - loss: 0.0214 - acc: 0.9925 - val_loss: 0.0202 - val_acc: 0.9952\n",
      "Epoch 38/50\n",
      "1991/1991 [==============================] - 0s 120us/step - loss: 0.0196 - acc: 0.9950 - val_loss: 0.0198 - val_acc: 0.9954\n",
      "Epoch 39/50\n",
      "1991/1991 [==============================] - 0s 100us/step - loss: 0.0180 - acc: 0.9955 - val_loss: 0.0196 - val_acc: 0.9954\n",
      "Epoch 40/50\n",
      "1991/1991 [==============================] - 0s 98us/step - loss: 0.0178 - acc: 0.9960 - val_loss: 0.0195 - val_acc: 0.9952\n",
      "Epoch 41/50\n",
      "1991/1991 [==============================] - 0s 107us/step - loss: 0.0191 - acc: 0.9945 - val_loss: 0.0193 - val_acc: 0.9952\n",
      "Epoch 42/50\n",
      "1991/1991 [==============================] - 0s 109us/step - loss: 0.0196 - acc: 0.9950 - val_loss: 0.0191 - val_acc: 0.9952\n",
      "Epoch 43/50\n",
      "1991/1991 [==============================] - 0s 108us/step - loss: 0.0165 - acc: 0.9960 - val_loss: 0.0189 - val_acc: 0.9952\n",
      "Epoch 44/50\n",
      "1991/1991 [==============================] - 0s 113us/step - loss: 0.0159 - acc: 0.9975 - val_loss: 0.0190 - val_acc: 0.9952\n",
      "Epoch 45/50\n",
      "1991/1991 [==============================] - 0s 126us/step - loss: 0.0204 - acc: 0.9940 - val_loss: 0.0190 - val_acc: 0.9950\n",
      "Epoch 46/50\n",
      "1991/1991 [==============================] - 0s 118us/step - loss: 0.0183 - acc: 0.9955 - val_loss: 0.0184 - val_acc: 0.9952\n",
      "Epoch 47/50\n",
      "1991/1991 [==============================] - 0s 118us/step - loss: 0.0167 - acc: 0.9960 - val_loss: 0.0182 - val_acc: 0.9954\n",
      "Epoch 48/50\n",
      "1991/1991 [==============================] - 0s 114us/step - loss: 0.0183 - acc: 0.9955 - val_loss: 0.0179 - val_acc: 0.9956\n",
      "Epoch 49/50\n",
      "1991/1991 [==============================] - 0s 112us/step - loss: 0.0156 - acc: 0.9960 - val_loss: 0.0179 - val_acc: 0.9954\n",
      "Epoch 50/50\n",
      "1991/1991 [==============================] - 0s 113us/step - loss: 0.0137 - acc: 0.9975 - val_loss: 0.0179 - val_acc: 0.9954\n"
     ]
    }
   ],
   "source": [
    "callbacks = [EarlyStopping(monitor='val_loss', patience=5, verbose=0, mode='min'),\n",
    "             ModelCheckpoint(filepath='pretrain_Xception.h5', monitor='val_loss', verbose=0, save_best_only=True)]\n",
    "\n",
    "history = model.fit(X_train, y_train, batch_size=128, epochs=50, validation_data=(X_val, y_val), callbacks=callbacks)"
   ]
  },
  {
   "cell_type": "code",
   "execution_count": 23,
   "metadata": {
    "scrolled": false
   },
   "outputs": [
    {
     "data": {
      "image/png": "[encoded data removed]",
      "text/plain": [
       "<Figure size 432x288 with 1 Axes>"
      ]
     },
     "metadata": {},
     "output_type": "display_data"
    },
    {
     "data": {
      "image/png": "[encoded data removed]",
      "text/plain": [
       "<Figure size 432x288 with 1 Axes>"
      ]
     },
     "metadata": {},
     "output_type": "display_data"
    }
   ],
   "source": [
    "plot_history(history)"
   ]
  },
  {
   "cell_type": "markdown",
   "metadata": {},
   "source": [
    "## 构建fine-tune模型"
   ]
  },
  {
   "cell_type": "code",
   "execution_count": 29,
   "metadata": {},
   "outputs": [],
   "source": [
    "def build_finetune_model(MODEL, pre_process_func, input_size, trainable_layers: int, drop_prob: float, weights_file=None, lr=1e-4, decay=1e-6):\n",
    "    input_tensor = Input(input_size)\n",
    "    x = Lambda(pre_process_func)(input_tensor)\n",
    "    \n",
    "    base_model = MODEL(input_tensor=x, weights='imagenet', include_top=False)\n",
    "    for layer in base_model.layers:\n",
    "        layer.trainable = False\n",
    "    \n",
    "    if trainable_layers > 0:\n",
    "        for layer in base_model.layers[-trainable_layers:]:\n",
    "            layer.trainable = True\n",
    "    \n",
    "    x = GlobalAveragePooling2D()(base_model.output)\n",
    "    x = Dropout(drop_prob)(x)\n",
    "    pred = Dense(1, activation='sigmoid', name='top_sigmoid')(x)\n",
    "    \n",
    "    model = Model(base_model.input, pred)\n",
    "    if weights_file:\n",
    "        model.load_weights(weights_file)\n",
    "    else:\n",
    "        model.load_weights('pretrain_Xception.h5', by_name=True)\n",
    "    opt = optimizers.Adam(lr=lr, decay=decay)\n",
    "    model.compile(optimizer=opt, loss='binary_crossentropy', metrics=['accuracy'])\n",
    "    \n",
    "    return model\n",
    "    "
   ]
  },
  {
   "cell_type": "code",
   "execution_count": 5,
   "metadata": {},
   "outputs": [],
   "source": [
    "model = build_finetune_model(Xception, xception.preprocess_input, input_size=input_size, trainable_layers=6, drop_prob=0.8)"
   ]
  },
  {
   "cell_type": "code",
   "execution_count": 28,
   "metadata": {
    "scrolled": true
   },
   "outputs": [
    {
     "name": "stdout",
     "output_type": "stream",
     "text": [
      "__________________________________________________________________________________________________\n",
      "Layer (type)                    Output Shape         Param #     Connected to                     \n",
      "==================================================================================================\n",
      "input_10 (InputLayer)           (None, 299, 299, 3)  0                                            \n",
      "__________________________________________________________________________________________________\n",
      "lambda_4 (Lambda)               (None, 299, 299, 3)  0           input_10[0][0]                   \n",
      "__________________________________________________________________________________________________\n",
      "block1_conv1 (Conv2D)           (None, 149, 149, 32) 864         lambda_4[0][0]                   \n",
      "__________________________________________________________________________________________________\n",
      "block1_conv1_bn (BatchNormaliza (None, 149, 149, 32) 128         block1_conv1[0][0]               \n",
      "__________________________________________________________________________________________________\n",
      "block1_conv1_act (Activation)   (None, 149, 149, 32) 0           block1_conv1_bn[0][0]            \n",
      "__________________________________________________________________________________________________\n",
      "block1_conv2 (Conv2D)           (None, 147, 147, 64) 18432       block1_conv1_act[0][0]           \n",
      "__________________________________________________________________________________________________\n",
      "block1_conv2_bn (BatchNormaliza (None, 147, 147, 64) 256         block1_conv2[0][0]               \n",
      "__________________________________________________________________________________________________\n",
      "block1_conv2_act (Activation)   (None, 147, 147, 64) 0           block1_conv2_bn[0][0]            \n",
      "__________________________________________________________________________________________________\n",
      "block2_sepconv1 (SeparableConv2 (None, 147, 147, 128 8768        block1_conv2_act[0][0]           \n",
      "__________________________________________________________________________________________________\n",
      "block2_sepconv1_bn (BatchNormal (None, 147, 147, 128 512         block2_sepconv1[0][0]            \n",
      "__________________________________________________________________________________________________\n",
      "block2_sepconv2_act (Activation (None, 147, 147, 128 0           block2_sepconv1_bn[0][0]         \n",
      "__________________________________________________________________________________________________\n",
      "block2_sepconv2 (SeparableConv2 (None, 147, 147, 128 17536       block2_sepconv2_act[0][0]        \n",
      "__________________________________________________________________________________________________\n",
      "block2_sepconv2_bn (BatchNormal (None, 147, 147, 128 512         block2_sepconv2[0][0]            \n",
      "__________________________________________________________________________________________________\n",
      "conv2d_13 (Conv2D)              (None, 74, 74, 128)  8192        block1_conv2_act[0][0]           \n",
      "__________________________________________________________________________________________________\n",
      "block2_pool (MaxPooling2D)      (None, 74, 74, 128)  0           block2_sepconv2_bn[0][0]         \n",
      "__________________________________________________________________________________________________\n",
      "batch_normalization_13 (BatchNo (None, 74, 74, 128)  512         conv2d_13[0][0]                  \n",
      "__________________________________________________________________________________________________\n",
      "add_37 (Add)                    (None, 74, 74, 128)  0           block2_pool[0][0]                \n",
      "                                                                 batch_normalization_13[0][0]     \n",
      "__________________________________________________________________________________________________\n",
      "block3_sepconv1_act (Activation (None, 74, 74, 128)  0           add_37[0][0]                     \n",
      "__________________________________________________________________________________________________\n",
      "block3_sepconv1 (SeparableConv2 (None, 74, 74, 256)  33920       block3_sepconv1_act[0][0]        \n",
      "__________________________________________________________________________________________________\n",
      "block3_sepconv1_bn (BatchNormal (None, 74, 74, 256)  1024        block3_sepconv1[0][0]            \n",
      "__________________________________________________________________________________________________\n",
      "block3_sepconv2_act (Activation (None, 74, 74, 256)  0           block3_sepconv1_bn[0][0]         \n",
      "__________________________________________________________________________________________________\n",
      "block3_sepconv2 (SeparableConv2 (None, 74, 74, 256)  67840       block3_sepconv2_act[0][0]        \n",
      "__________________________________________________________________________________________________\n",
      "block3_sepconv2_bn (BatchNormal (None, 74, 74, 256)  1024        block3_sepconv2[0][0]            \n",
      "__________________________________________________________________________________________________\n",
      "conv2d_14 (Conv2D)              (None, 37, 37, 256)  32768       add_37[0][0]                     \n",
      "__________________________________________________________________________________________________\n",
      "block3_pool (MaxPooling2D)      (None, 37, 37, 256)  0           block3_sepconv2_bn[0][0]         \n",
      "__________________________________________________________________________________________________\n",
      "batch_normalization_14 (BatchNo (None, 37, 37, 256)  1024        conv2d_14[0][0]                  \n",
      "__________________________________________________________________________________________________\n",
      "add_38 (Add)                    (None, 37, 37, 256)  0           block3_pool[0][0]                \n",
      "                                                                 batch_normalization_14[0][0]     \n",
      "__________________________________________________________________________________________________\n",
      "block4_sepconv1_act (Activation (None, 37, 37, 256)  0           add_38[0][0]                     \n",
      "__________________________________________________________________________________________________\n",
      "block4_sepconv1 (SeparableConv2 (None, 37, 37, 728)  188672      block4_sepconv1_act[0][0]        \n",
      "__________________________________________________________________________________________________\n",
      "block4_sepconv1_bn (BatchNormal (None, 37, 37, 728)  2912        block4_sepconv1[0][0]            \n",
      "__________________________________________________________________________________________________\n",
      "block4_sepconv2_act (Activation (None, 37, 37, 728)  0           block4_sepconv1_bn[0][0]         \n",
      "__________________________________________________________________________________________________\n",
      "block4_sepconv2 (SeparableConv2 (None, 37, 37, 728)  536536      block4_sepconv2_act[0][0]        \n",
      "__________________________________________________________________________________________________\n",
      "block4_sepconv2_bn (BatchNormal (None, 37, 37, 728)  2912        block4_sepconv2[0][0]            \n",
      "__________________________________________________________________________________________________\n",
      "conv2d_15 (Conv2D)              (None, 19, 19, 728)  186368      add_38[0][0]                     \n",
      "__________________________________________________________________________________________________\n",
      "block4_pool (MaxPooling2D)      (None, 19, 19, 728)  0           block4_sepconv2_bn[0][0]         \n",
      "__________________________________________________________________________________________________\n",
      "batch_normalization_15 (BatchNo (None, 19, 19, 728)  2912        conv2d_15[0][0]                  \n",
      "__________________________________________________________________________________________________\n",
      "add_39 (Add)                    (None, 19, 19, 728)  0           block4_pool[0][0]                \n",
      "                                                                 batch_normalization_15[0][0]     \n",
      "__________________________________________________________________________________________________\n",
      "block5_sepconv1_act (Activation (None, 19, 19, 728)  0           add_39[0][0]                     \n",
      "__________________________________________________________________________________________________\n",
      "block5_sepconv1 (SeparableConv2 (None, 19, 19, 728)  536536      block5_sepconv1_act[0][0]        \n",
      "__________________________________________________________________________________________________\n",
      "block5_sepconv1_bn (BatchNormal (None, 19, 19, 728)  2912        block5_sepconv1[0][0]            \n",
      "__________________________________________________________________________________________________\n",
      "block5_sepconv2_act (Activation (None, 19, 19, 728)  0           block5_sepconv1_bn[0][0]         \n",
      "__________________________________________________________________________________________________\n",
      "block5_sepconv2 (SeparableConv2 (None, 19, 19, 728)  536536      block5_sepconv2_act[0][0]        \n",
      "__________________________________________________________________________________________________\n",
      "block5_sepconv2_bn (BatchNormal (None, 19, 19, 728)  2912        block5_sepconv2[0][0]            \n",
      "__________________________________________________________________________________________________\n",
      "block5_sepconv3_act (Activation (None, 19, 19, 728)  0           block5_sepconv2_bn[0][0]         \n",
      "__________________________________________________________________________________________________\n",
      "block5_sepconv3 (SeparableConv2 (None, 19, 19, 728)  536536      block5_sepconv3_act[0][0]        \n",
      "__________________________________________________________________________________________________\n",
      "block5_sepconv3_bn (BatchNormal (None, 19, 19, 728)  2912        block5_sepconv3[0][0]            \n",
      "__________________________________________________________________________________________________\n",
      "add_40 (Add)                    (None, 19, 19, 728)  0           block5_sepconv3_bn[0][0]         \n",
      "                                                                 add_39[0][0]                     \n",
      "__________________________________________________________________________________________________\n",
      "block6_sepconv1_act (Activation (None, 19, 19, 728)  0           add_40[0][0]                     \n",
      "__________________________________________________________________________________________________\n",
      "block6_sepconv1 (SeparableConv2 (None, 19, 19, 728)  536536      block6_sepconv1_act[0][0]        \n",
      "__________________________________________________________________________________________________\n",
      "block6_sepconv1_bn (BatchNormal (None, 19, 19, 728)  2912        block6_sepconv1[0][0]            \n",
      "__________________________________________________________________________________________________\n",
      "block6_sepconv2_act (Activation (None, 19, 19, 728)  0           block6_sepconv1_bn[0][0]         \n",
      "__________________________________________________________________________________________________\n",
      "block6_sepconv2 (SeparableConv2 (None, 19, 19, 728)  536536      block6_sepconv2_act[0][0]        \n",
      "__________________________________________________________________________________________________\n",
      "block6_sepconv2_bn (BatchNormal (None, 19, 19, 728)  2912        block6_sepconv2[0][0]            \n",
      "__________________________________________________________________________________________________\n",
      "block6_sepconv3_act (Activation (None, 19, 19, 728)  0           block6_sepconv2_bn[0][0]         \n",
      "__________________________________________________________________________________________________\n",
      "block6_sepconv3 (SeparableConv2 (None, 19, 19, 728)  536536      block6_sepconv3_act[0][0]        \n",
      "__________________________________________________________________________________________________\n",
      "block6_sepconv3_bn (BatchNormal (None, 19, 19, 728)  2912        block6_sepconv3[0][0]            \n",
      "__________________________________________________________________________________________________\n",
      "add_41 (Add)                    (None, 19, 19, 728)  0           block6_sepconv3_bn[0][0]         \n",
      "                                                                 add_40[0][0]                     \n",
      "__________________________________________________________________________________________________\n",
      "block7_sepconv1_act (Activation (None, 19, 19, 728)  0           add_41[0][0]                     \n",
      "__________________________________________________________________________________________________\n",
      "block7_sepconv1 (SeparableConv2 (None, 19, 19, 728)  536536      block7_sepconv1_act[0][0]        \n",
      "__________________________________________________________________________________________________\n",
      "block7_sepconv1_bn (BatchNormal (None, 19, 19, 728)  2912        block7_sepconv1[0][0]            \n",
      "__________________________________________________________________________________________________\n",
      "block7_sepconv2_act (Activation (None, 19, 19, 728)  0           block7_sepconv1_bn[0][0]         \n",
      "__________________________________________________________________________________________________\n",
      "block7_sepconv2 (SeparableConv2 (None, 19, 19, 728)  536536      block7_sepconv2_act[0][0]        \n",
      "__________________________________________________________________________________________________\n",
      "block7_sepconv2_bn (BatchNormal (None, 19, 19, 728)  2912        block7_sepconv2[0][0]            \n",
      "__________________________________________________________________________________________________\n",
      "block7_sepconv3_act (Activation (None, 19, 19, 728)  0           block7_sepconv2_bn[0][0]         \n",
      "__________________________________________________________________________________________________\n",
      "block7_sepconv3 (SeparableConv2 (None, 19, 19, 728)  536536      block7_sepconv3_act[0][0]        \n",
      "__________________________________________________________________________________________________\n",
      "block7_sepconv3_bn (BatchNormal (None, 19, 19, 728)  2912        block7_sepconv3[0][0]            \n",
      "__________________________________________________________________________________________________\n",
      "add_42 (Add)                    (None, 19, 19, 728)  0           block7_sepconv3_bn[0][0]         \n",
      "                                                                 add_41[0][0]                     \n",
      "__________________________________________________________________________________________________\n",
      "block8_sepconv1_act (Activation (None, 19, 19, 728)  0           add_42[0][0]                     \n",
      "__________________________________________________________________________________________________\n",
      "block8_sepconv1 (SeparableConv2 (None, 19, 19, 728)  536536      block8_sepconv1_act[0][0]        \n",
      "__________________________________________________________________________________________________\n",
      "block8_sepconv1_bn (BatchNormal (None, 19, 19, 728)  2912        block8_sepconv1[0][0]            \n",
      "__________________________________________________________________________________________________\n",
      "block8_sepconv2_act (Activation (None, 19, 19, 728)  0           block8_sepconv1_bn[0][0]         \n",
      "__________________________________________________________________________________________________\n",
      "block8_sepconv2 (SeparableConv2 (None, 19, 19, 728)  536536      block8_sepconv2_act[0][0]        \n",
      "__________________________________________________________________________________________________\n",
      "block8_sepconv2_bn (BatchNormal (None, 19, 19, 728)  2912        block8_sepconv2[0][0]            \n",
      "__________________________________________________________________________________________________\n",
      "block8_sepconv3_act (Activation (None, 19, 19, 728)  0           block8_sepconv2_bn[0][0]         \n",
      "__________________________________________________________________________________________________\n",
      "block8_sepconv3 (SeparableConv2 (None, 19, 19, 728)  536536      block8_sepconv3_act[0][0]        \n",
      "__________________________________________________________________________________________________\n",
      "block8_sepconv3_bn (BatchNormal (None, 19, 19, 728)  2912        block8_sepconv3[0][0]            \n",
      "__________________________________________________________________________________________________\n",
      "add_43 (Add)                    (None, 19, 19, 728)  0           block8_sepconv3_bn[0][0]         \n",
      "                                                                 add_42[0][0]                     \n",
      "__________________________________________________________________________________________________\n",
      "block9_sepconv1_act (Activation (None, 19, 19, 728)  0           add_43[0][0]                     \n",
      "__________________________________________________________________________________________________\n",
      "block9_sepconv1 (SeparableConv2 (None, 19, 19, 728)  536536      block9_sepconv1_act[0][0]        \n",
      "__________________________________________________________________________________________________\n",
      "block9_sepconv1_bn (BatchNormal (None, 19, 19, 728)  2912        block9_sepconv1[0][0]            \n",
      "__________________________________________________________________________________________________\n",
      "block9_sepconv2_act (Activation (None, 19, 19, 728)  0           block9_sepconv1_bn[0][0]         \n",
      "__________________________________________________________________________________________________\n",
      "block9_sepconv2 (SeparableConv2 (None, 19, 19, 728)  536536      block9_sepconv2_act[0][0]        \n",
      "__________________________________________________________________________________________________\n",
      "block9_sepconv2_bn (BatchNormal (None, 19, 19, 728)  2912        block9_sepconv2[0][0]            \n",
      "__________________________________________________________________________________________________\n",
      "block9_sepconv3_act (Activation (None, 19, 19, 728)  0           block9_sepconv2_bn[0][0]         \n",
      "__________________________________________________________________________________________________\n",
      "block9_sepconv3 (SeparableConv2 (None, 19, 19, 728)  536536      block9_sepconv3_act[0][0]        \n",
      "__________________________________________________________________________________________________\n",
      "block9_sepconv3_bn (BatchNormal (None, 19, 19, 728)  2912        block9_sepconv3[0][0]            \n",
      "__________________________________________________________________________________________________\n",
      "add_44 (Add)                    (None, 19, 19, 728)  0           block9_sepconv3_bn[0][0]         \n",
      "                                                                 add_43[0][0]                     \n",
      "__________________________________________________________________________________________________\n",
      "block10_sepconv1_act (Activatio (None, 19, 19, 728)  0           add_44[0][0]                     \n",
      "__________________________________________________________________________________________________\n",
      "block10_sepconv1 (SeparableConv (None, 19, 19, 728)  536536      block10_sepconv1_act[0][0]       \n",
      "__________________________________________________________________________________________________\n",
      "block10_sepconv1_bn (BatchNorma (None, 19, 19, 728)  2912        block10_sepconv1[0][0]           \n",
      "__________________________________________________________________________________________________\n",
      "block10_sepconv2_act (Activatio (None, 19, 19, 728)  0           block10_sepconv1_bn[0][0]        \n",
      "__________________________________________________________________________________________________\n",
      "block10_sepconv2 (SeparableConv (None, 19, 19, 728)  536536      block10_sepconv2_act[0][0]       \n",
      "__________________________________________________________________________________________________\n",
      "block10_sepconv2_bn (BatchNorma (None, 19, 19, 728)  2912        block10_sepconv2[0][0]           \n",
      "__________________________________________________________________________________________________\n",
      "block10_sepconv3_act (Activatio (None, 19, 19, 728)  0           block10_sepconv2_bn[0][0]        \n",
      "__________________________________________________________________________________________________\n",
      "block10_sepconv3 (SeparableConv (None, 19, 19, 728)  536536      block10_sepconv3_act[0][0]       \n",
      "__________________________________________________________________________________________________\n",
      "block10_sepconv3_bn (BatchNorma (None, 19, 19, 728)  2912        block10_sepconv3[0][0]           \n",
      "__________________________________________________________________________________________________\n",
      "add_45 (Add)                    (None, 19, 19, 728)  0           block10_sepconv3_bn[0][0]        \n",
      "                                                                 add_44[0][0]                     \n",
      "__________________________________________________________________________________________________\n",
      "block11_sepconv1_act (Activatio (None, 19, 19, 728)  0           add_45[0][0]                     \n",
      "__________________________________________________________________________________________________\n",
      "block11_sepconv1 (SeparableConv (None, 19, 19, 728)  536536      block11_sepconv1_act[0][0]       \n",
      "__________________________________________________________________________________________________\n",
      "block11_sepconv1_bn (BatchNorma (None, 19, 19, 728)  2912        block11_sepconv1[0][0]           \n",
      "__________________________________________________________________________________________________\n",
      "block11_sepconv2_act (Activatio (None, 19, 19, 728)  0           block11_sepconv1_bn[0][0]        \n",
      "__________________________________________________________________________________________________\n",
      "block11_sepconv2 (SeparableConv (None, 19, 19, 728)  536536      block11_sepconv2_act[0][0]       \n",
      "__________________________________________________________________________________________________\n",
      "block11_sepconv2_bn (BatchNorma (None, 19, 19, 728)  2912        block11_sepconv2[0][0]           \n",
      "__________________________________________________________________________________________________\n",
      "block11_sepconv3_act (Activatio (None, 19, 19, 728)  0           block11_sepconv2_bn[0][0]        \n",
      "__________________________________________________________________________________________________\n",
      "block11_sepconv3 (SeparableConv (None, 19, 19, 728)  536536      block11_sepconv3_act[0][0]       \n",
      "__________________________________________________________________________________________________\n",
      "block11_sepconv3_bn (BatchNorma (None, 19, 19, 728)  2912        block11_sepconv3[0][0]           \n",
      "__________________________________________________________________________________________________\n",
      "add_46 (Add)                    (None, 19, 19, 728)  0           block11_sepconv3_bn[0][0]        \n",
      "                                                                 add_45[0][0]                     \n",
      "__________________________________________________________________________________________________\n",
      "block12_sepconv1_act (Activatio (None, 19, 19, 728)  0           add_46[0][0]                     \n",
      "__________________________________________________________________________________________________\n",
      "block12_sepconv1 (SeparableConv (None, 19, 19, 728)  536536      block12_sepconv1_act[0][0]       \n",
      "__________________________________________________________________________________________________\n",
      "block12_sepconv1_bn (BatchNorma (None, 19, 19, 728)  2912        block12_sepconv1[0][0]           \n",
      "__________________________________________________________________________________________________\n",
      "block12_sepconv2_act (Activatio (None, 19, 19, 728)  0           block12_sepconv1_bn[0][0]        \n",
      "__________________________________________________________________________________________________\n",
      "block12_sepconv2 (SeparableConv (None, 19, 19, 728)  536536      block12_sepconv2_act[0][0]       \n",
      "__________________________________________________________________________________________________\n",
      "block12_sepconv2_bn (BatchNorma (None, 19, 19, 728)  2912        block12_sepconv2[0][0]           \n",
      "__________________________________________________________________________________________________\n",
      "block12_sepconv3_act (Activatio (None, 19, 19, 728)  0           block12_sepconv2_bn[0][0]        \n",
      "__________________________________________________________________________________________________\n",
      "block12_sepconv3 (SeparableConv (None, 19, 19, 728)  536536      block12_sepconv3_act[0][0]       \n",
      "__________________________________________________________________________________________________\n",
      "block12_sepconv3_bn (BatchNorma (None, 19, 19, 728)  2912        block12_sepconv3[0][0]           \n",
      "__________________________________________________________________________________________________\n",
      "add_47 (Add)                    (None, 19, 19, 728)  0           block12_sepconv3_bn[0][0]        \n",
      "                                                                 add_46[0][0]                     \n",
      "__________________________________________________________________________________________________\n",
      "block13_sepconv1_act (Activatio (None, 19, 19, 728)  0           add_47[0][0]                     \n",
      "__________________________________________________________________________________________________\n",
      "block13_sepconv1 (SeparableConv (None, 19, 19, 728)  536536      block13_sepconv1_act[0][0]       \n",
      "__________________________________________________________________________________________________\n",
      "block13_sepconv1_bn (BatchNorma (None, 19, 19, 728)  2912        block13_sepconv1[0][0]           \n",
      "__________________________________________________________________________________________________\n",
      "block13_sepconv2_act (Activatio (None, 19, 19, 728)  0           block13_sepconv1_bn[0][0]        \n",
      "__________________________________________________________________________________________________\n",
      "block13_sepconv2 (SeparableConv (None, 19, 19, 1024) 752024      block13_sepconv2_act[0][0]       \n",
      "__________________________________________________________________________________________________\n",
      "block13_sepconv2_bn (BatchNorma (None, 19, 19, 1024) 4096        block13_sepconv2[0][0]           \n",
      "__________________________________________________________________________________________________\n",
      "conv2d_16 (Conv2D)              (None, 10, 10, 1024) 745472      add_47[0][0]                     \n",
      "__________________________________________________________________________________________________\n",
      "block13_pool (MaxPooling2D)     (None, 10, 10, 1024) 0           block13_sepconv2_bn[0][0]        \n",
      "__________________________________________________________________________________________________\n",
      "batch_normalization_16 (BatchNo (None, 10, 10, 1024) 4096        conv2d_16[0][0]                  \n",
      "__________________________________________________________________________________________________\n",
      "add_48 (Add)                    (None, 10, 10, 1024) 0           block13_pool[0][0]               \n",
      "                                                                 batch_normalization_16[0][0]     \n",
      "__________________________________________________________________________________________________\n",
      "block14_sepconv1 (SeparableConv (None, 10, 10, 1536) 1582080     add_48[0][0]                     \n",
      "__________________________________________________________________________________________________\n",
      "block14_sepconv1_bn (BatchNorma (None, 10, 10, 1536) 6144        block14_sepconv1[0][0]           \n",
      "__________________________________________________________________________________________________\n",
      "block14_sepconv1_act (Activatio (None, 10, 10, 1536) 0           block14_sepconv1_bn[0][0]        \n",
      "__________________________________________________________________________________________________\n",
      "block14_sepconv2 (SeparableConv (None, 10, 10, 2048) 3159552     block14_sepconv1_act[0][0]       \n",
      "__________________________________________________________________________________________________\n",
      "block14_sepconv2_bn (BatchNorma (None, 10, 10, 2048) 8192        block14_sepconv2[0][0]           \n",
      "__________________________________________________________________________________________________\n",
      "block14_sepconv2_act (Activatio (None, 10, 10, 2048) 0           block14_sepconv2_bn[0][0]        \n",
      "__________________________________________________________________________________________________\n",
      "global_average_pooling2d_4 (Glo (None, 2048)         0           block14_sepconv2_act[0][0]       \n",
      "__________________________________________________________________________________________________\n",
      "dropout_7 (Dropout)             (None, 2048)         0           global_average_pooling2d_4[0][0] \n",
      "__________________________________________________________________________________________________\n",
      "top_sigmoid (Dense)             (None, 1)            2049        dropout_7[0][0]                  \n",
      "==================================================================================================\n",
      "Total params: 20,863,529\n",
      "Trainable params: 4,750,849\n",
      "Non-trainable params: 16,112,680\n",
      "__________________________________________________________________________________________________\n"
     ]
    }
   ],
   "source": [
    "model.summary()"
   ]
  },
  {
   "cell_type": "markdown",
   "metadata": {},
   "source": [
    "### 使用剩余90%训练数据fine-tune模型"
   ]
  },
  {
   "cell_type": "code",
   "execution_count": 14,
   "metadata": {},
   "outputs": [],
   "source": [
    "batch_size = 64\n",
    "img_gen = ImageDataGenerator()\n",
    "aug_img_gen = ImageDataGenerator(rotation_range=20, width_shift_range=0.2, height_shift_range=0.2,\n",
    "                                 shear_range=0.2, zoom_range=0.2, horizontal_flip=True, fill_mode='nearest')"
   ]
  },
  {
   "cell_type": "code",
   "execution_count": 15,
   "metadata": {
    "scrolled": true
   },
   "outputs": [
    {
     "name": "stdout",
     "output_type": "stream",
     "text": [
      "Found 17925 images belonging to 2 classes.\n",
      "Found 4979 images belonging to 2 classes.\n"
     ]
    }
   ],
   "source": [
    "train_data_gen = aug_img_gen.flow_from_directory('finetune', input_size[:-1], class_mode='binary', batch_size=batch_size)\n",
    "validation_gen = img_gen.flow_from_directory('val', input_size[:-1], class_mode='binary', batch_size=batch_size)"
   ]
  },
  {
   "cell_type": "markdown",
   "metadata": {},
   "source": [
    "测试预训练模型："
   ]
  },
  {
   "cell_type": "code",
   "execution_count": 33,
   "metadata": {},
   "outputs": [
    {
     "data": {
      "text/plain": [
       "[0.01791653083628004, 0.9955814420566379]"
      ]
     },
     "execution_count": 33,
     "metadata": {},
     "output_type": "execute_result"
    }
   ],
   "source": [
    "model.evaluate_generator(validation_gen, steps=len(validation_gen))"
   ]
  },
  {
   "cell_type": "markdown",
   "metadata": {},
   "source": [
    "调整模型参数："
   ]
  },
  {
   "cell_type": "code",
   "execution_count": 16,
   "metadata": {},
   "outputs": [],
   "source": [
    "model = build_finetune_model(Xception, xception.preprocess_input, input_size=input_size, trainable_layers=6, drop_prob=0.8)"
   ]
  },
  {
   "cell_type": "markdown",
   "metadata": {},
   "source": [
    "训练模型："
   ]
  },
  {
   "cell_type": "code",
   "execution_count": 17,
   "metadata": {},
   "outputs": [
    {
     "name": "stdout",
     "output_type": "stream",
     "text": [
      "Epoch 1/20\n",
      "281/281 [==============================] - 468s 2s/step - loss: 0.0831 - acc: 0.9729 - val_loss: 0.0129 - val_acc: 0.9972\n",
      "Epoch 2/20\n",
      "281/281 [==============================] - 451s 2s/step - loss: 0.0438 - acc: 0.9832 - val_loss: 0.0128 - val_acc: 0.9970\n",
      "Epoch 3/20\n",
      "281/281 [==============================] - 477s 2s/step - loss: 0.0357 - acc: 0.9864 - val_loss: 0.0123 - val_acc: 0.9968\n",
      "Epoch 4/20\n",
      "281/281 [==============================] - 461s 2s/step - loss: 0.0299 - acc: 0.9885 - val_loss: 0.0127 - val_acc: 0.9968\n",
      "Epoch 5/20\n",
      "281/281 [==============================] - 474s 2s/step - loss: 0.0244 - acc: 0.9908 - val_loss: 0.0139 - val_acc: 0.9960\n",
      "Epoch 6/20\n",
      "281/281 [==============================] - 454s 2s/step - loss: 0.0212 - acc: 0.9912 - val_loss: 0.0139 - val_acc: 0.9956\n",
      "Epoch 7/20\n",
      "281/281 [==============================] - 458s 2s/step - loss: 0.0199 - acc: 0.9921 - val_loss: 0.0109 - val_acc: 0.9966\n",
      "Epoch 8/20\n",
      "281/281 [==============================] - 462s 2s/step - loss: 0.0185 - acc: 0.9929 - val_loss: 0.0105 - val_acc: 0.9966\n",
      "Epoch 9/20\n",
      "281/281 [==============================] - 456s 2s/step - loss: 0.0169 - acc: 0.9932 - val_loss: 0.0118 - val_acc: 0.9956\n",
      "Epoch 10/20\n",
      "281/281 [==============================] - 448s 2s/step - loss: 0.0164 - acc: 0.9938 - val_loss: 0.0104 - val_acc: 0.9966\n",
      "Epoch 11/20\n",
      "281/281 [==============================] - 448s 2s/step - loss: 0.0156 - acc: 0.9940 - val_loss: 0.0138 - val_acc: 0.9962\n",
      "Epoch 12/20\n",
      "281/281 [==============================] - 466s 2s/step - loss: 0.0121 - acc: 0.9957 - val_loss: 0.0133 - val_acc: 0.9956\n",
      "Epoch 13/20\n",
      "281/281 [==============================] - 450s 2s/step - loss: 0.0126 - acc: 0.9947 - val_loss: 0.0131 - val_acc: 0.9968\n",
      "Epoch 14/20\n",
      "281/281 [==============================] - 475s 2s/step - loss: 0.0120 - acc: 0.9957 - val_loss: 0.0121 - val_acc: 0.9962\n",
      "Epoch 15/20\n",
      "281/281 [==============================] - 452s 2s/step - loss: 0.0111 - acc: 0.9961 - val_loss: 0.0098 - val_acc: 0.9970\n",
      "Epoch 16/20\n",
      "281/281 [==============================] - 454s 2s/step - loss: 0.0080 - acc: 0.9969 - val_loss: 0.0119 - val_acc: 0.9968\n",
      "Epoch 17/20\n",
      "281/281 [==============================] - 454s 2s/step - loss: 0.0092 - acc: 0.9965 - val_loss: 0.0129 - val_acc: 0.9970\n",
      "Epoch 18/20\n",
      "281/281 [==============================] - 488s 2s/step - loss: 0.0096 - acc: 0.9968 - val_loss: 0.0210 - val_acc: 0.9934\n",
      "Epoch 20/20\n",
      "281/281 [==============================] - 484s 2s/step - loss: 0.0087 - acc: 0.9963 - val_loss: 0.0127 - val_acc: 0.9968\n"
     ]
    }
   ],
   "source": [
    "callbacks = [EarlyStopping(monitor='val_loss', patience=10, verbose=0, mode='min'),\n",
    "             ModelCheckpoint(filepath='finetune_Xception.h5', monitor='val_loss', verbose=0, save_best_only=True)]\n",
    "\n",
    "history = model.fit_generator(train_data_gen, steps_per_epoch=len(train_data_gen), epochs=20,\n",
    "                              validation_data=validation_gen, validation_steps=len(validation_gen), callbacks=callbacks)"
   ]
  },
  {
   "cell_type": "code",
   "execution_count": 18,
   "metadata": {
    "scrolled": true
   },
   "outputs": [
    {
     "data": {
      "image/png": "[encoded data removed]",
      "text/plain": [
       "<Figure size 432x288 with 1 Axes>"
      ]
     },
     "metadata": {},
     "output_type": "display_data"
    },
    {
     "data": {
      "image/png": "[encoded data removed]",
      "text/plain": [
       "<Figure size 432x288 with 1 Axes>"
      ]
     },
     "metadata": {},
     "output_type": "display_data"
    }
   ],
   "source": [
    "plot_history(history)"
   ]
  },
  {
   "cell_type": "markdown",
   "metadata": {},
   "source": [
    "由于dropout和图像增强的影响，需要重新评估训练误差，判断过拟合程度："
   ]
  },
  {
   "cell_type": "code",
   "execution_count": 20,
   "metadata": {},
   "outputs": [
    {
     "name": "stdout",
     "output_type": "stream",
     "text": [
      "Found 17925 images belonging to 2 classes.\n"
     ]
    }
   ],
   "source": [
    "train_data_gen = img_gen.flow_from_directory('finetune', input_size[:-1], class_mode='binary', batch_size=batch_size)"
   ]
  },
  {
   "cell_type": "code",
   "execution_count": 21,
   "metadata": {},
   "outputs": [
    {
     "data": {
      "text/plain": [
       "[0.004212250069784818, 0.9984937238493724]"
      ]
     },
     "execution_count": 21,
     "metadata": {},
     "output_type": "execute_result"
    }
   ],
   "source": [
    "model.load_weights('finetune_Xception.h5')\n",
    "model.evaluate_generator(train_data_gen, steps=len(train_data_gen))"
   ]
  },
  {
   "cell_type": "markdown",
   "metadata": {},
   "source": [
    "## 预测测试集数据"
   ]
  },
  {
   "cell_type": "code",
   "execution_count": 10,
   "metadata": {},
   "outputs": [],
   "source": [
    "model.load_weights('finetune_Xception.h5')"
   ]
  },
  {
   "cell_type": "code",
   "execution_count": null,
   "metadata": {},
   "outputs": [],
   "source": [
    "img_gen = ImageDataGenerator()"
   ]
  },
  {
   "cell_type": "code",
   "execution_count": 23,
   "metadata": {},
   "outputs": [
    {
     "name": "stdout",
     "output_type": "stream",
     "text": [
      "Found 12500 images belonging to 1 classes.\n"
     ]
    }
   ],
   "source": [
    "test_data_gen = img_gen.flow_from_directory('test', (input_size[:-1]), shuffle=False, batch_size=batch_size)"
   ]
  },
  {
   "cell_type": "code",
   "execution_count": 55,
   "metadata": {},
   "outputs": [
    {
     "name": "stdout",
     "output_type": "stream",
     "text": [
      "196/196 [==============================] - 137s 701ms/step\n"
     ]
    }
   ],
   "source": [
    "y_pred = model.predict_generator(test_data_gen, len(test_data_gen), verbose=1)\n",
    "y_pred_clip = y_pred.clip(min=0.005, max=0.995)"
   ]
  },
  {
   "cell_type": "code",
   "execution_count": 56,
   "metadata": {},
   "outputs": [
    {
     "data": {
      "text/html": [
       "<div>\n",
       "<style scoped>\n",
       "    .dataframe tbody tr th:only-of-type {\n",
       "        vertical-align: middle;\n",
       "    }\n",
       "\n",
       "    .dataframe tbody tr th {\n",
       "        vertical-align: top;\n",
       "    }\n",
       "\n",
       "    .dataframe thead th {\n",
       "        text-align: right;\n",
       "    }\n",
       "</style>\n",
       "<table border=\"1\" class=\"dataframe\">\n",
       "  <thead>\n",
       "    <tr style=\"text-align: right;\">\n",
       "      <th></th>\n",
       "      <th>id</th>\n",
       "      <th>label</th>\n",
       "    </tr>\n",
       "  </thead>\n",
       "  <tbody>\n",
       "    <tr>\n",
       "      <th>0</th>\n",
       "      <td>1</td>\n",
       "      <td>0.995</td>\n",
       "    </tr>\n",
       "    <tr>\n",
       "      <th>1</th>\n",
       "      <td>2</td>\n",
       "      <td>0.995</td>\n",
       "    </tr>\n",
       "    <tr>\n",
       "      <th>2</th>\n",
       "      <td>3</td>\n",
       "      <td>0.995</td>\n",
       "    </tr>\n",
       "    <tr>\n",
       "      <th>3</th>\n",
       "      <td>4</td>\n",
       "      <td>0.995</td>\n",
       "    </tr>\n",
       "    <tr>\n",
       "      <th>4</th>\n",
       "      <td>5</td>\n",
       "      <td>0.005</td>\n",
       "    </tr>\n",
       "    <tr>\n",
       "      <th>5</th>\n",
       "      <td>6</td>\n",
       "      <td>0.005</td>\n",
       "    </tr>\n",
       "    <tr>\n",
       "      <th>6</th>\n",
       "      <td>7</td>\n",
       "      <td>0.005</td>\n",
       "    </tr>\n",
       "    <tr>\n",
       "      <th>7</th>\n",
       "      <td>8</td>\n",
       "      <td>0.005</td>\n",
       "    </tr>\n",
       "    <tr>\n",
       "      <th>8</th>\n",
       "      <td>9</td>\n",
       "      <td>0.005</td>\n",
       "    </tr>\n",
       "    <tr>\n",
       "      <th>9</th>\n",
       "      <td>10</td>\n",
       "      <td>0.005</td>\n",
       "    </tr>\n",
       "  </tbody>\n",
       "</table>\n",
       "</div>"
      ],
      "text/plain": [
       "   id  label\n",
       "0   1  0.995\n",
       "1   2  0.995\n",
       "2   3  0.995\n",
       "3   4  0.995\n",
       "4   5  0.005\n",
       "5   6  0.005\n",
       "6   7  0.005\n",
       "7   8  0.005\n",
       "8   9  0.005\n",
       "9  10  0.005"
      ]
     },
     "execution_count": 56,
     "metadata": {},
     "output_type": "execute_result"
    }
   ],
   "source": [
    "df = pd.read_csv(\"sampleSubmission.csv\")\n",
    "\n",
    "for i, fname in enumerate(test_data_gen.filenames):\n",
    "    index = int(fname[fname.rfind(os.sep) + 1:fname.rfind('.')])\n",
    "    df.loc[index-1, ['label']] = y_pred_clip[i]\n",
    "\n",
    "df.to_csv('pred.csv', index=None)\n",
    "df.head(10)\n"
   ]
  },
  {
   "cell_type": "code",
   "execution_count": null,
   "metadata": {},
   "outputs": [],
   "source": []
  }
 ],
 "metadata": {
  "kernelspec": {
   "display_name": "Python 3",
   "language": "python",
   "name": "python3"
  },
  "language_info": {
   "codemirror_mode": {
    "name": "ipython",
    "version": 3
   },
   "file_extension": ".py",
   "mimetype": "text/x-python",
   "name": "python",
   "nbconvert_exporter": "python",
   "pygments_lexer": "ipython3",
   "version": "3.6.4"
  }
 },
 "nbformat": 4,
 "nbformat_minor": 2
}
