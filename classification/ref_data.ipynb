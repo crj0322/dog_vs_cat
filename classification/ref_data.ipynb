{
 "cells": [
  {
   "cell_type": "markdown",
   "metadata": {},
   "source": [
    "# 数据整理"
   ]
  },
  {
   "cell_type": "code",
   "execution_count": 1,
   "metadata": {},
   "outputs": [],
   "source": [
    "import os\n",
    "import shutil\n",
    "import random\n",
    "import numpy as np\n",
    "import json\n",
    "import matplotlib.pyplot as plt\n",
    "\n",
    "%matplotlib inline"
   ]
  },
  {
   "cell_type": "markdown",
   "metadata": {},
   "source": [
    "### 将数据链接到'train\\cat'，'train\\dog'，'test'文件夹："
   ]
  },
  {
   "cell_type": "code",
   "execution_count": 2,
   "metadata": {},
   "outputs": [],
   "source": [
    "outliers = []"
   ]
  },
  {
   "cell_type": "code",
   "execution_count": 3,
   "metadata": {
    "scrolled": true
   },
   "outputs": [
    {
     "name": "stdout",
     "output_type": "stream",
     "text": [
      "116\n"
     ]
    }
   ],
   "source": [
    "if os.path.exists('outliers_total.json'):\n",
    "    with open('outliers_total.json', 'r') as f:\n",
    "        outliers = json.load(f)\n",
    "        print(len(outliers))"
   ]
  },
  {
   "cell_type": "code",
   "execution_count": 5,
   "metadata": {},
   "outputs": [],
   "source": [
    "src_train_dir = '../dog_vs_cat_data/train'\n",
    "src_test_dir = '../dog_vs_cat_data/test1'\n",
    "src_crop_dir = 'crop_data'\n",
    "des_train_dir = 'train'\n",
    "des_test_dir = 'test'\n",
    "\n",
    "cur_path = os.getcwd()\n",
    "\n",
    "# ref train data\n",
    "if os.path.exists(des_train_dir):\n",
    "    shutil.rmtree(des_train_dir)\n",
    "\n",
    "os.mkdir(des_train_dir)\n",
    "des_train_cat_dir = des_train_dir + '/cat'\n",
    "des_train_dog_dir = des_train_dir + '/dog'\n",
    "os.mkdir(des_train_cat_dir)\n",
    "os.mkdir(des_train_dog_dir)\n",
    "train_data_list = os.listdir(src_train_dir)\n",
    "\n",
    "for file_name in train_data_list:\n",
    "    if file_name in outliers:\n",
    "        continue\n",
    "    if file_name.startswith('cat'):\n",
    "        os.symlink(cur_path + '/' + src_train_dir + '/' + file_name, des_train_cat_dir + '/' + file_name)\n",
    "    else:\n",
    "        os.symlink(cur_path + '/' + src_train_dir + '/' + file_name, des_train_dog_dir + '/' + file_name)\n",
    "        \n",
    "# ref crop_data\n",
    "crop_data_list = []\n",
    "if os.path.exists(src_crop_dir) and len(outliers):\n",
    "    crop_data_list = os.listdir(src_crop_dir)\n",
    "\n",
    "for file_name in crop_data_list:\n",
    "    if file_name.startswith('cat'):\n",
    "        os.symlink(cur_path + '/' + src_crop_dir + '/' + file_name, des_train_cat_dir + '/' + file_name)\n",
    "    else:\n",
    "        os.symlink(cur_path + '/' + src_crop_dir + '/' + file_name, des_train_dog_dir + '/' + file_name)\n",
    "\n",
    "# ref test data\n",
    "if os.path.exists(des_test_dir):\n",
    "    shutil.rmtree(des_test_dir)\n",
    "\n",
    "os.mkdir(des_test_dir)\n",
    "os.symlink(cur_path + '/' + src_test_dir, des_test_dir + '/test', target_is_directory=True)\n",
    "\n",
    "del train_data_list\n",
    "del crop_data_list"
   ]
  },
  {
   "cell_type": "markdown",
   "metadata": {},
   "source": [
    "### 分割数据至\"train_split\"、\"val_split\"文件夹："
   ]
  },
  {
   "cell_type": "code",
   "execution_count": 10,
   "metadata": {},
   "outputs": [],
   "source": [
    "def random_sample_data(total_num: int, val_split=0.2, seed=2018):\n",
    "    val_num = round(total_num * val_split)\n",
    "    index_list = [i for i in range(total_num)]\n",
    "    random.seed(seed)\n",
    "    random.shuffle(index_list)\n",
    "        \n",
    "    return index_list[val_num:], index_list[:val_num]\n"
   ]
  },
  {
   "cell_type": "code",
   "execution_count": 17,
   "metadata": {},
   "outputs": [],
   "source": [
    "src_train_dir = '../dog_vs_cat_data/train'\n",
    "des_train_split_dir = 'train_split'\n",
    "des_val_split_dir = 'val_split'\n",
    "cur_path = os.getcwd()\n",
    "\n",
    "cat_file_list = os.listdir('train/cat')\n",
    "dog_file_list = os.listdir('train/dog')\n",
    "\n",
    "# split\n",
    "cat_train_index_list, cat_val_index_list = random_sample_data(len(cat_file_list))\n",
    "dog_train_index_list, dog_val_index_list = random_sample_data(len(dog_file_list))\n",
    "\n",
    "# ref data\n",
    "if os.path.exists(des_train_split_dir):\n",
    "    shutil.rmtree(des_train_split_dir)\n",
    "if os.path.exists(des_val_split_dir):\n",
    "    shutil.rmtree(des_val_split_dir)\n",
    "    \n",
    "os.mkdir(des_train_split_dir)\n",
    "des_train_split_cat_dir = des_train_split_dir + '/cat'\n",
    "des_train_split_dog_dir = des_train_split_dir + '/dog'\n",
    "os.mkdir(des_train_split_cat_dir)\n",
    "os.mkdir(des_train_split_dog_dir)\n",
    "os.mkdir(des_val_split_dir)\n",
    "des_val_split_cat_dir = des_val_split_dir + '/cat'\n",
    "des_val_split_dog_dir = des_val_split_dir + '/dog'\n",
    "os.mkdir(des_val_split_cat_dir)\n",
    "os.mkdir(des_val_split_dog_dir)\n",
    "    \n",
    "# cat\n",
    "for i, file in enumerate(cat_file_list):\n",
    "    if i in cat_val_index_list:\n",
    "        os.symlink(os.readlink(cur_path + '/train/cat/' + file), des_val_split_cat_dir + '/' + file)\n",
    "    else:\n",
    "        os.symlink(os.readlink(cur_path + '/train/cat/' + file), des_train_split_cat_dir + '/' + file)\n",
    "    \n",
    "# dog\n",
    "for i, file in enumerate(dog_file_list):\n",
    "    if i in dog_val_index_list:\n",
    "        os.symlink(os.readlink(cur_path + '/train/dog/' + file), des_val_split_dog_dir + '/' + file)\n",
    "    else:\n",
    "        os.symlink(os.readlink(cur_path + '/train/dog/' + file), des_train_split_dog_dir + '/' + file)\n",
    "        "
   ]
  },
  {
   "cell_type": "markdown",
   "metadata": {},
   "source": [
    "### Verify:"
   ]
  },
  {
   "cell_type": "code",
   "execution_count": 18,
   "metadata": {},
   "outputs": [],
   "source": [
    "def verify_data_split(train_dir, val_dir):\n",
    "    train_file_list = os.listdir(train_dir)\n",
    "    val_file_list = os.listdir(val_dir)\n",
    "    assert len(set(train_file_list + val_file_list)) == len(train_file_list + val_file_list)\n",
    "    "
   ]
  },
  {
   "cell_type": "code",
   "execution_count": 19,
   "metadata": {},
   "outputs": [],
   "source": [
    "verify_data_split('train_split/dog', 'val_split/dog')\n",
    "verify_data_split('train_split/cat', 'val_split/cat')"
   ]
  },
  {
   "cell_type": "code",
   "execution_count": 20,
   "metadata": {},
   "outputs": [],
   "source": [
    "out_file = \"train_val_split.json\"\n",
    "with open(out_file, 'w') as f:\n",
    "    json.dump({'dog':{'train':dog_train_index_list, 'val':dog_val_index_list}, \n",
    "               'cat':{'train':cat_train_index_list, 'val':cat_val_index_list}}, f)"
   ]
  },
  {
   "cell_type": "code",
   "execution_count": 22,
   "metadata": {},
   "outputs": [],
   "source": [
    "def verify_file_list(json_list, file_list):\n",
    "    num = len(json_list)\n",
    "    assert num == len(file_list)\n",
    "    for i in range(num):\n",
    "        assert json_list[i] == file_list[i]\n",
    "        "
   ]
  },
  {
   "cell_type": "code",
   "execution_count": 23,
   "metadata": {},
   "outputs": [],
   "source": [
    "if os.path.exists('train_val_split.json'):\n",
    "    with open('train_val_split.json', 'r') as f:\n",
    "        data_dict = json.load(f)\n",
    "        dog_train = data_dict['dog']['train']\n",
    "        dog_val = data_dict['dog']['val']\n",
    "        cat_train = data_dict['cat']['train']\n",
    "        cat_val =  data_dict['cat']['val']\n",
    "        \n",
    "        verify_file_list(dog_train, dog_train_index_list)\n",
    "        verify_file_list(dog_val, dog_val_index_list)\n",
    "        verify_file_list(cat_train, cat_train_index_list)\n",
    "        verify_file_list(cat_val, cat_val_index_list)\n",
    "        "
   ]
  },
  {
   "cell_type": "code",
   "execution_count": null,
   "metadata": {},
   "outputs": [],
   "source": []
  }
 ],
 "metadata": {
  "kernelspec": {
   "display_name": "Python 3",
   "language": "python",
   "name": "python3"
  },
  "language_info": {
   "codemirror_mode": {
    "name": "ipython",
    "version": 3
   },
   "file_extension": ".py",
   "mimetype": "text/x-python",
   "name": "python",
   "nbconvert_exporter": "python",
   "pygments_lexer": "ipython3",
   "version": "3.6.4"
  }
 },
 "nbformat": 4,
 "nbformat_minor": 2
}
