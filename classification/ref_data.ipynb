{
 "cells": [
  {
   "cell_type": "markdown",
   "metadata": {},
   "source": [
    "# 数据整理"
   ]
  },
  {
   "cell_type": "code",
   "execution_count": 1,
   "metadata": {},
   "outputs": [],
   "source": [
    "import os\n",
    "import shutil\n",
    "import random\n",
    "import numpy as np\n",
    "import json\n",
    "import matplotlib.pyplot as plt\n",
    "\n",
    "%matplotlib inline"
   ]
  },
  {
   "cell_type": "code",
   "execution_count": 2,
   "metadata": {},
   "outputs": [],
   "source": [
    "def clear_dir(path: str):\n",
    "    if os.path.exists(path):\n",
    "        shutil.rmtree(path)\n",
    "        \n",
    "    os.mkdir(path)\n",
    "    "
   ]
  },
  {
   "cell_type": "code",
   "execution_count": 3,
   "metadata": {
    "scrolled": true
   },
   "outputs": [
    {
     "name": "stdout",
     "output_type": "stream",
     "text": [
      "116\n"
     ]
    }
   ],
   "source": [
    "outliers = []\n",
    "if os.path.exists('outliers_total.json'):\n",
    "    with open('outliers_total.json', 'r') as f:\n",
    "        outliers = json.load(f)\n",
    "        print(len(outliers))"
   ]
  },
  {
   "cell_type": "markdown",
   "metadata": {},
   "source": [
    "### 创建原始数据链接\n",
    "* 将数据链接到'train\\cat'，'train\\dog'，'test\\test'文件夹，用于flow_from_directory；\n",
    "* 去掉outliers；\n",
    "* 从'crop_data'目录链接裁剪数据。"
   ]
  },
  {
   "cell_type": "code",
   "execution_count": 5,
   "metadata": {},
   "outputs": [],
   "source": [
    "def ref_test_data():\n",
    "    src_dir = '../dog_vs_cat_data/test1'\n",
    "    des_dir = 'test'\n",
    "\n",
    "    cur_path = os.getcwd()\n",
    "    \n",
    "    clear_dir(des_dir)\n",
    "    os.symlink(cur_path + os.sep + src_dir, des_dir + os.sep + 'test', target_is_directory=True)\n",
    "\n",
    "    return\n"
   ]
  },
  {
   "cell_type": "code",
   "execution_count": 50,
   "metadata": {},
   "outputs": [],
   "source": [
    "def ref_train_data(class_name: str, outlier_list: list):\n",
    "    src_dir = '../dog_vs_cat_data/train'\n",
    "    src_crop_dir = 'crop_data'\n",
    "    des_dir = 'train'\n",
    "\n",
    "    cur_path = os.getcwd()\n",
    "\n",
    "    # clear dir\n",
    "    if not os.path.exists(des_dir):\n",
    "        os.mkdir(des_dir)\n",
    "        \n",
    "    des_dir = des_dir + os.sep + class_name\n",
    "    clear_dir(des_dir)\n",
    "    \n",
    "    # ref raw data\n",
    "    data_list = os.listdir(src_dir)\n",
    "\n",
    "    for file_name in data_list:\n",
    "        if file_name in outlier_list:\n",
    "            continue\n",
    "        elif file_name.startswith(class_name):\n",
    "            os.symlink(cur_path + os.sep + src_dir + os.sep + file_name, des_dir + os.sep + file_name)\n",
    "\n",
    "    # ref crop_data\n",
    "    crop_data_list = []\n",
    "    if os.path.exists(src_crop_dir):\n",
    "        crop_data_list = os.listdir(src_crop_dir)\n",
    "\n",
    "    for file_name in crop_data_list:\n",
    "        if file_name.startswith(class_name):\n",
    "            des_file = des_dir + os.sep + file_name\n",
    "            if os.path.exists(des_file):\n",
    "                print(\"crop file exists!\")\n",
    "            else:\n",
    "                os.symlink(cur_path + os.sep + src_crop_dir + os.sep + file_name, des_file)\n",
    "    \n",
    "    return\n"
   ]
  },
  {
   "cell_type": "code",
   "execution_count": 51,
   "metadata": {},
   "outputs": [],
   "source": [
    "ref_train_data('cat', outliers)\n",
    "ref_train_data('dog', outliers)\n",
    "ref_test_data()\n"
   ]
  },
  {
   "cell_type": "markdown",
   "metadata": {},
   "source": [
    "### 分割数据\n",
    "* 随机抽取20%数据至\"val\"文件夹\n",
    "* 剩余80%训练数据按1:9分为\"pretrain\"、\"finetune\"两部分"
   ]
  },
  {
   "cell_type": "code",
   "execution_count": 4,
   "metadata": {},
   "outputs": [],
   "source": [
    "def random_sample_data(total_num: int, val_split=0.2, pretrain_split=0.1, seed=2018):\n",
    "    val_num = round(total_num * val_split)\n",
    "    train_num = total_num - val_num\n",
    "    pretrain_num = round(pretrain_split * train_num)\n",
    "    \n",
    "    index_list = [i for i in range(total_num)]\n",
    "    random.seed(seed)\n",
    "    random.shuffle(index_list)\n",
    "    \n",
    "    return index_list[:pretrain_num], index_list[pretrain_num:train_num], index_list[train_num:]\n"
   ]
  },
  {
   "cell_type": "code",
   "execution_count": 5,
   "metadata": {},
   "outputs": [],
   "source": [
    "def split_train_data(class_name: str, val_split=0.2, pretrain_split=0.1):\n",
    "    src_dir = 'train' + os.sep + class_name + os.sep\n",
    "    pretrain_dir = 'pretrain'\n",
    "    finetune_dir = 'finetune'\n",
    "    val_dir = 'val'\n",
    "    cur_path = os.getcwd()\n",
    "\n",
    "    file_list = os.listdir('train' + os.sep + class_name)\n",
    "\n",
    "    # data split\n",
    "    pretrain_index_list, finetune_index_list, val_index_list = \\\n",
    "    random_sample_data(len(file_list), val_split=val_split, pretrain_split=pretrain_split)\n",
    "\n",
    "    # clear pretrain dir\n",
    "    if not os.path.exists(pretrain_dir):\n",
    "        os.mkdir(pretrain_dir)\n",
    "        \n",
    "    pretrain_dir = pretrain_dir + os.sep + class_name\n",
    "    clear_dir(pretrain_dir)\n",
    "    \n",
    "    # clear finetune dir\n",
    "    if not os.path.exists(finetune_dir):\n",
    "        os.mkdir(finetune_dir)\n",
    "        \n",
    "    finetune_dir = finetune_dir + os.sep + class_name\n",
    "    clear_dir(finetune_dir)\n",
    "    \n",
    "    # clear val dir\n",
    "    if not os.path.exists(val_dir):\n",
    "        os.mkdir(val_dir)\n",
    "        \n",
    "    val_dir = val_dir + os.sep + class_name\n",
    "    clear_dir(val_dir)\n",
    "    \n",
    "    # ref data\n",
    "    for i, file in enumerate(file_list):\n",
    "        if i in pretrain_index_list:\n",
    "            file_path = pretrain_dir + os.sep + file\n",
    "        elif i in finetune_index_list:\n",
    "            file_path = finetune_dir + os.sep + file\n",
    "        else:\n",
    "            file_path = val_dir + os.sep + file\n",
    "        \n",
    "        os.symlink(os.readlink(src_dir + file), file_path)\n",
    "\n",
    "    return\n"
   ]
  },
  {
   "cell_type": "code",
   "execution_count": 6,
   "metadata": {},
   "outputs": [],
   "source": [
    "split_train_data('cat')\n",
    "split_train_data('dog')\n",
    "        "
   ]
  },
  {
   "cell_type": "markdown",
   "metadata": {},
   "source": [
    "### Verify:"
   ]
  },
  {
   "cell_type": "code",
   "execution_count": 7,
   "metadata": {},
   "outputs": [],
   "source": [
    "def verify_data(class_name: str, outliers: list):\n",
    "    train_list = os.listdir('train' + os.sep + class_name)\n",
    "    crop_list = os.listdir('crop_data')\n",
    "    for file in crop_list:\n",
    "        if file.startswith(class_name):\n",
    "            train_list.remove(file)\n",
    "    \n",
    "    for file in outliers:\n",
    "        if file.startswith(class_name):\n",
    "            train_list.append(file)\n",
    "    \n",
    "    assert len(train_list) == len(set(train_list))\n",
    "    print(len(train_list))\n",
    "    "
   ]
  },
  {
   "cell_type": "code",
   "execution_count": 8,
   "metadata": {},
   "outputs": [
    {
     "name": "stdout",
     "output_type": "stream",
     "text": [
      "12500\n",
      "12500\n"
     ]
    }
   ],
   "source": [
    "verify_data('dog', outliers)\n",
    "verify_data('cat', outliers)"
   ]
  },
  {
   "cell_type": "code",
   "execution_count": 9,
   "metadata": {},
   "outputs": [],
   "source": [
    "def verify_data_split(class_name: str):\n",
    "    split_file_list=['pretrain', 'finetune', 'val']\n",
    "    total_file_list = []\n",
    "    for file_list in split_file_list:\n",
    "        total_file_list = total_file_list + os.listdir(file_list + os.sep + class_name)\n",
    "    \n",
    "    print(len(total_file_list))\n",
    "    assert len(set(total_file_list)) == len(total_file_list)\n",
    "    train_list = os.listdir('train' + os.sep + class_name)\n",
    "    assert len(total_file_list) == len(train_list)\n",
    "    "
   ]
  },
  {
   "cell_type": "code",
   "execution_count": 10,
   "metadata": {},
   "outputs": [
    {
     "name": "stdout",
     "output_type": "stream",
     "text": [
      "12465\n",
      "12430\n"
     ]
    }
   ],
   "source": [
    "verify_data_split('dog')\n",
    "verify_data_split('cat')"
   ]
  },
  {
   "cell_type": "code",
   "execution_count": null,
   "metadata": {},
   "outputs": [],
   "source": []
  }
 ],
 "metadata": {
  "kernelspec": {
   "display_name": "Python 3",
   "language": "python",
   "name": "python3"
  },
  "language_info": {
   "codemirror_mode": {
    "name": "ipython",
    "version": 3
   },
   "file_extension": ".py",
   "mimetype": "text/x-python",
   "name": "python",
   "nbconvert_exporter": "python",
   "pygments_lexer": "ipython3",
   "version": "3.6.4"
  }
 },
 "nbformat": 4,
 "nbformat_minor": 2
}
