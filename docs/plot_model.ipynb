{
 "cells": [
  {
   "cell_type": "code",
   "execution_count": 1,
   "metadata": {},
   "outputs": [
    {
     "name": "stderr",
     "output_type": "stream",
     "text": [
      "/home/wson/anaconda3/envs/tf/lib/python3.6/site-packages/h5py/__init__.py:36: FutureWarning: Conversion of the second argument of issubdtype from `float` to `np.floating` is deprecated. In future, it will be treated as `np.float64 == np.dtype(float).type`.\n",
      "  from ._conv import register_converters as _register_converters\n",
      "Using TensorFlow backend.\n"
     ]
    }
   ],
   "source": [
    "from keras.models import *\n",
    "from keras.layers import *\n",
    "from keras.preprocessing.image import *\n",
    "from keras.applications import *\n",
    "from IPython.display import SVG\n",
    "from keras.utils.vis_utils import model_to_dot, plot_model"
   ]
  },
  {
   "cell_type": "code",
   "execution_count": 2,
   "metadata": {},
   "outputs": [],
   "source": [
    "def build_model_base(MODEL, input_size: tuple, pre_process_func):\n",
    "    x_input = Input((input_size[0], input_size[1], 3))\n",
    "    x = Lambda(pre_process_func)(x_input)\n",
    "    \n",
    "    base_model = MODEL(include_top=False)\n",
    "    x = base_model(x)\n",
    "    x = GlobalAveragePooling2D()(x)\n",
    "    model = Model(x_input, x)\n",
    "    return model"
   ]
  },
  {
   "cell_type": "code",
   "execution_count": 2,
   "metadata": {},
   "outputs": [],
   "source": [
    "def build_top_model(input_size):\n",
    "    x_input = Input((input_size,))\n",
    "    x = Dropout(0.5)(x_input)\n",
    "    x = Dense(1, activation='sigmoid')(x)\n",
    "    model = Model(x_input, x)\n",
    "    return model"
   ]
  },
  {
   "cell_type": "code",
   "execution_count": 2,
   "metadata": {},
   "outputs": [],
   "source": [
    "def build_model(MODEL, input_size: tuple, pre_process_func):\n",
    "    x_input = Input((input_size[0], input_size[1], 3))\n",
    "    x = Lambda(pre_process_func)(x_input)\n",
    "    \n",
    "    base_model = MODEL(include_top=False)\n",
    "    x = base_model(x)\n",
    "    x = GlobalAveragePooling2D()(x)\n",
    "    x = Dropout(0.5)(x)\n",
    "    x = Dense(1, activation='sigmoid')(x)\n",
    "    model = Model(x_input, x)\n",
    "    return model"
   ]
  },
  {
   "cell_type": "code",
   "execution_count": 2,
   "metadata": {},
   "outputs": [],
   "source": [
    "def build_multi_model(input_size):\n",
    "    x_input_1 = Input((input_size[0],))\n",
    "    x_input_2 = Input((input_size[1],))\n",
    "    x_input_3 = Input((input_size[2],))\n",
    "    x = Concatenate()([x_input_1, x_input_2, x_input_3])\n",
    "    x = Dropout(0.5)(x)\n",
    "    x = Dense(1, activation='sigmoid')(x)\n",
    "    model = Model([x_input_1, x_input_2, x_input_3], x)\n",
    "    return model"
   ]
  },
  {
   "cell_type": "code",
   "execution_count": 5,
   "metadata": {},
   "outputs": [],
   "source": [
    "model = build_model(Xception, (299, 299), pre_process_func=xception.preprocess_input)"
   ]
  },
  {
   "cell_type": "code",
   "execution_count": 3,
   "metadata": {},
   "outputs": [],
   "source": [
    "model = build_top_model(2048)"
   ]
  },
  {
   "cell_type": "code",
   "execution_count": 3,
   "metadata": {},
   "outputs": [],
   "source": [
    "model = build_multi_model((2048, 2048, 1536))"
   ]
  },
  {
   "cell_type": "code",
   "execution_count": 7,
   "metadata": {},
   "outputs": [],
   "source": [
    "plot_model(model, show_shapes=True, show_layer_names=True, to_file='xception.png')"
   ]
  },
  {
   "cell_type": "code",
   "execution_count": 4,
   "metadata": {},
   "outputs": [
    {
     "data": {
      "image/svg+xml": [
       "<svg height=\"304pt\" viewBox=\"0.00 0.00 851.00 304.00\" width=\"851pt\" xmlns=\"http://www.w3.org/2000/svg\" xmlns:xlink=\"http://www.w3.org/1999/xlink\">\n",
       "<g class=\"graph\" id=\"graph0\" transform=\"scale(1 1) rotate(0) translate(4 300)\">\n",
       "<title>G</title>\n",
       "<polygon fill=\"white\" points=\"-4,4 -4,-300 847,-300 847,4 -4,4\" stroke=\"none\"/>\n",
       "<!-- 140384893938656 -->\n",
       "<g class=\"node\" id=\"node1\"><title>140384893938656</title>\n",
       "<polygon fill=\"none\" points=\"0,-249.5 0,-295.5 269,-295.5 269,-249.5 0,-249.5\" stroke=\"black\"/>\n",
       "<text font-family=\"Times,serif\" font-size=\"14.00\" text-anchor=\"middle\" x=\"62.5\" y=\"-268.8\">input_1: InputLayer</text>\n",
       "<polyline fill=\"none\" points=\"125,-249.5 125,-295.5 \" stroke=\"black\"/>\n",
       "<text font-family=\"Times,serif\" font-size=\"14.00\" text-anchor=\"middle\" x=\"152.5\" y=\"-280.3\">input:</text>\n",
       "<polyline fill=\"none\" points=\"125,-272.5 180,-272.5 \" stroke=\"black\"/>\n",
       "<text font-family=\"Times,serif\" font-size=\"14.00\" text-anchor=\"middle\" x=\"152.5\" y=\"-257.3\">output:</text>\n",
       "<polyline fill=\"none\" points=\"180,-249.5 180,-295.5 \" stroke=\"black\"/>\n",
       "<text font-family=\"Times,serif\" font-size=\"14.00\" text-anchor=\"middle\" x=\"224.5\" y=\"-280.3\">(None, 2048)</text>\n",
       "<polyline fill=\"none\" points=\"180,-272.5 269,-272.5 \" stroke=\"black\"/>\n",
       "<text font-family=\"Times,serif\" font-size=\"14.00\" text-anchor=\"middle\" x=\"224.5\" y=\"-257.3\">(None, 2048)</text>\n",
       "</g>\n",
       "<!-- 140384893939328 -->\n",
       "<g class=\"node\" id=\"node4\"><title>140384893939328</title>\n",
       "<polygon fill=\"none\" points=\"180.5,-166.5 180.5,-212.5 662.5,-212.5 662.5,-166.5 180.5,-166.5\" stroke=\"black\"/>\n",
       "<text font-family=\"Times,serif\" font-size=\"14.00\" text-anchor=\"middle\" x=\"264.5\" y=\"-185.8\">concatenate_1: Concatenate</text>\n",
       "<polyline fill=\"none\" points=\"348.5,-166.5 348.5,-212.5 \" stroke=\"black\"/>\n",
       "<text font-family=\"Times,serif\" font-size=\"14.00\" text-anchor=\"middle\" x=\"376\" y=\"-197.3\">input:</text>\n",
       "<polyline fill=\"none\" points=\"348.5,-189.5 403.5,-189.5 \" stroke=\"black\"/>\n",
       "<text font-family=\"Times,serif\" font-size=\"14.00\" text-anchor=\"middle\" x=\"376\" y=\"-174.3\">output:</text>\n",
       "<polyline fill=\"none\" points=\"403.5,-166.5 403.5,-212.5 \" stroke=\"black\"/>\n",
       "<text font-family=\"Times,serif\" font-size=\"14.00\" text-anchor=\"middle\" x=\"533\" y=\"-197.3\">[(None, 2048), (None, 2048), (None, 1536)]</text>\n",
       "<polyline fill=\"none\" points=\"403.5,-189.5 662.5,-189.5 \" stroke=\"black\"/>\n",
       "<text font-family=\"Times,serif\" font-size=\"14.00\" text-anchor=\"middle\" x=\"533\" y=\"-174.3\">(None, 5632)</text>\n",
       "</g>\n",
       "<!-- 140384893938656&#45;&gt;140384893939328 -->\n",
       "<g class=\"edge\" id=\"edge1\"><title>140384893938656-&gt;140384893939328</title>\n",
       "<path d=\"M212.545,-249.473C250.035,-238.893 295.111,-226.171 333.785,-215.256\" fill=\"none\" stroke=\"black\"/>\n",
       "<polygon fill=\"black\" points=\"334.797,-218.607 343.471,-212.522 332.896,-211.87 334.797,-218.607\" stroke=\"black\"/>\n",
       "</g>\n",
       "<!-- 140384893939440 -->\n",
       "<g class=\"node\" id=\"node2\"><title>140384893939440</title>\n",
       "<polygon fill=\"none\" points=\"287,-249.5 287,-295.5 556,-295.5 556,-249.5 287,-249.5\" stroke=\"black\"/>\n",
       "<text font-family=\"Times,serif\" font-size=\"14.00\" text-anchor=\"middle\" x=\"349.5\" y=\"-268.8\">input_2: InputLayer</text>\n",
       "<polyline fill=\"none\" points=\"412,-249.5 412,-295.5 \" stroke=\"black\"/>\n",
       "<text font-family=\"Times,serif\" font-size=\"14.00\" text-anchor=\"middle\" x=\"439.5\" y=\"-280.3\">input:</text>\n",
       "<polyline fill=\"none\" points=\"412,-272.5 467,-272.5 \" stroke=\"black\"/>\n",
       "<text font-family=\"Times,serif\" font-size=\"14.00\" text-anchor=\"middle\" x=\"439.5\" y=\"-257.3\">output:</text>\n",
       "<polyline fill=\"none\" points=\"467,-249.5 467,-295.5 \" stroke=\"black\"/>\n",
       "<text font-family=\"Times,serif\" font-size=\"14.00\" text-anchor=\"middle\" x=\"511.5\" y=\"-280.3\">(None, 2048)</text>\n",
       "<polyline fill=\"none\" points=\"467,-272.5 556,-272.5 \" stroke=\"black\"/>\n",
       "<text font-family=\"Times,serif\" font-size=\"14.00\" text-anchor=\"middle\" x=\"511.5\" y=\"-257.3\">(None, 2048)</text>\n",
       "</g>\n",
       "<!-- 140384893939440&#45;&gt;140384893939328 -->\n",
       "<g class=\"edge\" id=\"edge2\"><title>140384893939440-&gt;140384893939328</title>\n",
       "<path d=\"M421.5,-249.366C421.5,-241.152 421.5,-231.658 421.5,-222.725\" fill=\"none\" stroke=\"black\"/>\n",
       "<polygon fill=\"black\" points=\"425,-222.607 421.5,-212.607 418,-222.607 425,-222.607\" stroke=\"black\"/>\n",
       "</g>\n",
       "<!-- 140384893939048 -->\n",
       "<g class=\"node\" id=\"node3\"><title>140384893939048</title>\n",
       "<polygon fill=\"none\" points=\"574,-249.5 574,-295.5 843,-295.5 843,-249.5 574,-249.5\" stroke=\"black\"/>\n",
       "<text font-family=\"Times,serif\" font-size=\"14.00\" text-anchor=\"middle\" x=\"636.5\" y=\"-268.8\">input_3: InputLayer</text>\n",
       "<polyline fill=\"none\" points=\"699,-249.5 699,-295.5 \" stroke=\"black\"/>\n",
       "<text font-family=\"Times,serif\" font-size=\"14.00\" text-anchor=\"middle\" x=\"726.5\" y=\"-280.3\">input:</text>\n",
       "<polyline fill=\"none\" points=\"699,-272.5 754,-272.5 \" stroke=\"black\"/>\n",
       "<text font-family=\"Times,serif\" font-size=\"14.00\" text-anchor=\"middle\" x=\"726.5\" y=\"-257.3\">output:</text>\n",
       "<polyline fill=\"none\" points=\"754,-249.5 754,-295.5 \" stroke=\"black\"/>\n",
       "<text font-family=\"Times,serif\" font-size=\"14.00\" text-anchor=\"middle\" x=\"798.5\" y=\"-280.3\">(None, 1536)</text>\n",
       "<polyline fill=\"none\" points=\"754,-272.5 843,-272.5 \" stroke=\"black\"/>\n",
       "<text font-family=\"Times,serif\" font-size=\"14.00\" text-anchor=\"middle\" x=\"798.5\" y=\"-257.3\">(None, 1536)</text>\n",
       "</g>\n",
       "<!-- 140384893939048&#45;&gt;140384893939328 -->\n",
       "<g class=\"edge\" id=\"edge3\"><title>140384893939048-&gt;140384893939328</title>\n",
       "<path d=\"M630.455,-249.473C592.965,-238.893 547.889,-226.171 509.215,-215.256\" fill=\"none\" stroke=\"black\"/>\n",
       "<polygon fill=\"black\" points=\"510.104,-211.87 499.529,-212.522 508.203,-218.607 510.104,-211.87\" stroke=\"black\"/>\n",
       "</g>\n",
       "<!-- 140384893939552 -->\n",
       "<g class=\"node\" id=\"node5\"><title>140384893939552</title>\n",
       "<polygon fill=\"none\" points=\"287,-83.5 287,-129.5 556,-129.5 556,-83.5 287,-83.5\" stroke=\"black\"/>\n",
       "<text font-family=\"Times,serif\" font-size=\"14.00\" text-anchor=\"middle\" x=\"349.5\" y=\"-102.8\">dropout_1: Dropout</text>\n",
       "<polyline fill=\"none\" points=\"412,-83.5 412,-129.5 \" stroke=\"black\"/>\n",
       "<text font-family=\"Times,serif\" font-size=\"14.00\" text-anchor=\"middle\" x=\"439.5\" y=\"-114.3\">input:</text>\n",
       "<polyline fill=\"none\" points=\"412,-106.5 467,-106.5 \" stroke=\"black\"/>\n",
       "<text font-family=\"Times,serif\" font-size=\"14.00\" text-anchor=\"middle\" x=\"439.5\" y=\"-91.3\">output:</text>\n",
       "<polyline fill=\"none\" points=\"467,-83.5 467,-129.5 \" stroke=\"black\"/>\n",
       "<text font-family=\"Times,serif\" font-size=\"14.00\" text-anchor=\"middle\" x=\"511.5\" y=\"-114.3\">(None, 5632)</text>\n",
       "<polyline fill=\"none\" points=\"467,-106.5 556,-106.5 \" stroke=\"black\"/>\n",
       "<text font-family=\"Times,serif\" font-size=\"14.00\" text-anchor=\"middle\" x=\"511.5\" y=\"-91.3\">(None, 5632)</text>\n",
       "</g>\n",
       "<!-- 140384893939328&#45;&gt;140384893939552 -->\n",
       "<g class=\"edge\" id=\"edge4\"><title>140384893939328-&gt;140384893939552</title>\n",
       "<path d=\"M421.5,-166.366C421.5,-158.152 421.5,-148.658 421.5,-139.725\" fill=\"none\" stroke=\"black\"/>\n",
       "<polygon fill=\"black\" points=\"425,-139.607 421.5,-129.607 418,-139.607 425,-139.607\" stroke=\"black\"/>\n",
       "</g>\n",
       "<!-- 140384893939664 -->\n",
       "<g class=\"node\" id=\"node6\"><title>140384893939664</title>\n",
       "<polygon fill=\"none\" points=\"298.5,-0.5 298.5,-46.5 544.5,-46.5 544.5,-0.5 298.5,-0.5\" stroke=\"black\"/>\n",
       "<text font-family=\"Times,serif\" font-size=\"14.00\" text-anchor=\"middle\" x=\"349.5\" y=\"-19.8\">dense_1: Dense</text>\n",
       "<polyline fill=\"none\" points=\"400.5,-0.5 400.5,-46.5 \" stroke=\"black\"/>\n",
       "<text font-family=\"Times,serif\" font-size=\"14.00\" text-anchor=\"middle\" x=\"428\" y=\"-31.3\">input:</text>\n",
       "<polyline fill=\"none\" points=\"400.5,-23.5 455.5,-23.5 \" stroke=\"black\"/>\n",
       "<text font-family=\"Times,serif\" font-size=\"14.00\" text-anchor=\"middle\" x=\"428\" y=\"-8.3\">output:</text>\n",
       "<polyline fill=\"none\" points=\"455.5,-0.5 455.5,-46.5 \" stroke=\"black\"/>\n",
       "<text font-family=\"Times,serif\" font-size=\"14.00\" text-anchor=\"middle\" x=\"500\" y=\"-31.3\">(None, 5632)</text>\n",
       "<polyline fill=\"none\" points=\"455.5,-23.5 544.5,-23.5 \" stroke=\"black\"/>\n",
       "<text font-family=\"Times,serif\" font-size=\"14.00\" text-anchor=\"middle\" x=\"500\" y=\"-8.3\">(None, 1)</text>\n",
       "</g>\n",
       "<!-- 140384893939552&#45;&gt;140384893939664 -->\n",
       "<g class=\"edge\" id=\"edge5\"><title>140384893939552-&gt;140384893939664</title>\n",
       "<path d=\"M421.5,-83.3664C421.5,-75.1516 421.5,-65.6579 421.5,-56.7252\" fill=\"none\" stroke=\"black\"/>\n",
       "<polygon fill=\"black\" points=\"425,-56.6068 421.5,-46.6068 418,-56.6069 425,-56.6068\" stroke=\"black\"/>\n",
       "</g>\n",
       "</g>\n",
       "</svg>"
      ],
      "text/plain": [
       "<IPython.core.display.SVG object>"
      ]
     },
     "execution_count": 4,
     "metadata": {},
     "output_type": "execute_result"
    }
   ],
   "source": [
    "SVG(model_to_dot(model, show_shapes=True).create(prog='dot', format='svg'))"
   ]
  },
  {
   "cell_type": "code",
   "execution_count": null,
   "metadata": {},
   "outputs": [],
   "source": []
  }
 ],
 "metadata": {
  "kernelspec": {
   "display_name": "Python 3",
   "language": "python",
   "name": "python3"
  },
  "language_info": {
   "codemirror_mode": {
    "name": "ipython",
    "version": 3
   },
   "file_extension": ".py",
   "mimetype": "text/x-python",
   "name": "python",
   "nbconvert_exporter": "python",
   "pygments_lexer": "ipython3",
   "version": "3.6.4"
  }
 },
 "nbformat": 4,
 "nbformat_minor": 2
}
